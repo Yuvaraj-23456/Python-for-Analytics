{
 "cells": [
  {
   "cell_type": "markdown",
   "metadata": {
    "id": "OZrLwN-XOMXH"
   },
   "source": [
    "![GL logo.png](data:image/png;base64,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)\n",
    "\n",
    "Proprietary content. © Great Learning. All Rights Reserved. Unauthorized use or distribution prohibited."
   ]
  },
  {
   "cell_type": "markdown",
   "metadata": {
    "id": "fcaed390"
   },
   "source": [
    "\n",
    "# <font color='green'> **Course 2: Week 02 - Revision** </font>"
   ]
  },
  {
   "cell_type": "markdown",
   "metadata": {
    "id": "3wzb59v2OMXM"
   },
   "source": [
    "## Table Of Contents\n",
    "### <font color='blue'> Exception Handling - Examples   \n",
    "* NameError  \n",
    "* ZeroDivisonError  \n",
    "* IndexError  \n",
    "* ValueError  \n",
    "* Using try and except block  \n",
    "* Raising exception manually  \n",
    "</font>  \n",
    "\n",
    "### <font color='blue'> Functions - Practice questions   \n",
    "* Lambda function  \n",
    "* Supporting functions  \n",
    "    * map  \n",
    "    * filter\n",
    "    * reduce\n",
    "</font>  \n",
    "\n",
    "### <font color='blue'> Numpy   \n",
    "* Practice questions    \n",
    "</font>  \n"
   ]
  },
  {
   "cell_type": "markdown",
   "metadata": {
    "id": "f8230e84"
   },
   "source": [
    "### Exception Handling - Examples"
   ]
  },
  {
   "cell_type": "markdown",
   "metadata": {
    "id": "48715790"
   },
   "source": [
    "<font color='green'> **NameError** </font>"
   ]
  },
  {
   "cell_type": "code",
   "execution_count": 2,
   "metadata": {
    "colab": {
     "base_uri": "https://localhost:8080/",
     "height": 165
    },
    "executionInfo": {
     "elapsed": 409,
     "status": "error",
     "timestamp": 1677555974175,
     "user": {
      "displayName": "V. Arun Kumar",
      "userId": "02991517788843717529"
     },
     "user_tz": -330
    },
    "id": "a79fadd5",
    "outputId": "44e657e5-7470-445b-beee-2437ebc0d0a0"
   },
   "outputs": [
    {
     "ename": "NameError",
     "evalue": "ignored",
     "output_type": "error",
     "traceback": [
      "\u001b[0;31m---------------------------------------------------------------------------\u001b[0m",
      "\u001b[0;31mNameError\u001b[0m                                 Traceback (most recent call last)",
      "\u001b[0;32m<ipython-input-2-9ba126b17b03>\u001b[0m in \u001b[0;36m<module>\u001b[0;34m\u001b[0m\n\u001b[0;32m----> 1\u001b[0;31m \u001b[0mprint\u001b[0m\u001b[0;34m(\u001b[0m\u001b[0mname\u001b[0m\u001b[0;34m)\u001b[0m\u001b[0;34m\u001b[0m\u001b[0;34m\u001b[0m\u001b[0m\n\u001b[0m",
      "\u001b[0;31mNameError\u001b[0m: name 'name' is not defined"
     ]
    }
   ],
   "source": [
    "print(name)"
   ]
  },
  {
   "cell_type": "markdown",
   "metadata": {
    "id": "wk8Fw-8GOMXO"
   },
   "source": [
    "<font color='green'> **ZeroDivisionError** </font>"
   ]
  },
  {
   "cell_type": "code",
   "execution_count": 3,
   "metadata": {
    "colab": {
     "base_uri": "https://localhost:8080/",
     "height": 165
    },
    "executionInfo": {
     "elapsed": 636,
     "status": "error",
     "timestamp": 1677555975387,
     "user": {
      "displayName": "V. Arun Kumar",
      "userId": "02991517788843717529"
     },
     "user_tz": -330
    },
    "id": "53e64a8f",
    "outputId": "25183e82-f5b8-4093-a375-3bd33eba8a15"
   },
   "outputs": [
    {
     "ename": "ZeroDivisionError",
     "evalue": "ignored",
     "output_type": "error",
     "traceback": [
      "\u001b[0;31m---------------------------------------------------------------------------\u001b[0m",
      "\u001b[0;31mZeroDivisionError\u001b[0m                         Traceback (most recent call last)",
      "\u001b[0;32m<ipython-input-3-cd759d3fcf39>\u001b[0m in \u001b[0;36m<module>\u001b[0;34m\u001b[0m\n\u001b[0;32m----> 1\u001b[0;31m \u001b[0;36m10\u001b[0m \u001b[0;34m/\u001b[0m \u001b[0;36m0\u001b[0m\u001b[0;34m\u001b[0m\u001b[0;34m\u001b[0m\u001b[0m\n\u001b[0m",
      "\u001b[0;31mZeroDivisionError\u001b[0m: division by zero"
     ]
    }
   ],
   "source": [
    "10 / 0"
   ]
  },
  {
   "cell_type": "markdown",
   "metadata": {
    "id": "pmpOxjbN8SvK"
   },
   "source": [
    "<font color='green'> **IndexError** </font>"
   ]
  },
  {
   "cell_type": "code",
   "execution_count": 9,
   "metadata": {
    "colab": {
     "base_uri": "https://localhost:8080/",
     "height": 182
    },
    "executionInfo": {
     "elapsed": 5,
     "status": "error",
     "timestamp": 1677556000344,
     "user": {
      "displayName": "V. Arun Kumar",
      "userId": "02991517788843717529"
     },
     "user_tz": -330
    },
    "id": "6wi3NMDZ8B-5",
    "outputId": "c679773f-3657-4678-fe91-071e2af355d5"
   },
   "outputs": [
    {
     "ename": "IndexError",
     "evalue": "ignored",
     "output_type": "error",
     "traceback": [
      "\u001b[0;31m---------------------------------------------------------------------------\u001b[0m",
      "\u001b[0;31mIndexError\u001b[0m                                Traceback (most recent call last)",
      "\u001b[0;32m<ipython-input-9-4b237c8f8f11>\u001b[0m in \u001b[0;36m<module>\u001b[0;34m\u001b[0m\n\u001b[1;32m      1\u001b[0m \u001b[0mlst\u001b[0m \u001b[0;34m=\u001b[0m \u001b[0;34m[\u001b[0m\u001b[0;34m'Amar'\u001b[0m\u001b[0;34m,\u001b[0m \u001b[0;34m'Akbar'\u001b[0m\u001b[0;34m,\u001b[0m \u001b[0;34m'Antony'\u001b[0m\u001b[0;34m]\u001b[0m\u001b[0;34m\u001b[0m\u001b[0;34m\u001b[0m\u001b[0m\n\u001b[0;32m----> 2\u001b[0;31m \u001b[0mprint\u001b[0m\u001b[0;34m(\u001b[0m\u001b[0mlst\u001b[0m\u001b[0;34m[\u001b[0m\u001b[0;36m3\u001b[0m\u001b[0;34m]\u001b[0m\u001b[0;34m)\u001b[0m\u001b[0;34m\u001b[0m\u001b[0;34m\u001b[0m\u001b[0m\n\u001b[0m",
      "\u001b[0;31mIndexError\u001b[0m: list index out of range"
     ]
    }
   ],
   "source": [
    "lst = ['Amar', 'Akbar', 'Antony']\n",
    "print(lst[3])"
   ]
  },
  {
   "cell_type": "markdown",
   "metadata": {
    "id": "7DZo5VWI8sZO"
   },
   "source": [
    "<font color='green'> **ValueError** </font>"
   ]
  },
  {
   "cell_type": "code",
   "execution_count": 10,
   "metadata": {
    "colab": {
     "base_uri": "https://localhost:8080/",
     "height": 182
    },
    "executionInfo": {
     "elapsed": 6,
     "status": "error",
     "timestamp": 1677556001368,
     "user": {
      "displayName": "V. Arun Kumar",
      "userId": "02991517788843717529"
     },
     "user_tz": -330
    },
    "id": "2aunltLM80Jm",
    "outputId": "0ee86f7a-387a-40af-f4c1-4bc5de1a6a70"
   },
   "outputs": [
    {
     "ename": "ValueError",
     "evalue": "ignored",
     "output_type": "error",
     "traceback": [
      "\u001b[0;31m---------------------------------------------------------------------------\u001b[0m",
      "\u001b[0;31mValueError\u001b[0m                                Traceback (most recent call last)",
      "\u001b[0;32m<ipython-input-10-7bd83ab443c5>\u001b[0m in \u001b[0;36m<module>\u001b[0;34m\u001b[0m\n\u001b[1;32m      1\u001b[0m \u001b[0;32mimport\u001b[0m \u001b[0mmath\u001b[0m\u001b[0;34m\u001b[0m\u001b[0;34m\u001b[0m\u001b[0m\n\u001b[0;32m----> 2\u001b[0;31m \u001b[0mprint\u001b[0m\u001b[0;34m(\u001b[0m\u001b[0mmath\u001b[0m\u001b[0;34m.\u001b[0m\u001b[0msqrt\u001b[0m\u001b[0;34m(\u001b[0m\u001b[0;34m-\u001b[0m\u001b[0;36m2\u001b[0m\u001b[0;34m)\u001b[0m\u001b[0;34m)\u001b[0m\u001b[0;34m\u001b[0m\u001b[0;34m\u001b[0m\u001b[0m\n\u001b[0m",
      "\u001b[0;31mValueError\u001b[0m: math domain error"
     ]
    }
   ],
   "source": [
    "import math\n",
    "print(math.sqrt(-2))"
   ]
  },
  {
   "cell_type": "markdown",
   "metadata": {
    "id": "265ab485"
   },
   "source": [
    "<font color='green'> **Using try and except block** </font>"
   ]
  },
  {
   "cell_type": "code",
   "execution_count": 4,
   "metadata": {
    "colab": {
     "base_uri": "https://localhost:8080/"
    },
    "executionInfo": {
     "elapsed": 27,
     "status": "ok",
     "timestamp": 1677555975389,
     "user": {
      "displayName": "V. Arun Kumar",
      "userId": "02991517788843717529"
     },
     "user_tz": -330
    },
    "id": "MhIuNINA8WR_",
    "outputId": "5661790e-90cc-4077-8070-1e783823de0f"
   },
   "outputs": [
    {
     "name": "stdout",
     "output_type": "stream",
     "text": [
      "list index out of range\n",
      "Enter a valid index value\n"
     ]
    }
   ],
   "source": [
    "try:\n",
    "    lst = ['Amar', 'Akbar', 'Antony']\n",
    "    print(lst[3])\n",
    "except Exception as e:\n",
    "    print(e)\n",
    "    print('Enter a valid index value')"
   ]
  },
  {
   "cell_type": "code",
   "execution_count": 5,
   "metadata": {
    "colab": {
     "base_uri": "https://localhost:8080/"
    },
    "executionInfo": {
     "elapsed": 22,
     "status": "ok",
     "timestamp": 1677555975390,
     "user": {
      "displayName": "V. Arun Kumar",
      "userId": "02991517788843717529"
     },
     "user_tz": -330
    },
    "id": "cvgjewPI8vsm",
    "outputId": "54f1468e-9661-4ef6-d3b9-f990a214f403"
   },
   "outputs": [
    {
     "name": "stdout",
     "output_type": "stream",
     "text": [
      "math domain error\n",
      "Am I executed?\n"
     ]
    }
   ],
   "source": [
    "import math\n",
    "try:\n",
    "    a = math.sqrt(-2)\n",
    "except Exception as e:\n",
    "    print(e)\n",
    "print('Am I executed?')"
   ]
  },
  {
   "cell_type": "markdown",
   "metadata": {
    "id": "XMUb3iABr3bG"
   },
   "source": [
    "1. Write a program that accepts two integer inputs. Divide the two numbers, first being the numerator and second being denominator. Make use of **try** and **except** to handle ***ZeroDivisionError.*** "
   ]
  },
  {
   "cell_type": "code",
   "execution_count": 6,
   "metadata": {
    "colab": {
     "base_uri": "https://localhost:8080/"
    },
    "executionInfo": {
     "elapsed": 7873,
     "status": "ok",
     "timestamp": 1677555983254,
     "user": {
      "displayName": "V. Arun Kumar",
      "userId": "02991517788843717529"
     },
     "user_tz": -330
    },
    "id": "a23a2eee",
    "outputId": "48a3da7f-561d-4577-bdf0-834ffe6ae2a6"
   },
   "outputs": [
    {
     "name": "stdout",
     "output_type": "stream",
     "text": [
      "Numerator: - 10\n",
      "Denominator: - 0\n",
      "Sorry ! You are dividing by zero \n"
     ]
    }
   ],
   "source": [
    "x= int(input(\"Numerator: - \"))\n",
    "y= int(input(\"Denominator: - \"))\n",
    "\n",
    "try:\n",
    "    result = x // y\n",
    "    print(\"Yeah ! Your answer is :\", result)\n",
    "except ZeroDivisionError:\n",
    "    print(\"Sorry ! You are dividing by zero \")"
   ]
  },
  {
   "cell_type": "markdown",
   "metadata": {
    "id": "3fEchaM0azTn"
   },
   "source": [
    "2. Write a program that will accept **age** as an input from a user. If a use types incorrect value the program throws an exception. After accepting the input do the following checks...  \n",
    "a. When a user types invalid value print a message \"Enter valid input value\"   \n",
    "b. If the age is **< 18** print a message \"You are too young to get a driving license\"   \n",
    "c. If the age is **> 18** print a message \"Welcome\"  \n",
    "d. Finally print the message \"Please rerun the code and enter the input values\"  "
   ]
  },
  {
   "cell_type": "code",
   "execution_count": 7,
   "metadata": {
    "colab": {
     "base_uri": "https://localhost:8080/"
    },
    "executionInfo": {
     "elapsed": 4034,
     "status": "ok",
     "timestamp": 1677555987278,
     "user": {
      "displayName": "V. Arun Kumar",
      "userId": "02991517788843717529"
     },
     "user_tz": -330
    },
    "id": "G3yuy1uJOMXQ",
    "outputId": "92bd841a-29e3-454b-89ee-72a491450a4e"
   },
   "outputs": [
    {
     "name": "stdout",
     "output_type": "stream",
     "text": [
      "Enter your age: 10\n",
      "You are too young.\n",
      "Please re run the code and enter input values\n"
     ]
    }
   ],
   "source": [
    "try:\n",
    "    age=int(input('Enter your age: '))\n",
    "except ValueError as e:\n",
    "    print ('Enter valid input value.')\n",
    "else:\n",
    "    if age < 18:\n",
    "        print('You are too young.')\n",
    "    else:\n",
    "        print('Welcome')\n",
    "finally:\n",
    "    print(\"Please re run the code and enter input values\")"
   ]
  },
  {
   "cell_type": "markdown",
   "metadata": {
    "id": "af970b68"
   },
   "source": [
    "<font color='green'> **Raising Exception manually** </font>"
   ]
  },
  {
   "cell_type": "code",
   "execution_count": 8,
   "metadata": {
    "colab": {
     "base_uri": "https://localhost:8080/",
     "height": 200
    },
    "executionInfo": {
     "elapsed": 28,
     "status": "error",
     "timestamp": 1677555987279,
     "user": {
      "displayName": "V. Arun Kumar",
      "userId": "02991517788843717529"
     },
     "user_tz": -330
    },
    "id": "53dde1fb",
    "outputId": "145c9381-8612-4bae-de5b-a9a72be573bf"
   },
   "outputs": [
    {
     "ename": "TypeError",
     "evalue": "ignored",
     "output_type": "error",
     "traceback": [
      "\u001b[0;31m---------------------------------------------------------------------------\u001b[0m",
      "\u001b[0;31mTypeError\u001b[0m                                 Traceback (most recent call last)",
      "\u001b[0;32m<ipython-input-8-301ac5f5eef2>\u001b[0m in \u001b[0;36m<module>\u001b[0;34m\u001b[0m\n\u001b[1;32m      2\u001b[0m \u001b[0;34m\u001b[0m\u001b[0m\n\u001b[1;32m      3\u001b[0m \u001b[0;32mif\u001b[0m \u001b[0;32mnot\u001b[0m \u001b[0mtype\u001b[0m\u001b[0;34m(\u001b[0m\u001b[0mx\u001b[0m\u001b[0;34m)\u001b[0m \u001b[0;32mis\u001b[0m \u001b[0mint\u001b[0m\u001b[0;34m:\u001b[0m\u001b[0;34m\u001b[0m\u001b[0;34m\u001b[0m\u001b[0m\n\u001b[0;32m----> 4\u001b[0;31m     \u001b[0;32mraise\u001b[0m \u001b[0mTypeError\u001b[0m\u001b[0;34m(\u001b[0m\u001b[0;34m\"Only integers are allowed\"\u001b[0m\u001b[0;34m)\u001b[0m\u001b[0;34m\u001b[0m\u001b[0;34m\u001b[0m\u001b[0m\n\u001b[0m",
      "\u001b[0;31mTypeError\u001b[0m: Only integers are allowed"
     ]
    }
   ],
   "source": [
    "x = \"Hello\"\n",
    "\n",
    "if not type(x) is int:\n",
    "    raise TypeError(\"Only integers are allowed\")"
   ]
  },
  {
   "cell_type": "markdown",
   "metadata": {
    "id": "UYereKkmh1pE"
   },
   "source": [
    "## Functions - Practice questions"
   ]
  },
  {
   "cell_type": "markdown",
   "metadata": {
    "id": "ewz9z--GQgh8"
   },
   "source": [
    "1. Write a Python function to multiply all the numbers in a list."
   ]
  },
  {
   "cell_type": "code",
   "execution_count": 5,
   "metadata": {
    "executionInfo": {
     "elapsed": 427,
     "status": "ok",
     "timestamp": 1677556018909,
     "user": {
      "displayName": "V. Arun Kumar",
      "userId": "02991517788843717529"
     },
     "user_tz": -330
    },
    "id": "rarqun_-OMXR"
   },
   "outputs": [
    {
     "name": "stdout",
     "output_type": "stream",
     "text": [
      "945\n"
     ]
    }
   ],
   "source": [
    "def multiply(list1):\n",
    "    output=1\n",
    "    for i in  (list1):\n",
    "         output=output*i\n",
    "    return output\n",
    "list1=[1,3,5,7,9]\n",
    "print(multiply(list1))"
   ]
  },
  {
   "cell_type": "markdown",
   "metadata": {
    "id": "u87J1CV1QgiC"
   },
   "source": [
    "2. Write a Python function to reverse a string \n",
    "i) use for loop\n",
    "ii) use while loop "
   ]
  },
  {
   "cell_type": "code",
   "execution_count": 14,
   "metadata": {
    "executionInfo": {
     "elapsed": 717,
     "status": "ok",
     "timestamp": 1677556020131,
     "user": {
      "displayName": "V. Arun Kumar",
      "userId": "02991517788843717529"
     },
     "user_tz": -330
    },
    "id": "BlZ3CK0RQgiD"
   },
   "outputs": [
    {
     "ename": "SyntaxError",
     "evalue": "invalid syntax (1350308494.py, line 4)",
     "output_type": "error",
     "traceback": [
      "\u001b[1;36m  Cell \u001b[1;32mIn[14], line 4\u001b[1;36m\u001b[0m\n\u001b[1;33m    s2=[::s1]\u001b[0m\n\u001b[1;37m        ^\u001b[0m\n\u001b[1;31mSyntaxError\u001b[0m\u001b[1;31m:\u001b[0m invalid syntax\n"
     ]
    }
   ],
   "source": [
    "def rev_string(s1):\n",
    "    output=\" \"\n",
    "    for i in s1:\n",
    "        \n",
    "        return output\n",
    "name=(int(input(\"Enter the name\")))\n",
    "print(rev_string(name))        "
   ]
  },
  {
   "cell_type": "code",
   "execution_count": 10,
   "metadata": {
    "executionInfo": {
     "elapsed": 20,
     "status": "ok",
     "timestamp": 1677556020132,
     "user": {
      "displayName": "V. Arun Kumar",
      "userId": "02991517788843717529"
     },
     "user_tz": -330
    },
    "id": "IYU59Vcj2MKj"
   },
   "outputs": [],
   "source": [
    "\n"
   ]
  },
  {
   "cell_type": "markdown",
   "metadata": {
    "id": "9SENBvktQgiG"
   },
   "source": [
    "3. Write a function to add and subtract two variables"
   ]
  },
  {
   "cell_type": "code",
   "execution_count": 13,
   "metadata": {
    "executionInfo": {
     "elapsed": 20,
     "status": "ok",
     "timestamp": 1677556020132,
     "user": {
      "displayName": "V. Arun Kumar",
      "userId": "02991517788843717529"
     },
     "user_tz": -330
    },
    "id": "ZJHOynZ3OMXR"
   },
   "outputs": [
    {
     "name": "stdout",
     "output_type": "stream",
     "text": [
      "Enter the number67\n",
      "Enter the number56\n",
      "123 Addition of two numbers\n",
      "11 Subtraction of two numbers\n",
      "(67, 56)\n"
     ]
    }
   ],
   "source": [
    "def add_and_sub(val1,val2):\n",
    "    print(val1+val2,\"Addition of two numbers\")\n",
    "    print(val1-val2,\"Subtraction of two numbers\")\n",
    "    return(val1,val2)\n",
    "val1=(int(input(\"Enter the number\")))\n",
    "val2=(int(input(\"Enter the number\")))\n",
    "print(add_and_sub(val1,val2))"
   ]
  },
  {
   "cell_type": "markdown",
   "metadata": {
    "id": "g2Z8raThQgiK"
   },
   "source": [
    " 4. Write a function to check whether the given number is divisible by 12 or not"
   ]
  },
  {
   "cell_type": "code",
   "execution_count": 15,
   "metadata": {
    "executionInfo": {
     "elapsed": 20,
     "status": "ok",
     "timestamp": 1677556020132,
     "user": {
      "displayName": "V. Arun Kumar",
      "userId": "02991517788843717529"
     },
     "user_tz": -330
    },
    "id": "8gNv8SK2OMXS"
   },
   "outputs": [
    {
     "name": "stdout",
     "output_type": "stream",
     "text": [
      "Enter the number144\n",
      "144 divisible by 12\n"
     ]
    }
   ],
   "source": [
    "def divisible(num):\n",
    "    if num%12==0:\n",
    "        print(num,\"divisible by 12\")\n",
    "    else:\n",
    "        print(num,\"not divisible by 12\")\n",
    "num=(int(input(\"Enter the number\")))\n",
    "divisible(num)"
   ]
  },
  {
   "cell_type": "markdown",
   "metadata": {
    "id": "RIsrZfBnQgiP"
   },
   "source": [
    "5. Write a function to calculate the number of days and weeks given the number of months"
   ]
  },
  {
   "cell_type": "code",
   "execution_count": 17,
   "metadata": {
    "executionInfo": {
     "elapsed": 20,
     "status": "ok",
     "timestamp": 1677556020133,
     "user": {
      "displayName": "V. Arun Kumar",
      "userId": "02991517788843717529"
     },
     "user_tz": -330
    },
    "id": "10Q-43t_OMXS"
   },
   "outputs": [
    {
     "name": "stdout",
     "output_type": "stream",
     "text": [
      "Enter the number of month :4\n",
      "120 Number of days in a month\n",
      "16 Number of weeks in a month\n"
     ]
    },
    {
     "data": {
      "text/plain": [
       "4"
      ]
     },
     "execution_count": 17,
     "metadata": {},
     "output_type": "execute_result"
    }
   ],
   "source": [
    "def dates_and_week(a):\n",
    "    print(a*30,\"Number of days in a month\")\n",
    "    print(a*4,\"Number of weeks in a month\")\n",
    "    return(a)\n",
    "a=(int(input(\"Enter the number of month :\")))\n",
    "dates_and_week(a)"
   ]
  },
  {
   "cell_type": "markdown",
   "metadata": {
    "id": "NIZ46IPLQgiU"
   },
   "source": [
    "6. Write a Python function to calculate the factorial of a given argument?"
   ]
  },
  {
   "cell_type": "code",
   "execution_count": 18,
   "metadata": {
    "executionInfo": {
     "elapsed": 20,
     "status": "ok",
     "timestamp": 1677556020133,
     "user": {
      "displayName": "V. Arun Kumar",
      "userId": "02991517788843717529"
     },
     "user_tz": -330
    },
    "id": "2XS1oM6kOMXS"
   },
   "outputs": [
    {
     "data": {
      "text/plain": [
       "40320"
      ]
     },
     "execution_count": 18,
     "metadata": {},
     "output_type": "execute_result"
    }
   ],
   "source": [
    "def factorial(num):\n",
    "    fact=1\n",
    "    for i in range(1,num+1):\n",
    "         fact=fact*i\n",
    "    return fact\n",
    "factorial(8)"
   ]
  },
  {
   "cell_type": "markdown",
   "metadata": {
    "id": "litT6sm5QgiX"
   },
   "source": [
    "7. Write a Python function to find the unique elements from the list   \n",
    "\\[1, 2, 3, 3, 3, 3, 4, 5, 4, 2, 4, 2, 4, 4, 2, 4, 5, 4, 34, 654, 5, 7, 6, 5, 4, 3\\]"
   ]
  },
  {
   "cell_type": "code",
   "execution_count": 20,
   "metadata": {
    "executionInfo": {
     "elapsed": 20,
     "status": "ok",
     "timestamp": 1677556020133,
     "user": {
      "displayName": "V. Arun Kumar",
      "userId": "02991517788843717529"
     },
     "user_tz": -330
    },
    "id": "q-761DglOMXT"
   },
   "outputs": [
    {
     "data": {
      "text/plain": [
       "[1, 2, 3, 4, 5, 34, 7, 6, 654]"
      ]
     },
     "execution_count": 20,
     "metadata": {},
     "output_type": "execute_result"
    }
   ],
   "source": [
    "def unique(list1):\n",
    "    li=set(list1)\n",
    "    list1=list(li)\n",
    "    return list1\n",
    "list2=[1, 2, 3, 3, 3, 3, 4, 5, 4, 2, 4, 2, 4, 4, 2, 4, 5, 4, 34, 654, 5, 7, 6, 5, 4, 3]\n",
    "unique(list2)"
   ]
  },
  {
   "cell_type": "markdown",
   "metadata": {
    "id": "VZ9GRyB3Qgic"
   },
   "source": [
    "8. Required arguments: - Write a function to calculate Simple Interest which accepts three arguments and returns the simple interest accordingly"
   ]
  },
  {
   "cell_type": "code",
   "execution_count": 2,
   "metadata": {
    "executionInfo": {
     "elapsed": 20,
     "status": "ok",
     "timestamp": 1677556020133,
     "user": {
      "displayName": "V. Arun Kumar",
      "userId": "02991517788843717529"
     },
     "user_tz": -330
    },
    "id": "yfdYnFKNOMXT"
   },
   "outputs": [
    {
     "name": "stdout",
     "output_type": "stream",
     "text": [
      "Principle value 8\n",
      "number of years 7\n",
      "rate of interest 9\n",
      "The SI is 5.04\n"
     ]
    },
    {
     "data": {
      "text/plain": [
       "5.04"
      ]
     },
     "execution_count": 2,
     "metadata": {},
     "output_type": "execute_result"
    }
   ],
   "source": [
    "def simple_interest(p,n,r):\n",
    "    print(\"Principle value\",p)\n",
    "    print(\"number of years\",n)\n",
    "    print(\"rate of interest\",r)\n",
    "    SI=(p*n*r)/100\n",
    "    print(\"The SI is\",SI)\n",
    "    return SI\n",
    "simple_interest(8,7,9)"
   ]
  },
  {
   "cell_type": "markdown",
   "metadata": {
    "id": "xbotxe88Qgig"
   },
   "source": [
    "9. Keyword arguments: - Write a function which accepts arguments as keyword arguments. The two arguments are are **name** and **message.** Expected output is \"printing the message with 'name' and  'message'\""
   ]
  },
  {
   "cell_type": "code",
   "execution_count": 6,
   "metadata": {
    "executionInfo": {
     "elapsed": 20,
     "status": "ok",
     "timestamp": 1677556020133,
     "user": {
      "displayName": "V. Arun Kumar",
      "userId": "02991517788843717529"
     },
     "user_tz": -330
    },
    "id": "34rGco43OMXT"
   },
   "outputs": [
    {
     "name": "stdout",
     "output_type": "stream",
     "text": [
      "The message iscode red\n"
     ]
    }
   ],
   "source": [
    "  def function(code):\n",
    "        print(\"The message is\" + code)\n",
    "function(code=\"code red\")     "
   ]
  },
  {
   "cell_type": "markdown",
   "metadata": {
    "id": "_LcvVsPrQgim"
   },
   "source": [
    "10. Default Arguments: - Write a function which will accept first argument **name** as a keyword argument and age as the default argument. Expected output is \"My name is 'name' and age is '75'\""
   ]
  },
  {
   "cell_type": "code",
   "execution_count": 7,
   "metadata": {
    "executionInfo": {
     "elapsed": 21,
     "status": "ok",
     "timestamp": 1677556020134,
     "user": {
      "displayName": "V. Arun Kumar",
      "userId": "02991517788843717529"
     },
     "user_tz": -330
    },
    "id": "pynjeh2eOMXT"
   },
   "outputs": [
    {
     "name": "stdout",
     "output_type": "stream",
     "text": [
      "My name isYuvaraj\n",
      "age is75\n"
     ]
    }
   ],
   "source": [
    "def function(age,Name):\n",
    "    print(\"My name is\"+ Name)\n",
    "    print(\"age is\"+ age)\n",
    "function(age=\"75\",Name=\"Yuvaraj\")    "
   ]
  },
  {
   "cell_type": "markdown",
   "metadata": {
    "id": "Vy6Y62ukGCvo"
   },
   "source": [
    "## Supporting Functions"
   ]
  },
  {
   "cell_type": "markdown",
   "metadata": {
    "id": "vlbfErrdQgip"
   },
   "source": [
    "### <font color='green'> **Lambda Function** </font>"
   ]
  },
  {
   "cell_type": "markdown",
   "metadata": {
    "id": "LfFUwKixQgi1"
   },
   "source": [
    "1. Get a number as an input from a user, identify whether it is odd or even? Print the message \"odd\" or \"even\" accordingly."
   ]
  },
  {
   "cell_type": "code",
   "execution_count": 11,
   "metadata": {
    "executionInfo": {
     "elapsed": 20,
     "status": "ok",
     "timestamp": 1677556020134,
     "user": {
      "displayName": "V. Arun Kumar",
      "userId": "02991517788843717529"
     },
     "user_tz": -330
    },
    "id": "s8HgnLo6Qgi1"
   },
   "outputs": [
    {
     "name": "stdout",
     "output_type": "stream",
     "text": [
      "Enter a number >> 45\n",
      "Odd Number\n"
     ]
    }
   ],
   "source": [
    "number = int(input(\"Enter a number >> \"))\n",
    "odd_even = lambda : \"Even Number\" if number % 2 == 0 else \"Odd Number\"\n",
    "\n",
    "print(odd_even())"
   ]
  },
  {
   "cell_type": "markdown",
   "metadata": {
    "id": "NBvh7UY8Qgi4"
   },
   "source": [
    "2. Accept an input from user and square it"
   ]
  },
  {
   "cell_type": "code",
   "execution_count": 17,
   "metadata": {
    "executionInfo": {
     "elapsed": 20,
     "status": "ok",
     "timestamp": 1677556020134,
     "user": {
      "displayName": "V. Arun Kumar",
      "userId": "02991517788843717529"
     },
     "user_tz": -330
    },
    "id": "xUG47hOsQgi5"
   },
   "outputs": [
    {
     "name": "stdout",
     "output_type": "stream",
     "text": [
      "[529, 2025, 4489, 625]\n"
     ]
    }
   ],
   "source": [
    "number=[23,45,67,25]\n",
    "op_number=list(map(lambda x:x**2,number))\n",
    "print(op_number)"
   ]
  },
  {
   "cell_type": "markdown",
   "metadata": {
    "id": "ht5XKfNXQgi8"
   },
   "source": [
    "3. Using logical operators, write a function that accepts an input from a user. If the input is between 0 and 10 print **True** otherwise print **False** "
   ]
  },
  {
   "cell_type": "code",
   "execution_count": 43,
   "metadata": {
    "executionInfo": {
     "elapsed": 20,
     "status": "ok",
     "timestamp": 1677556020134,
     "user": {
      "displayName": "V. Arun Kumar",
      "userId": "02991517788843717529"
     },
     "user_tz": -330
    },
    "id": "wjYpySTcQgi9"
   },
   "outputs": [
    {
     "name": "stdout",
     "output_type": "stream",
     "text": [
      "Enter the number67\n",
      "False\n"
     ]
    }
   ],
   "source": [
    "num=int(input(\"Enter the number\"))\n",
    "check=lambda x:x>=0 and x<=10\n",
    "print(check(num))"
   ]
  },
  {
   "cell_type": "code",
   "execution_count": 10,
   "metadata": {
    "executionInfo": {
     "elapsed": 20,
     "status": "ok",
     "timestamp": 1677556020134,
     "user": {
      "displayName": "V. Arun Kumar",
      "userId": "02991517788843717529"
     },
     "user_tz": -330
    },
    "id": "a2nkrH-yyGMP"
   },
   "outputs": [],
   "source": []
  },
  {
   "cell_type": "code",
   "execution_count": 10,
   "metadata": {
    "executionInfo": {
     "elapsed": 19,
     "status": "ok",
     "timestamp": 1677556020134,
     "user": {
      "displayName": "V. Arun Kumar",
      "userId": "02991517788843717529"
     },
     "user_tz": -330
    },
    "id": "_70c70xCo5xE"
   },
   "outputs": [],
   "source": []
  },
  {
   "cell_type": "markdown",
   "metadata": {
    "id": "OkNj5AiXQgjA"
   },
   "source": [
    "4. Accept an integer input from a user, add 5 to it and print it back?"
   ]
  },
  {
   "cell_type": "code",
   "execution_count": 44,
   "metadata": {
    "executionInfo": {
     "elapsed": 20,
     "status": "ok",
     "timestamp": 1677556020135,
     "user": {
      "displayName": "V. Arun Kumar",
      "userId": "02991517788843717529"
     },
     "user_tz": -330
    },
    "id": "1PIvlyTdQgjB"
   },
   "outputs": [
    {
     "name": "stdout",
     "output_type": "stream",
     "text": [
      "Enter the number6\n",
      "11\n"
     ]
    }
   ],
   "source": [
    "num=int(input(\"Enter the number\"))\n",
    "add_5=lambda x:x+5\n",
    "print(add_5(num))"
   ]
  },
  {
   "cell_type": "markdown",
   "metadata": {
    "id": "OujnXYLsQgjD"
   },
   "source": [
    "### <font color='green'> **Map** </font>"
   ]
  },
  {
   "cell_type": "markdown",
   "metadata": {
    "id": "KaskbPD5QgjH"
   },
   "source": [
    "1. Add the following two lists using map()  \n",
    "     The lists to be used are  \\[12, 24, 36\\] and \\[41, 54, 69\\] \n",
    "     \n",
    "Expected output is - \\[53, 78, 105\\]"
   ]
  },
  {
   "cell_type": "code",
   "execution_count": 19,
   "metadata": {
    "executionInfo": {
     "elapsed": 19,
     "status": "ok",
     "timestamp": 1677556020135,
     "user": {
      "displayName": "V. Arun Kumar",
      "userId": "02991517788843717529"
     },
     "user_tz": -330
    },
    "id": "0Zze5CElQgjI"
   },
   "outputs": [
    {
     "name": "stdout",
     "output_type": "stream",
     "text": [
      "[53, 78, 105]\n"
     ]
    }
   ],
   "source": [
    "l1=[12, 24, 36]\n",
    "l2=[41, 54, 69]\n",
    "l3=list(map(lambda x,y:x+y,l1,l2))\n",
    "print(l3)"
   ]
  },
  {
   "cell_type": "markdown",
   "metadata": {
    "id": "WR4oaWUFQgjL"
   },
   "source": [
    "2. Use Lambda and map functions to square each element in the given list\n",
    "\n",
    " \\[1, 2, 3, 4, 5, 6, 7\\]"
   ]
  },
  {
   "cell_type": "code",
   "execution_count": 20,
   "metadata": {
    "executionInfo": {
     "elapsed": 19,
     "status": "ok",
     "timestamp": 1677556020135,
     "user": {
      "displayName": "V. Arun Kumar",
      "userId": "02991517788843717529"
     },
     "user_tz": -330
    },
    "id": "VySlMocZQgjM"
   },
   "outputs": [
    {
     "name": "stdout",
     "output_type": "stream",
     "text": [
      "[1, 4, 9, 16, 25, 36, 49]\n"
     ]
    }
   ],
   "source": [
    "l4=[1, 2, 3, 4, 5, 6, 7]\n",
    "l5=list(map(lambda x:x**2,l4))\n",
    "print(l5)"
   ]
  },
  {
   "cell_type": "markdown",
   "metadata": {
    "id": "F4UwyBbzQgjQ"
   },
   "source": [
    "3. From the given list, using map function, identify odd and even numbers  \n",
    "\\[1, 2, 3, 4, 5, 6, 7\\]"
   ]
  },
  {
   "cell_type": "code",
   "execution_count": 24,
   "metadata": {
    "executionInfo": {
     "elapsed": 364,
     "status": "ok",
     "timestamp": 1677556046940,
     "user": {
      "displayName": "V. Arun Kumar",
      "userId": "02991517788843717529"
     },
     "user_tz": -330
    },
    "id": "J_M9iugaOMXV"
   },
   "outputs": [
    {
     "name": "stdout",
     "output_type": "stream",
     "text": [
      "Even Numbers are [False, True, False, True, False, True, False]\n",
      "Odd numbers are [True, False, True, False, True, False, True]\n"
     ]
    }
   ],
   "source": [
    "l6=[1, 2, 3, 4, 5, 6, 7]\n",
    "l7=list(map(lambda x:x%2==0,l6 ))\n",
    "print(\"Even Numbers are\",l7)\n",
    "l8=list(map(lambda x:x%2!=0,l6))\n",
    "print(\"Odd numbers are\",l8)"
   ]
  },
  {
   "cell_type": "markdown",
   "metadata": {
    "id": "3sPPwRkMQgjU"
   },
   "source": [
    "4. From the given list below, perform the Floor division using 7 on each elements of the list  \n",
    "\\[11, 12, 13, 14, 435, 6, 27\\]"
   ]
  },
  {
   "cell_type": "code",
   "execution_count": 25,
   "metadata": {
    "executionInfo": {
     "elapsed": 398,
     "status": "ok",
     "timestamp": 1677556047900,
     "user": {
      "displayName": "V. Arun Kumar",
      "userId": "02991517788843717529"
     },
     "user_tz": -330
    },
    "id": "GqMhnSmGOMXW"
   },
   "outputs": [
    {
     "name": "stdout",
     "output_type": "stream",
     "text": [
      "[1, 1, 1, 2, 62, 0, 3]\n"
     ]
    }
   ],
   "source": [
    "l9=[11, 12, 13, 14, 435, 6, 27]\n",
    "l10=list(map(lambda x:x//7,l9))\n",
    "print(l10)"
   ]
  },
  {
   "cell_type": "markdown",
   "metadata": {
    "id": "u5734lwxQgjX"
   },
   "source": [
    "### <font color='green'> **Filter** </font>"
   ]
  },
  {
   "cell_type": "markdown",
   "metadata": {
    "id": "WSodeSmEQgja"
   },
   "source": [
    "1. Using the given list filter the numbers which are not divisible by 2  \n",
    "\\[3,12, 24, 36,43,654,65432,2,654,455,43,543\\]"
   ]
  },
  {
   "cell_type": "code",
   "execution_count": 26,
   "metadata": {
    "executionInfo": {
     "elapsed": 10,
     "status": "ok",
     "timestamp": 1677556047900,
     "user": {
      "displayName": "V. Arun Kumar",
      "userId": "02991517788843717529"
     },
     "user_tz": -330
    },
    "id": "T-4yE3BsQgja"
   },
   "outputs": [
    {
     "name": "stdout",
     "output_type": "stream",
     "text": [
      "[3, 43, 455, 43, 543]\n"
     ]
    }
   ],
   "source": [
    "l11=[3,12, 24, 36,43,654,65432,2,654,455,43,543]\n",
    "l12=list(filter(lambda x:x%2!=0,l11))\n",
    "print(l12)"
   ]
  },
  {
   "cell_type": "markdown",
   "metadata": {
    "id": "M3sKB6_wQgje"
   },
   "source": [
    "2. For a given list filter the even numbers.  \n",
    "[1, 2, 3, 4, 5, 6]"
   ]
  },
  {
   "cell_type": "code",
   "execution_count": 27,
   "metadata": {
    "executionInfo": {
     "elapsed": 11,
     "status": "ok",
     "timestamp": 1677556047901,
     "user": {
      "displayName": "V. Arun Kumar",
      "userId": "02991517788843717529"
     },
     "user_tz": -330
    },
    "id": "2Jw4E2m7Qgjf"
   },
   "outputs": [
    {
     "name": "stdout",
     "output_type": "stream",
     "text": [
      "[2, 4, 6]\n"
     ]
    }
   ],
   "source": [
    "l13=[1, 2, 3, 4, 5, 6]\n",
    "l14=list(filter(lambda x:x%2==0,l13))\n",
    "print(l14)"
   ]
  },
  {
   "cell_type": "markdown",
   "metadata": {
    "id": "FuKAfu6XQgjj"
   },
   "source": [
    "3. For a given list  filter the even numbers using a user defined function.\n",
    "\\[2,3,5,3,6,3,7,4,6,7\\]"
   ]
  },
  {
   "cell_type": "code",
   "execution_count": 13,
   "metadata": {
    "executionInfo": {
     "elapsed": 10,
     "status": "ok",
     "timestamp": 1677556047901,
     "user": {
      "displayName": "V. Arun Kumar",
      "userId": "02991517788843717529"
     },
     "user_tz": -330
    },
    "id": "Fw7TeM4RQgjk"
   },
   "outputs": [
    {
     "data": {
      "text/plain": [
       "[2, 4, 6]"
      ]
     },
     "execution_count": 13,
     "metadata": {},
     "output_type": "execute_result"
    }
   ],
   "source": [
    "def iseven(x):\n",
    "    return x%2==0\n",
    "list(filter(iseven,[2,3,4,6,7,]))   "
   ]
  },
  {
   "cell_type": "markdown",
   "metadata": {
    "id": "PQpZ1YM3Qgjn"
   },
   "source": [
    "4. For a given list filter the odd numbers using a user defined function.\n",
    "\\[1, 12, 31, 4, 15, 6, 7\\]"
   ]
  },
  {
   "cell_type": "code",
   "execution_count": 15,
   "metadata": {
    "executionInfo": {
     "elapsed": 10,
     "status": "ok",
     "timestamp": 1677556047901,
     "user": {
      "displayName": "V. Arun Kumar",
      "userId": "02991517788843717529"
     },
     "user_tz": -330
    },
    "id": "5Ffm9ZyHQgjp"
   },
   "outputs": [
    {
     "data": {
      "text/plain": [
       "[3, 7]"
      ]
     },
     "execution_count": 15,
     "metadata": {},
     "output_type": "execute_result"
    }
   ],
   "source": [
    "def isodd(x):\n",
    "    return x%2!=0\n",
    "list(filter(isodd,[2,3,4,6,7,]))  "
   ]
  },
  {
   "cell_type": "markdown",
   "metadata": {
    "id": "CCHzjGMAQgjt"
   },
   "source": [
    "### <font color='green'> **Reduce** </font>"
   ]
  },
  {
   "cell_type": "markdown",
   "metadata": {
    "id": "UuqCl94bQgjx"
   },
   "source": [
    "1. Multiply all the elements of a list.  \n",
    "\\[1, 2, 3, 4\\]"
   ]
  },
  {
   "cell_type": "code",
   "execution_count": 35,
   "metadata": {
    "executionInfo": {
     "elapsed": 10,
     "status": "ok",
     "timestamp": 1677556047901,
     "user": {
      "displayName": "V. Arun Kumar",
      "userId": "02991517788843717529"
     },
     "user_tz": -330
    },
    "id": "Sl79fpY4Qgjy"
   },
   "outputs": [
    {
     "name": "stdout",
     "output_type": "stream",
     "text": [
      "24\n"
     ]
    }
   ],
   "source": [
    "list1=[1, 2, 3, 4]\n",
    "from functools import reduce\n",
    "list2=reduce(lambda x,y:x*y,list1)\n",
    "print(list2)"
   ]
  },
  {
   "cell_type": "markdown",
   "metadata": {
    "id": "7OpO82ZOQgj0"
   },
   "source": [
    "2. Add all the elements of the list given below (use reduce function)   \n",
    "\\[11, 13, 15, 16, 2, 43\\]"
   ]
  },
  {
   "cell_type": "code",
   "execution_count": 36,
   "metadata": {
    "executionInfo": {
     "elapsed": 10,
     "status": "ok",
     "timestamp": 1677556047901,
     "user": {
      "displayName": "V. Arun Kumar",
      "userId": "02991517788843717529"
     },
     "user_tz": -330
    },
    "id": "kEz0P23ZQgj2"
   },
   "outputs": [
    {
     "name": "stdout",
     "output_type": "stream",
     "text": [
      "100\n"
     ]
    }
   ],
   "source": [
    "list1=[11, 13, 15, 16, 2, 43]\n",
    "from functools import reduce\n",
    "list2=reduce(lambda x,y:x+y,list1)\n",
    "print(list2)"
   ]
  },
  {
   "cell_type": "markdown",
   "metadata": {
    "id": "cywlkri5Qgj4"
   },
   "source": [
    "3. Find the maximum value in the list   \n",
    "\\[543, 7, 6, 4567, 7, 78, 6, 6, 78, 765, 678\\]"
   ]
  },
  {
   "cell_type": "code",
   "execution_count": 37,
   "metadata": {
    "executionInfo": {
     "elapsed": 11,
     "status": "ok",
     "timestamp": 1677556047902,
     "user": {
      "displayName": "V. Arun Kumar",
      "userId": "02991517788843717529"
     },
     "user_tz": -330
    },
    "id": "Teo4jNuoQgj4"
   },
   "outputs": [
    {
     "name": "stdout",
     "output_type": "stream",
     "text": [
      "4567\n"
     ]
    }
   ],
   "source": [
    "my_list =[543, 7, 6, 4567, 7, 78, 6, 6, 78, 765, 678]\n",
    "from functools import reduce\n",
    "max_value=reduce(lambda x,y:x if x>y else y,my_list)\n",
    "print(max_value)"
   ]
  },
  {
   "cell_type": "markdown",
   "metadata": {
    "id": "zzraoBTEQgj7"
   },
   "source": [
    "4. Find the minimum value in the list   \n",
    "\\[543, 7, 6, 4567, 7, 78, 6, 6, 78, 765, 678\\]"
   ]
  },
  {
   "cell_type": "code",
   "execution_count": 39,
   "metadata": {
    "executionInfo": {
     "elapsed": 10,
     "status": "ok",
     "timestamp": 1677556047902,
     "user": {
      "displayName": "V. Arun Kumar",
      "userId": "02991517788843717529"
     },
     "user_tz": -330
    },
    "id": "ZDjddZY4Qgj8"
   },
   "outputs": [
    {
     "name": "stdout",
     "output_type": "stream",
     "text": [
      "6\n"
     ]
    }
   ],
   "source": [
    "my_list=[543, 7, 6, 4567, 7, 78, 6, 6, 78, 765, 678]\n",
    "from functools import reduce\n",
    "max_value=reduce(lambda x,y:x if x<y else y,my_list)\n",
    "print(max_value)"
   ]
  },
  {
   "cell_type": "markdown",
   "metadata": {
    "id": "CYE1RzE-FIqb"
   },
   "source": [
    "## Numpy"
   ]
  },
  {
   "cell_type": "markdown",
   "metadata": {
    "id": "VpInjU7QFZzb"
   },
   "source": [
    "### 1. Write a NumPy program to convert a list of numeric values into a one-dimensional NumPy array"
   ]
  },
  {
   "cell_type": "code",
   "execution_count": 42,
   "metadata": {
    "executionInfo": {
     "elapsed": 10,
     "status": "ok",
     "timestamp": 1677556047902,
     "user": {
      "displayName": "V. Arun Kumar",
      "userId": "02991517788843717529"
     },
     "user_tz": -330
    },
    "id": "KqFo_zuAFTvB"
   },
   "outputs": [
    {
     "name": "stdout",
     "output_type": "stream",
     "text": [
      "[1 2 3 4]\n"
     ]
    }
   ],
   "source": [
    "import numpy as np\n",
    "arr1=np.array([1,2,3,4])\n",
    "print(arr1)"
   ]
  },
  {
   "cell_type": "markdown",
   "metadata": {
    "id": "GHmqC6D5FhuJ"
   },
   "source": [
    "### 2. Write a program to add a new column ([[5,7]]) at the last position in the array given below\n",
    "\n",
    "arr_1 = [[3, 4], [8, 2],[5, 9]]"
   ]
  },
  {
   "cell_type": "code",
   "execution_count": 35,
   "metadata": {
    "executionInfo": {
     "elapsed": 10,
     "status": "ok",
     "timestamp": 1677556047902,
     "user": {
      "displayName": "V. Arun Kumar",
      "userId": "02991517788843717529"
     },
     "user_tz": -330
    },
    "id": "YzcLBdSYDmIK"
   },
   "outputs": [
    {
     "name": "stdout",
     "output_type": "stream",
     "text": [
      "[[3, 4], [8, 2], [5, 9], [5, 7]]\n"
     ]
    }
   ],
   "source": [
    "arr_1 = [[3, 4], [8, 2],[5, 9]]\n",
    "arr_1.append([5,7])\n",
    "print(arr_1)"
   ]
  },
  {
   "cell_type": "code",
   "execution_count": 30,
   "metadata": {
    "executionInfo": {
     "elapsed": 10,
     "status": "ok",
     "timestamp": 1677556047902,
     "user": {
      "displayName": "V. Arun Kumar",
      "userId": "02991517788843717529"
     },
     "user_tz": -330
    },
    "id": "37ZQqU8z1NDQ"
   },
   "outputs": [
    {
     "data": {
      "text/plain": [
       "array([[3, 4],\n",
       "       [8, 2],\n",
       "       [5, 9],\n",
       "       [5, 7]])"
      ]
     },
     "execution_count": 30,
     "metadata": {},
     "output_type": "execute_result"
    }
   ],
   "source": [
    "arr_1 = np.array([[3, 4], [8, 2],[5, 9]])\n",
    "arr_2=np.array([[5,7]])\n",
    "np.concatenate([arr_1,arr_2])"
   ]
  },
  {
   "cell_type": "code",
   "execution_count": 11,
   "metadata": {
    "executionInfo": {
     "elapsed": 10,
     "status": "ok",
     "timestamp": 1677556047902,
     "user": {
      "displayName": "V. Arun Kumar",
      "userId": "02991517788843717529"
     },
     "user_tz": -330
    },
    "id": "3rPt2eIb1yGp"
   },
   "outputs": [],
   "source": []
  },
  {
   "cell_type": "markdown",
   "metadata": {
    "collapsed": true,
    "id": "dl4joUZyvN7e"
   },
   "source": [
    "### 3. Create an array of integers from 20 to 2 with a step of -2\n"
   ]
  },
  {
   "cell_type": "code",
   "execution_count": 36,
   "metadata": {
    "executionInfo": {
     "elapsed": 10,
     "status": "ok",
     "timestamp": 1677556047903,
     "user": {
      "displayName": "V. Arun Kumar",
      "userId": "02991517788843717529"
     },
     "user_tz": -330
    },
    "id": "BwJRRknIvN7f"
   },
   "outputs": [
    {
     "name": "stdout",
     "output_type": "stream",
     "text": [
      "[20 18 16 14 12 10  8  6  4  2]\n"
     ]
    }
   ],
   "source": [
    "arr=np.arange(20,1,-2)\n",
    "print(arr)"
   ]
  },
  {
   "cell_type": "markdown",
   "metadata": {
    "id": "oR26fDFvvN7n"
   },
   "source": [
    "### 4. Create a 2D Numpy array from list of lists\n",
    "\n",
    "[[110, 102, 183], [140, 175, 106], [170, 195, 117], [192, 140, 195]]"
   ]
  },
  {
   "cell_type": "code",
   "execution_count": 25,
   "metadata": {
    "executionInfo": {
     "elapsed": 10,
     "status": "ok",
     "timestamp": 1677556047903,
     "user": {
      "displayName": "V. Arun Kumar",
      "userId": "02991517788843717529"
     },
     "user_tz": -330
    },
    "id": "X6ha7O3TP9Cn"
   },
   "outputs": [
    {
     "name": "stdout",
     "output_type": "stream",
     "text": [
      "[[110 102 183]\n",
      " [140 175 106]\n",
      " [170 195 117]\n",
      " [192 140 195]]\n"
     ]
    }
   ],
   "source": [
    "import numpy as np\n",
    "list1 =np.array([[110, 102, 183], [140, 175, 106], [170, 195, 117], [192, 140, 195]])\n",
    "print(list1)  "
   ]
  },
  {
   "cell_type": "markdown",
   "metadata": {
    "executionInfo": {
     "elapsed": 10,
     "status": "ok",
     "timestamp": 1677556047903,
     "user": {
      "displayName": "V. Arun Kumar",
      "userId": "02991517788843717529"
     },
     "user_tz": -330
    },
    "id": "2t8KtjR8QDWE"
   },
   "source": []
  },
  {
   "cell_type": "markdown",
   "metadata": {
    "collapsed": true,
    "id": "1HWtA5_rvN7m"
   },
   "source": [
    "a. Find the minimum value along each of the rows\n"
   ]
  },
  {
   "cell_type": "code",
   "execution_count": 37,
   "metadata": {
    "executionInfo": {
     "elapsed": 10,
     "status": "ok",
     "timestamp": 1677556047903,
     "user": {
      "displayName": "V. Arun Kumar",
      "userId": "02991517788843717529"
     },
     "user_tz": -330
    },
    "id": "U9UPHtJlvN7n"
   },
   "outputs": [
    {
     "name": "stdout",
     "output_type": "stream",
     "text": [
      "[102 106 117 140]\n"
     ]
    }
   ],
   "source": [
    "print(list1.min(axis=1))"
   ]
  },
  {
   "cell_type": "markdown",
   "metadata": {
    "collapsed": true,
    "id": "HlxMGdp0vN7n"
   },
   "source": [
    "### 5. Replace all odd numbers in the array with -2\n"
   ]
  },
  {
   "cell_type": "markdown",
   "metadata": {
    "id": "0KeEz2YTvN7o"
   },
   "source": [
    "**Use the array given below**<br>\n",
    "    \n",
    "       num_array_1 = np.array([0, 31, 42, 43, 34, 45, 26, 27, 38, 94, 65, 78, 76])"
   ]
  },
  {
   "cell_type": "code",
   "execution_count": 54,
   "metadata": {
    "executionInfo": {
     "elapsed": 10,
     "status": "ok",
     "timestamp": 1677556047903,
     "user": {
      "displayName": "V. Arun Kumar",
      "userId": "02991517788843717529"
     },
     "user_tz": -330
    },
    "id": "fO49gxEMvN7o"
   },
   "outputs": [
    {
     "name": "stdout",
     "output_type": "stream",
     "text": [
      "[ 0 -2 42 -2 34 -2 26 -2 38 94 -2 78 76]\n"
     ]
    }
   ],
   "source": [
    "num_array_1 = np.array([0, 31, 42, 43, 34, 45, 26, 27, 38, 94, 65, 78, 76])\n",
    "num_array_1[num_array_1%2!=0]=-2\n",
    "print(num_array_1)"
   ]
  },
  {
   "cell_type": "markdown",
   "metadata": {
    "collapsed": true,
    "id": "nX0GQInPvN7p"
   },
   "source": [
    "### 6. Stack two arrays vertically\n"
   ]
  },
  {
   "cell_type": "markdown",
   "metadata": {
    "id": "01v7NWDKvN7p"
   },
   "source": [
    "**Use the array given below:**<br>\n",
    "\n",
    "    quantity1 = np.arange(10).reshape(2,-1)\n",
    "    quantity2 = np.repeat(1, 10).reshape(2,-1)"
   ]
  },
  {
   "cell_type": "code",
   "execution_count": 38,
   "metadata": {
    "executionInfo": {
     "elapsed": 9,
     "status": "ok",
     "timestamp": 1677556047903,
     "user": {
      "displayName": "V. Arun Kumar",
      "userId": "02991517788843717529"
     },
     "user_tz": -330
    },
    "id": "27CgDQVcvN7q"
   },
   "outputs": [
    {
     "name": "stdout",
     "output_type": "stream",
     "text": [
      "[[0 1 2 3 4]\n",
      " [5 6 7 8 9]]\n",
      "[[1 1 1 1 1]\n",
      " [1 1 1 1 1]]\n"
     ]
    },
    {
     "data": {
      "text/plain": [
       "array([[0, 1, 2, 3, 4],\n",
       "       [5, 6, 7, 8, 9],\n",
       "       [1, 1, 1, 1, 1],\n",
       "       [1, 1, 1, 1, 1]])"
      ]
     },
     "execution_count": 38,
     "metadata": {},
     "output_type": "execute_result"
    }
   ],
   "source": [
    "quantity1 = np.arange(10).reshape(2,-1)\n",
    "quantity2 = np.repeat(1, 10).reshape(2,-1)\n",
    "print(quantity1)\n",
    "print(quantity2)\n",
    "np.concatenate([quantity1,quantity2],axis=0)"
   ]
  },
  {
   "cell_type": "code",
   "execution_count": 11,
   "metadata": {
    "executionInfo": {
     "elapsed": 10,
     "status": "ok",
     "timestamp": 1677556047904,
     "user": {
      "displayName": "V. Arun Kumar",
      "userId": "02991517788843717529"
     },
     "user_tz": -330
    },
    "id": "32MK6w7LV5Yx"
   },
   "outputs": [],
   "source": []
  },
  {
   "cell_type": "code",
   "execution_count": 11,
   "metadata": {
    "executionInfo": {
     "elapsed": 10,
     "status": "ok",
     "timestamp": 1677556047904,
     "user": {
      "displayName": "V. Arun Kumar",
      "userId": "02991517788843717529"
     },
     "user_tz": -330
    },
    "id": "8EJICDgCWBvf"
   },
   "outputs": [],
   "source": []
  },
  {
   "cell_type": "code",
   "execution_count": 11,
   "metadata": {
    "executionInfo": {
     "elapsed": 10,
     "status": "ok",
     "timestamp": 1677556047904,
     "user": {
      "displayName": "V. Arun Kumar",
      "userId": "02991517788843717529"
     },
     "user_tz": -330
    },
    "id": "9fWw7Ri3WH_D"
   },
   "outputs": [],
   "source": []
  },
  {
   "cell_type": "code",
   "execution_count": 11,
   "metadata": {
    "executionInfo": {
     "elapsed": 10,
     "status": "ok",
     "timestamp": 1677556047904,
     "user": {
      "displayName": "V. Arun Kumar",
      "userId": "02991517788843717529"
     },
     "user_tz": -330
    },
    "id": "90T7OBbUWHzM"
   },
   "outputs": [],
   "source": []
  },
  {
   "cell_type": "markdown",
   "metadata": {
    "collapsed": true,
    "id": "xqzlZKgovN7q"
   },
   "source": [
    "### 7. Get common elements from the two arrays"
   ]
  },
  {
   "cell_type": "markdown",
   "metadata": {
    "id": "lutBZRZSvN7q"
   },
   "source": [
    "**Use the array given below:**\n",
    "\n",
    "    age_a = np.array([11,12,13,22,23,44,43,24,45,36])\n",
    "    age_b = np.array([17,22,13,22,47,34,39,44,29,28])"
   ]
  },
  {
   "cell_type": "code",
   "execution_count": 41,
   "metadata": {
    "executionInfo": {
     "elapsed": 10,
     "status": "ok",
     "timestamp": 1677556047904,
     "user": {
      "displayName": "V. Arun Kumar",
      "userId": "02991517788843717529"
     },
     "user_tz": -330
    },
    "id": "vgZujIn4vN7q"
   },
   "outputs": [
    {
     "name": "stdout",
     "output_type": "stream",
     "text": [
      "[13 22 44]\n"
     ]
    }
   ],
   "source": [
    "import numpy as np\n",
    "age_a = np.array([11,12,13,22,23,44,43,24,45,36])\n",
    "age_b = np.array([17,22,13,22,47,34,39,44,29,28])\n",
    "print(np.intersect1d(age_a,age_b))      "
   ]
  },
  {
   "cell_type": "markdown",
   "metadata": {
    "collapsed": true,
    "id": "lOX6IfdLvN7q"
   },
   "source": [
    "### 8. Remove all the elements from num_array1 that are present in num_array2\n"
   ]
  },
  {
   "cell_type": "markdown",
   "metadata": {
    "id": "xhUiAJkYvN7r"
   },
   "source": [
    "**Use the array given below:**<br>\n",
    "\n",
    "    num_array1 = np.array([1,2,3,4,5])\n",
    "    num_array2 = np.array([5,6,7,8,9])"
   ]
  },
  {
   "cell_type": "code",
   "execution_count": 42,
   "metadata": {
    "executionInfo": {
     "elapsed": 9,
     "status": "ok",
     "timestamp": 1677556047904,
     "user": {
      "displayName": "V. Arun Kumar",
      "userId": "02991517788843717529"
     },
     "user_tz": -330
    },
    "id": "1j5v5G75vN7r"
   },
   "outputs": [
    {
     "data": {
      "text/plain": [
       "array([1, 2, 3, 4])"
      ]
     },
     "execution_count": 42,
     "metadata": {},
     "output_type": "execute_result"
    }
   ],
   "source": [
    "import numpy as np\n",
    "num_array1 = np.array([1,2,3,4,5])\n",
    "num_array2 = np.array([5,6,7,8,9])\n",
    "np.setdiff1d(num_array1,num_array2)"
   ]
  },
  {
   "cell_type": "markdown",
   "metadata": {
    "collapsed": true,
    "id": "GC4U15r3vN7r"
   },
   "source": [
    "### 9. Get the positions where elements of two arrays match\n"
   ]
  },
  {
   "cell_type": "markdown",
   "metadata": {
    "id": "9hqfsNAuvN7r"
   },
   "source": [
    "**Use the array given below:**<br>\n",
    "\n",
    "    num_array1 = np.array([1,2,3,2,3,4,3,4,5,6])\n",
    "    num_array2 = np.array([7,2,10,2,7,4,9,4,9,8])"
   ]
  },
  {
   "cell_type": "code",
   "execution_count": 43,
   "metadata": {
    "executionInfo": {
     "elapsed": 10,
     "status": "ok",
     "timestamp": 1677556047905,
     "user": {
      "displayName": "V. Arun Kumar",
      "userId": "02991517788843717529"
     },
     "user_tz": -330
    },
    "id": "qqua-wrLvN7r"
   },
   "outputs": [
    {
     "data": {
      "text/plain": [
       "(array([1, 3, 5, 7], dtype=int64),)"
      ]
     },
     "execution_count": 43,
     "metadata": {},
     "output_type": "execute_result"
    }
   ],
   "source": [
    "import numpy as np\n",
    "num_array1 = np.array([1,2,3,2,3,4,3,4,5,6])\n",
    "num_array2 = np.array([7,2,10,2,7,4,9,4,9,8])\n",
    "np.where(num_array1==num_array2)"
   ]
  },
  {
   "cell_type": "markdown",
   "metadata": {
    "collapsed": true,
    "id": "p9ZodMgsvN7r"
   },
   "source": [
    "### 10. Reverse each of the rows of the 2D array\n"
   ]
  },
  {
   "cell_type": "markdown",
   "metadata": {
    "id": "Kgtbj_B0vN7r"
   },
   "source": [
    "**Use the array given below:**<br>\n",
    "\n",
    "    num_array1 = np.arange(16).reshape(4,4)"
   ]
  },
  {
   "cell_type": "code",
   "execution_count": 16,
   "metadata": {
    "executionInfo": {
     "elapsed": 10,
     "status": "ok",
     "timestamp": 1677556047905,
     "user": {
      "displayName": "V. Arun Kumar",
      "userId": "02991517788843717529"
     },
     "user_tz": -330
    },
    "id": "xQZ7B-XMvN7r"
   },
   "outputs": [
    {
     "name": "stdout",
     "output_type": "stream",
     "text": [
      "[[15 14 13 12]\n",
      " [11 10  9  8]\n",
      " [ 7  6  5  4]\n",
      " [ 3  2  1  0]]\n"
     ]
    }
   ],
   "source": [
    "import numpy as np\n",
    "num_array1 = np.arange(16).reshape(4,4)\n",
    "num=np.flip(num_array1)\n",
    "print(num)"
   ]
  },
  {
   "cell_type": "markdown",
   "metadata": {
    "collapsed": true,
    "id": "vZa-ajjFvN7s"
   },
   "source": [
    "### 11. Swap row 1 and row 2 in the given array\n"
   ]
  },
  {
   "cell_type": "markdown",
   "metadata": {
    "id": "rWF0tO7CvN7s"
   },
   "source": [
    "**Use the array given below:**<br>\n",
    "   \n",
    "       num_array1 = np.arange(9).reshape(3,3)"
   ]
  },
  {
   "cell_type": "code",
   "execution_count": 18,
   "metadata": {
    "executionInfo": {
     "elapsed": 10,
     "status": "ok",
     "timestamp": 1677556047905,
     "user": {
      "displayName": "V. Arun Kumar",
      "userId": "02991517788843717529"
     },
     "user_tz": -330
    },
    "id": "PI3NvfPbvN7s"
   },
   "outputs": [
    {
     "name": "stdout",
     "output_type": "stream",
     "text": [
      "[[0 1 2]\n",
      " [3 4 5]\n",
      " [6 7 8]]\n",
      "[[3 4 5]\n",
      " [0 1 2]\n",
      " [6 7 8]]\n"
     ]
    }
   ],
   "source": [
    "num_array1 = np.arange(9).reshape(3,3)\n",
    "print(num_array1)\n",
    "num_array1[[0,1]]=num_array1[[1,0]]\n",
    "print(num_array1)"
   ]
  },
  {
   "cell_type": "markdown",
   "metadata": {
    "id": "_iYZfGrd2qRY"
   },
   "source": [
    "### 12. Given the array \n",
    "\n",
    "a1 = np.array([[21, 42], [63, 78],[22,55],[124,567]])\n",
    "\n",
    "a2 = np.array([[13, 45], [37, 99],[1456, 2356],[2567,45890]])\n",
    "\n",
    "Perform the following operations\n",
    "\n",
    "a. Concatenate the arrays along the rows\n",
    "\n",
    "b. Concatenate the arrays along the columns"
   ]
  },
  {
   "cell_type": "code",
   "execution_count": 12,
   "metadata": {
    "executionInfo": {
     "elapsed": 10,
     "status": "ok",
     "timestamp": 1677556047905,
     "user": {
      "displayName": "V. Arun Kumar",
      "userId": "02991517788843717529"
     },
     "user_tz": -330
    },
    "id": "Zc-my88l0YOo"
   },
   "outputs": [
    {
     "data": {
      "text/plain": [
       "array([[   21,    42],\n",
       "       [   63,    78],\n",
       "       [   22,    55],\n",
       "       [  124,   567],\n",
       "       [   13,    45],\n",
       "       [   37,    99],\n",
       "       [ 1456,  2356],\n",
       "       [ 2567, 45890]])"
      ]
     },
     "execution_count": 12,
     "metadata": {},
     "output_type": "execute_result"
    }
   ],
   "source": [
    "a1 = np.array([[21, 42], [63, 78],[22,55],[124,567]])\n",
    "\n",
    "a2 = np.array([[13, 45], [37, 99],[1456, 2356],[2567,45890]])\n",
    "np.concatenate((a1,a2),axis=0)\n"
   ]
  },
  {
   "cell_type": "code",
   "execution_count": 11,
   "metadata": {
    "executionInfo": {
     "elapsed": 10,
     "status": "ok",
     "timestamp": 1677556047905,
     "user": {
      "displayName": "V. Arun Kumar",
      "userId": "02991517788843717529"
     },
     "user_tz": -330
    },
    "id": "Bgb5gLhN2WMb"
   },
   "outputs": [
    {
     "data": {
      "text/plain": [
       "array([[   21,    42,    13,    45],\n",
       "       [   63,    78,    37,    99],\n",
       "       [   22,    55,  1456,  2356],\n",
       "       [  124,   567,  2567, 45890]])"
      ]
     },
     "execution_count": 11,
     "metadata": {},
     "output_type": "execute_result"
    }
   ],
   "source": [
    "np.concatenate((a1,a2),axis=1)"
   ]
  },
  {
   "cell_type": "code",
   "execution_count": 11,
   "metadata": {
    "executionInfo": {
     "elapsed": 10,
     "status": "ok",
     "timestamp": 1677556047905,
     "user": {
      "displayName": "V. Arun Kumar",
      "userId": "02991517788843717529"
     },
     "user_tz": -330
    },
    "id": "TTzEXo35Cttp"
   },
   "outputs": [],
   "source": []
  }
 ],
 "metadata": {
  "colab": {
   "provenance": []
  },
  "kernelspec": {
   "display_name": "Python 3 (ipykernel)",
   "language": "python",
   "name": "python3"
  },
  "language_info": {
   "codemirror_mode": {
    "name": "ipython",
    "version": 3
   },
   "file_extension": ".py",
   "mimetype": "text/x-python",
   "name": "python",
   "nbconvert_exporter": "python",
   "pygments_lexer": "ipython3",
   "version": "3.11.5"
  },
  "varInspector": {
   "cols": {
    "lenName": 16,
    "lenType": 16,
    "lenVar": 40
   },
   "kernels_config": {
    "python": {
     "delete_cmd_postfix": "",
     "delete_cmd_prefix": "del ",
     "library": "var_list.py",
     "varRefreshCmd": "print(var_dic_list())"
    },
    "r": {
     "delete_cmd_postfix": ") ",
     "delete_cmd_prefix": "rm(",
     "library": "var_list.r",
     "varRefreshCmd": "cat(var_dic_list()) "
    }
   },
   "types_to_exclude": [
    "module",
    "function",
    "builtin_function_or_method",
    "instance",
    "_Feature"
   ],
   "window_display": false
  }
 },
 "nbformat": 4,
 "nbformat_minor": 1
}
