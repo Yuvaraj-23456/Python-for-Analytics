{
 "cells": [
  {
   "cell_type": "markdown",
   "id": "4989e020",
   "metadata": {},
   "source": [
    "# Course 2: Week 02 - Day 01 - Practice Exercise "
   ]
  },
  {
   "cell_type": "markdown",
   "id": "00763a30",
   "metadata": {},
   "source": [
    "-------------------------------------------------------------------------------------------------------------------------------"
   ]
  },
  {
   "cell_type": "markdown",
   "id": "62cfafa0",
   "metadata": {},
   "source": [
    "### 1. Write a code to implement the division function which will take two numbers num1, num2 as input and return the division of num1 with num2 as the output. (use try and except and handle the zerodivisionerror)"
   ]
  },
  {
   "cell_type": "code",
   "execution_count": 4,
   "id": "d96ac594",
   "metadata": {},
   "outputs": [
    {
     "name": "stdout",
     "output_type": "stream",
     "text": [
      "5.0\n",
      "Cannot Divisible by Zero\n",
      "0\n"
     ]
    }
   ],
   "source": [
    "def division_func(num1,num2):\n",
    "    result=0\n",
    "    try:\n",
    "        result=num1/num2\n",
    "    except ZeroDivisionError:\n",
    "        print(\"Cannot Divisible by Zero\")\n",
    "    return result\n",
    "print(division_func(10,2))\n",
    "print(division_func(3,0))"
   ]
  },
  {
   "cell_type": "markdown",
   "id": "a473fe29",
   "metadata": {},
   "source": [
    "### 2. Write a code to implement the division function which will take two numbers num1, num2 as input and return the division of num1 with num2 as the output. If num2 is 0 print the proper message and finally print a message “This is always executed” even if we are getting any exception."
   ]
  },
  {
   "cell_type": "code",
   "execution_count": 5,
   "id": "9b8f0452",
   "metadata": {},
   "outputs": [
    {
     "name": "stdout",
     "output_type": "stream",
     "text": [
      "This is always executed\n",
      "5.0\n",
      "Cannot Divisible by Zero\n",
      "This is always executed\n",
      "0\n"
     ]
    }
   ],
   "source": [
    "def division_func(num1,num2):\n",
    "    result=0\n",
    "    try:\n",
    "        result=num1/num2\n",
    "    except ZeroDivisionError:\n",
    "        print('Cannot Divisible by Zero')\n",
    "    finally:\n",
    "        print('This is always executed')\n",
    "    return result \n",
    "print(division_func(10,2))\n",
    "print(division_func(3,0))\n"
   ]
  },
  {
   "cell_type": "markdown",
   "id": "5ee5f783",
   "metadata": {},
   "source": [
    "### 3. Provide the output of the below code:"
   ]
  },
  {
   "cell_type": "markdown",
   "id": "1d847f2f",
   "metadata": {},
   "source": [
    "def fun():  \n",
    "\n",
    "    try:    \n",
    "        print(xval)    \n",
    "    except:        \n",
    "        print(\"func_with_generic_exception_handler - Variable is not defined\")\n",
    "\n",
    "fun()"
   ]
  },
  {
   "cell_type": "code",
   "execution_count": null,
   "id": "a1e902c0",
   "metadata": {},
   "outputs": [],
   "source": []
  },
  {
   "cell_type": "markdown",
   "id": "35cc28eb",
   "metadata": {},
   "source": [
    "### 4. Provide the output of the below code:"
   ]
  },
  {
   "cell_type": "markdown",
   "id": "966ceaa2",
   "metadata": {},
   "source": [
    "import sys\n",
    "\n",
    "\n",
    "def func(num1, num2): \n",
    "\n",
    "    result = None   \n",
    "    try:\n",
    "        result = num1 / num2  \n",
    "    except ZeroDivisionError as e:  \n",
    "        print(\"Zero Division Error\")    \n",
    "    except TypeError as e:        \n",
    "        print(\"Unsupported Operand Type\")   \n",
    "    return result\n",
    "    \n",
    "func(5,0)\n",
    "\n",
    "func(5, \"9\")"
   ]
  },
  {
   "cell_type": "code",
   "execution_count": null,
   "id": "f85018fd",
   "metadata": {},
   "outputs": [],
   "source": []
  },
  {
   "cell_type": "markdown",
   "id": "11564a6b",
   "metadata": {},
   "source": [
    "### 5. Provide the output of the below code:"
   ]
  },
  {
   "cell_type": "markdown",
   "id": "4938cbba",
   "metadata": {},
   "source": [
    "import sys\n",
    "\n",
    "def func(num1, num2):    \n",
    "\n",
    "    result = None    \n",
    "    try:        \n",
    "        result = num1 / num2    \n",
    "    except (ZeroDivisionError, TypeError) as e:        \n",
    "        print(\"Error has occurred\", e)    \n",
    "        \n",
    "func(5,0)\n",
    "\n",
    "func(5, \"9\")"
   ]
  },
  {
   "cell_type": "code",
   "execution_count": null,
   "id": "5759ebfa",
   "metadata": {},
   "outputs": [],
   "source": []
  },
  {
   "cell_type": "markdown",
   "id": "7bc222c9",
   "metadata": {},
   "source": [
    "### 6. Provide the output of the below code:\n"
   ]
  },
  {
   "cell_type": "markdown",
   "id": "cd9c4f86",
   "metadata": {},
   "source": [
    "def concat(inp1, inp2):\n",
    "\n",
    "    try:\n",
    "        print(\"Output will be : \", inp1 + inp2)\n",
    "    except:\n",
    "        print(\"Invalid inputs\")\n",
    "        \n",
    "        \n",
    "concat(1,2)\n",
    "\n",
    "concat(\"python\", \"java\")\n",
    "\n",
    "concat(\"python\", 34)"
   ]
  },
  {
   "cell_type": "code",
   "execution_count": null,
   "id": "c2e50978",
   "metadata": {},
   "outputs": [],
   "source": []
  },
  {
   "cell_type": "markdown",
   "id": "a48aaa6e",
   "metadata": {},
   "source": [
    "### 7. Provide the output of the below code:"
   ]
  },
  {
   "cell_type": "markdown",
   "id": "0c748ad7",
   "metadata": {},
   "source": [
    "def concat(inp1, inp2):\n",
    "\n",
    "    try:\n",
    "        print(\"Output will be : \", inp1 + inp2)\n",
    "    \n",
    "    except:\n",
    "        print(\"Invalid inputs\")\n",
    "    \n",
    "    else:\n",
    "        print(\"In else part\")\n",
    "        \n",
    "        \n",
    "concat(1,2)\n",
    "\n",
    "concat(\"python\", \"java\")\n",
    "\n",
    "concat(\"python\", 34)"
   ]
  },
  {
   "cell_type": "code",
   "execution_count": null,
   "id": "150e0f46",
   "metadata": {},
   "outputs": [],
   "source": []
  },
  {
   "cell_type": "markdown",
   "id": "80d7c712",
   "metadata": {},
   "source": [
    "### 8. Provide the output of the below code:"
   ]
  },
  {
   "cell_type": "markdown",
   "id": "5ab9e970",
   "metadata": {},
   "source": [
    "def concat(inp1, inp2):\n",
    "\n",
    "    try:\n",
    "        print(\"Output will be : \", inp1 + inp2)\n",
    "    \n",
    "    except:\n",
    "        print(\"Invalid inputs\")\n",
    "    \n",
    "    finally:\n",
    "        print(\"In finally part\")\n",
    "        \n",
    "        \n",
    "concat(1,2)\n",
    "\n",
    "concat(\"python\", \"java\")\n",
    "\n",
    "concat(\"python\", 34)"
   ]
  },
  {
   "cell_type": "code",
   "execution_count": 4,
   "id": "cdbc4e1c",
   "metadata": {},
   "outputs": [
    {
     "ename": "IndentationError",
     "evalue": "expected an indented block after 'try' statement on line 2 (2316697695.py, line 3)",
     "output_type": "error",
     "traceback": [
      "\u001b[1;36m  Cell \u001b[1;32mIn[4], line 3\u001b[1;36m\u001b[0m\n\u001b[1;33m    print(\"Output will be : \", inp1 + inp2)\u001b[0m\n\u001b[1;37m    ^\u001b[0m\n\u001b[1;31mIndentationError\u001b[0m\u001b[1;31m:\u001b[0m expected an indented block after 'try' statement on line 2\n"
     ]
    }
   ],
   "source": [
    "def concat(inp1, inp2):\n",
    "    try:\n",
    "    print(\"Output will be : \", inp1 + inp2)\n",
    "    except:\n",
    "    print(\"Invalid inputs\")\n",
    "    finally:\n",
    "    print(\"In finally part\")\n",
    "concat(1,2)\n",
    "\n",
    "concat(\"python\", \"java\")\n",
    "\n",
    "concat(\"python\", 34)"
   ]
  },
  {
   "cell_type": "markdown",
   "id": "29085acf",
   "metadata": {},
   "source": [
    "### 9. Provide the output of the below code:"
   ]
  },
  {
   "cell_type": "markdown",
   "id": "fc62db24",
   "metadata": {},
   "source": [
    "def concat(inp1, inp2):\n",
    "\n",
    "    try:\n",
    "        print(\"Output will be : \", inp1 + inp2)\n",
    "    except:\n",
    "        print(\"Invalid inputs\")\n",
    "    else:\n",
    "        print(\"In else part\")  \n",
    "    finally:\n",
    "        print(\"In finally part\")\n",
    "        \n",
    "        \n",
    "concat(1,2)\n",
    "\n",
    "concat(\"python\", \"java\")\n",
    "\n",
    "concat(\"python\", 34)"
   ]
  },
  {
   "cell_type": "code",
   "execution_count": 1,
   "id": "74d7fe50",
   "metadata": {},
   "outputs": [
    {
     "ename": "IndentationError",
     "evalue": "expected an indented block after function definition on line 1 (1969145225.py, line 3)",
     "output_type": "error",
     "traceback": [
      "\u001b[1;36m  Cell \u001b[1;32mIn[1], line 3\u001b[1;36m\u001b[0m\n\u001b[1;33m    try:\u001b[0m\n\u001b[1;37m    ^\u001b[0m\n\u001b[1;31mIndentationError\u001b[0m\u001b[1;31m:\u001b[0m expected an indented block after function definition on line 1\n"
     ]
    }
   ],
   "source": [
    "def concat(inp1, inp2):\n",
    "\n",
    "try:\n",
    "    print(\"Output will be : \", inp1 + inp2)\n",
    "except:\n",
    "    print(\"Invalid inputs\")\n",
    "else:\n",
    "    print(\"In else part\")  \n",
    "finally:\n",
    "    print(\"In finally part\")\n",
    "    \n",
    "    \n",
    "concat(1,2)\n",
    "\n",
    "concat(\"python\", \"java\")\n",
    "\n",
    "concat(\"python\", 34)"
   ]
  },
  {
   "cell_type": "markdown",
   "id": "516efc01",
   "metadata": {},
   "source": [
    "### 10. Will the code below run and if the error has occurred then will it be a runtime error or compile time error?"
   ]
  },
  {
   "cell_type": "markdown",
   "id": "66398271",
   "metadata": {},
   "source": [
    "def concat(inp1, inp2):\n",
    "\n",
    "       return inp1 + inp2\n",
    "        \n",
    "        \n",
    "concat(1,2)\n",
    "\n",
    "concat(\"python\", \"java\")\n",
    "\n",
    "concat(\"python\", 34)"
   ]
  },
  {
   "cell_type": "code",
   "execution_count": null,
   "id": "31228356",
   "metadata": {},
   "outputs": [],
   "source": []
  },
  {
   "cell_type": "markdown",
   "id": "1c119507",
   "metadata": {},
   "source": [
    "-------------------\n",
    "### Happy Learning :)\n",
    "------------------"
   ]
  }
 ],
 "metadata": {
  "kernelspec": {
   "display_name": "Python 3 (ipykernel)",
   "language": "python",
   "name": "python3"
  },
  "language_info": {
   "codemirror_mode": {
    "name": "ipython",
    "version": 3
   },
   "file_extension": ".py",
   "mimetype": "text/x-python",
   "name": "python",
   "nbconvert_exporter": "python",
   "pygments_lexer": "ipython3",
   "version": "3.11.5"
  }
 },
 "nbformat": 4,
 "nbformat_minor": 5
}
