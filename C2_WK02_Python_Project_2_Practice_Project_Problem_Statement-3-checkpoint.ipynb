{
 "cells": [
  {
   "cell_type": "markdown",
   "id": "fbxoH75-AVYD",
   "metadata": {
    "id": "fbxoH75-AVYD"
   },
   "source": [
    "![GL new logo .svg](data:image/svg+xml;base64,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)\n",
    "\n",
    "Proprietary content. © Great Learning. All Rights Reserved. Unauthorized use or distribution prohibited."
   ]
  },
  {
   "cell_type": "markdown",
   "id": "2bc1d21f",
   "metadata": {
    "id": "2bc1d21f"
   },
   "source": [
    "# Course 2 - Week02 - Python Project 2 - Practice Project - <font color=\"red\">Problem Statement</font>"
   ]
  },
  {
   "cell_type": "markdown",
   "id": "fc6cded3",
   "metadata": {
    "id": "fc6cded3"
   },
   "source": [
    "-------------------------------------------------------------------------------------------------------------------------------"
   ]
  },
  {
   "cell_type": "markdown",
   "id": "0f24ea8d",
   "metadata": {
    "id": "0f24ea8d"
   },
   "source": [
    "# PART I: Banking Application"
   ]
  },
  {
   "cell_type": "markdown",
   "id": "b4d76878",
   "metadata": {
    "id": "b4d76878"
   },
   "source": [
    "### <font color=\"blue\">Implement a Simple banking Application that has the following features:</font>\n",
    "\n",
    "1. Creating a new account\n",
    "2. Depositing money to an account\n",
    "3. Withdrawing money from an account.  \n",
    "Also, handle the case where we have insufficient funds during withdrawal.\n"
   ]
  },
  {
   "cell_type": "code",
   "execution_count": null,
   "id": "b10afac3",
   "metadata": {
    "id": "b10afac3"
   },
   "outputs": [],
   "source": [
    "# Accounts used as global variables with stores the account numbers with the respective amount in them\n",
    "# Pair in dictionary : <account_number, amount>\n",
    "ACCOUNTS = dict()"
   ]
  },
  {
   "cell_type": "code",
   "execution_count": null,
   "id": "ZGHCUw2svJ4S",
   "metadata": {
    "id": "ZGHCUw2svJ4S"
   },
   "outputs": [],
   "source": [
    "#ACCOUNTS = {'ABC1234': 100000}"
   ]
  },
  {
   "cell_type": "code",
   "execution_count": null,
   "id": "a4ed2e8e",
   "metadata": {
    "id": "a4ed2e8e"
   },
   "outputs": [],
   "source": [
    "def create_new_account(acc_no):\n",
    "    pass # write your code to create a new account"
   ]
  },
  {
   "cell_type": "code",
   "execution_count": null,
   "id": "0223d2d2",
   "metadata": {
    "id": "0223d2d2"
   },
   "outputs": [],
   "source": [
    "def deposit(acc_no, amount):\n",
    "    pass # Write your code to deposit money and while doing so please ensure that the account is a valid account"
   ]
  },
  {
   "cell_type": "code",
   "execution_count": null,
   "id": "5fb9090e",
   "metadata": {
    "id": "5fb9090e"
   },
   "outputs": [],
   "source": [
    "def withdraw(acc_no, amount):\n",
    "    pass # Write your code to withdraw money and while doing so please ensure that the account has sufficient amount \n",
    "         # and the account is a valid account"
   ]
  },
  {
   "cell_type": "code",
   "execution_count": null,
   "id": "99035fa0",
   "metadata": {
    "id": "99035fa0"
   },
   "outputs": [],
   "source": [
    "def show_balance(acc_no):\n",
    "    pass # Write your code to show balance"
   ]
  },
  {
   "cell_type": "code",
   "execution_count": null,
   "id": "b9c85210",
   "metadata": {
    "id": "b9c85210"
   },
   "outputs": [],
   "source": [
    "def show_menu():\n",
    "    print(\"\\n1. New Account Opening\")\n",
    "    print(\"2. Deposit money to account\")\n",
    "    print(\"3. Withdraw money from account\")\n",
    "    print(\"4. Show balance\")\n",
    "    print(\"5. Quit\")"
   ]
  },
  {
   "cell_type": "markdown",
   "id": "04c64537",
   "metadata": {
    "id": "04c64537"
   },
   "source": [
    "#### Driver Code for running baning Application"
   ]
  },
  {
   "cell_type": "code",
   "execution_count": null,
   "id": "aec7c60d",
   "metadata": {
    "id": "aec7c60d"
   },
   "outputs": [],
   "source": [
    "if __name__ == \"__main__\":\n",
    "    while(True):\n",
    "        show_menu()\n",
    "        \n",
    "        choice = int(input('\\nEnter the operation to be performed : '))\n",
    "        \n",
    "        \n",
    "        if choice == 1:\n",
    "            acc_number = input('\\nEnter account number for new account opening : ')\n",
    "            \n",
    "            create_new_account(acc_number)\n",
    "            \n",
    "        elif choice == 2:\n",
    "            acc_number = input('\\nEnter the accout number for depositing money : ')\n",
    "            amount = int(input('Enter amount for depositing money : '))\n",
    "            \n",
    "            deposit(acc_number, amount)\n",
    "            \n",
    "        elif choice == 3:\n",
    "            acc_number = input('\\nEnter the accout number for withdrawing money : ')\n",
    "            amount = int(input('Enter amount for withdrawing money : '))\n",
    "            \n",
    "            withdraw(acc_number, amount)\n",
    "            \n",
    "            \n",
    "        elif choice == 4:\n",
    "            acc_number = input('\\nEnter the accout number for showing account balance : ')\n",
    "            \n",
    "            show_balance(acc_number)\n",
    "            \n",
    "        elif choice == 5:\n",
    "            print(\"\\nThanks for banking with us\")\n",
    "            break"
   ]
  },
  {
   "cell_type": "markdown",
   "id": "99bc185c",
   "metadata": {
    "id": "99bc185c"
   },
   "source": [
    "--------------------------------------------------------------------------------------------------------------------------------"
   ]
  },
  {
   "cell_type": "markdown",
   "id": "838ad2b8",
   "metadata": {
    "id": "838ad2b8"
   },
   "source": [
    "# PART II: Numpy"
   ]
  },
  {
   "cell_type": "markdown",
   "id": "dab66029",
   "metadata": {
    "id": "dab66029"
   },
   "source": [
    "### 1. Write a Code to create 50 evenly spaced numbers between 0 to 10."
   ]
  },
  {
   "cell_type": "code",
   "execution_count": null,
   "id": "15b4dad9",
   "metadata": {
    "id": "15b4dad9"
   },
   "outputs": [],
   "source": []
  },
  {
   "cell_type": "markdown",
   "id": "b7d424c5",
   "metadata": {
    "id": "b7d424c5"
   },
   "source": [
    "### 2. Write a Code to create an array of shape (4,5) with random samples with random seed 7."
   ]
  },
  {
   "cell_type": "code",
   "execution_count": null,
   "id": "c50c39b6",
   "metadata": {
    "id": "c50c39b6"
   },
   "outputs": [],
   "source": []
  },
  {
   "cell_type": "markdown",
   "id": "677a395e",
   "metadata": {
    "id": "677a395e"
   },
   "source": [
    "### 3. Write a Code to reshape the array created in Q3 into shape (2,10)."
   ]
  },
  {
   "cell_type": "code",
   "execution_count": null,
   "id": "ca828db5",
   "metadata": {
    "id": "ca828db5"
   },
   "outputs": [],
   "source": []
  },
  {
   "cell_type": "markdown",
   "id": "da38f7df",
   "metadata": {
    "id": "da38f7df"
   },
   "source": [
    "### 4. Create an 1D array starting from 0 ending with 100 with stepsize 10 and another array starting from 1000 ending with 10000 with stepsize 1000 and then concatenate two arrays created."
   ]
  },
  {
   "cell_type": "code",
   "execution_count": null,
   "id": "398ee1b7",
   "metadata": {
    "id": "398ee1b7"
   },
   "outputs": [],
   "source": []
  },
  {
   "cell_type": "markdown",
   "id": "7f0c140b",
   "metadata": {
    "id": "7f0c140b"
   },
   "source": [
    "### 5. Use an array created in Q4 and then find the values lesser than 50 and replace those values as '<50'."
   ]
  },
  {
   "cell_type": "code",
   "execution_count": null,
   "id": "619b6f59",
   "metadata": {
    "id": "619b6f59"
   },
   "outputs": [],
   "source": []
  },
  {
   "cell_type": "markdown",
   "id": "066d59e4",
   "metadata": {
    "id": "066d59e4"
   },
   "source": [
    "### 6. Write a Code to create 1D, 2D and 3D arrays randomly."
   ]
  },
  {
   "cell_type": "code",
   "execution_count": null,
   "id": "5e7d096c",
   "metadata": {
    "id": "5e7d096c"
   },
   "outputs": [],
   "source": []
  },
  {
   "cell_type": "markdown",
   "id": "7e1960d1",
   "metadata": {
    "id": "7e1960d1"
   },
   "source": [
    "### 7. Write a Code to create an array with 10 random integers within 100."
   ]
  },
  {
   "cell_type": "code",
   "execution_count": null,
   "id": "702ec7b0",
   "metadata": {
    "id": "702ec7b0"
   },
   "outputs": [],
   "source": []
  },
  {
   "cell_type": "markdown",
   "id": "a30b049d",
   "metadata": {
    "id": "a30b049d"
   },
   "source": [
    "### 8. Create a array with an sample data with shape of (5,4) with standard normal distribution with random seed of 201."
   ]
  },
  {
   "cell_type": "code",
   "execution_count": null,
   "id": "0d6cbc9d",
   "metadata": {
    "id": "0d6cbc9d"
   },
   "outputs": [],
   "source": []
  },
  {
   "cell_type": "markdown",
   "id": "f531d7b7",
   "metadata": {
    "id": "f531d7b7"
   },
   "source": [
    "### 9. Find the most frequent value in an numpy 1D array. \n",
    "Use array x = np.array([10,20,66,20,10,30,50,60,70,60,66,12,13,66])"
   ]
  },
  {
   "cell_type": "code",
   "execution_count": null,
   "id": "348ac5ea",
   "metadata": {
    "id": "348ac5ea"
   },
   "outputs": [],
   "source": []
  },
  {
   "cell_type": "markdown",
   "id": "ffd99c5b",
   "metadata": {
    "id": "ffd99c5b"
   },
   "source": [
    "### 10. Write a Code to Flatten a 2d array into 1d array. \n",
    "Use array: np.array([[1,2,3],[8,9,10],[11,22,33]])"
   ]
  },
  {
   "cell_type": "code",
   "execution_count": null,
   "id": "23c20287",
   "metadata": {
    "id": "23c20287"
   },
   "outputs": [],
   "source": []
  },
  {
   "cell_type": "markdown",
   "id": "1a49b209",
   "metadata": {
    "id": "1a49b209"
   },
   "source": [
    "### Happy Learning :)"
   ]
  }
 ],
 "metadata": {
  "colab": {
   "provenance": []
  },
  "kernelspec": {
   "display_name": "Python 3 (ipykernel)",
   "language": "python",
   "name": "python3"
  },
  "language_info": {
   "codemirror_mode": {
    "name": "ipython",
    "version": 3
   },
   "file_extension": ".py",
   "mimetype": "text/x-python",
   "name": "python",
   "nbconvert_exporter": "python",
   "pygments_lexer": "ipython3",
   "version": "3.11.5"
  }
 },
 "nbformat": 4,
 "nbformat_minor": 5
}
