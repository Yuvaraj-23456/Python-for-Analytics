{
 "cells": [
  {
   "cell_type": "markdown",
   "metadata": {
    "id": "Q6Ub9n6MWtS3"
   },
   "source": [
    "----\n",
    "# Course 2 - Week 02 - Day04 - Practice Exercise\n",
    "----"
   ]
  },
  {
   "cell_type": "markdown",
   "metadata": {},
   "source": [
    "### 1. Splitting "
   ]
  },
  {
   "cell_type": "markdown",
   "metadata": {
    "id": "fAudX4lzvLzn"
   },
   "source": [
    "#### Q. Write a code to divide the array into three sub-arrays containing an equal number of rows. "
   ]
  },
  {
   "cell_type": "markdown",
   "metadata": {
    "id": "-zF54fW_XL4c"
   },
   "source": [
    "Use the array given below:\n",
    "\n",
    "A = [[4, 7], [2, -3], [8, 1], [0, 9], [5,-1], [8, 3]]"
   ]
  },
  {
   "cell_type": "code",
   "execution_count": 2,
   "metadata": {
    "id": "7i0Toa9cvLzo"
   },
   "outputs": [
    {
     "name": "stdout",
     "output_type": "stream",
     "text": [
      "(6, 2)\n",
      "[array([[ 4,  7],\n",
      "       [ 2, -3]]), array([[8, 1],\n",
      "       [0, 9]]), array([[ 5, -1],\n",
      "       [ 8,  3]])]\n"
     ]
    }
   ],
   "source": [
    "# split the array into 3 sub-arrays containing two rows each\n",
    "import numpy as np\n",
    "A =np.array ([[4, 7], [2, -3], [8, 1], [0, 9], [5,-1], [8, 3]])\n",
    "print(A.shape)\n",
    "print(np.split(A,3))"
   ]
  },
  {
   "cell_type": "markdown",
   "metadata": {
    "id": "4Tr3FRUOvLzo"
   },
   "source": [
    "#### Two ways to do that\n",
    "1. By using np.array_split\n",
    "2. By using np.split"
   ]
  },
  {
   "cell_type": "code",
   "execution_count": 5,
   "metadata": {
    "id": "dQm4xRfrvLzo",
    "outputId": "7e82916d-3808-459b-dbf1-0700f17917d5"
   },
   "outputs": [
    {
     "name": "stdout",
     "output_type": "stream",
     "text": [
      "[array([[ 4,  7],\n",
      "       [ 2, -3]]), array([[8, 1],\n",
      "       [0, 9]]), array([[ 5, -1],\n",
      "       [ 8,  3]])]\n"
     ]
    }
   ],
   "source": [
    "## Approach 1\n",
    "print(np.array_split(A,3))"
   ]
  },
  {
   "cell_type": "code",
   "execution_count": 6,
   "metadata": {
    "id": "v2bR9VflvLzp",
    "outputId": "5ea2c3b3-2449-4694-bb1e-ca872bcc8199"
   },
   "outputs": [
    {
     "name": "stdout",
     "output_type": "stream",
     "text": [
      "[array([[ 4,  7],\n",
      "       [ 2, -3]]), array([[8, 1],\n",
      "       [0, 9]]), array([[ 5, -1],\n",
      "       [ 8,  3]])]\n"
     ]
    }
   ],
   "source": [
    "## Approach 2\n",
    "print(np.split(A,3))"
   ]
  },
  {
   "cell_type": "markdown",
   "metadata": {
    "id": "MpoaWn19XdQh"
   },
   "source": [
    "\t\n",
    "#### Q.  Write a program to divide the array into two sub-arrays containing an equal number of columns"
   ]
  },
  {
   "cell_type": "markdown",
   "metadata": {
    "id": "I1ZyUyKkXi3d"
   },
   "source": [
    "Use the array given below:\n",
    "\n",
    "B = [[8, 7, 0, 9], [2, -3, 5, 10], [8, 5, -1,3]]"
   ]
  },
  {
   "cell_type": "code",
   "execution_count": 8,
   "metadata": {},
   "outputs": [
    {
     "name": "stdout",
     "output_type": "stream",
     "text": [
      "(3, 4)\n",
      "B1 [[ 8  7]\n",
      " [ 2 -3]\n",
      " [ 8  5]]\n",
      "B2 [[ 0  9]\n",
      " [ 5 10]\n",
      " [-1  3]]\n"
     ]
    }
   ],
   "source": [
    "import numpy as np\n",
    "B = np.array([[8, 7, 0, 9], [2, -3, 5, 10], [8, 5, -1,3]])\n",
    "print(B.shape)\n",
    "B1,B2=np.hsplit(B,2)\n",
    "print(\"B1\",B1)\n",
    "print(\"B2\",B2)"
   ]
  },
  {
   "cell_type": "markdown",
   "metadata": {
    "id": "-r5AdfqMvLzq"
   },
   "source": [
    "### 2. Concatenation"
   ]
  },
  {
   "cell_type": "markdown",
   "metadata": {},
   "source": [
    "#### Q. Stack two arrays vertically"
   ]
  },
  {
   "cell_type": "markdown",
   "metadata": {},
   "source": [
    "Use the array given below:\n",
    "\n",
    "array1 = np.arange(10).reshape(2,-1)\n",
    "\n",
    "array2 = np.repeat(1, 10).reshape(2,-1)"
   ]
  },
  {
   "cell_type": "code",
   "execution_count": 7,
   "metadata": {},
   "outputs": [
    {
     "data": {
      "text/plain": [
       "array([[0, 1, 2, 3, 4],\n",
       "       [5, 6, 7, 8, 9],\n",
       "       [1, 1, 1, 1, 1],\n",
       "       [1, 1, 1, 1, 1]])"
      ]
     },
     "execution_count": 7,
     "metadata": {},
     "output_type": "execute_result"
    }
   ],
   "source": [
    "array1 = np.arange(10).reshape(2,-1)\n",
    "\n",
    "array2 = np.repeat(1, 10).reshape(2,-1)\n",
    "np.concatenate([array1,array2])"
   ]
  },
  {
   "cell_type": "markdown",
   "metadata": {},
   "source": [
    "#### Q. Stack two arrays horizontally\n",
    "\n",
    "Use the array given below:\n",
    "\n",
    "array1 = np.arange(20).reshape(4,-1)\n",
    "\n",
    "array2 = np.arange(20, 40, 1).reshape(4,-1)"
   ]
  },
  {
   "cell_type": "code",
   "execution_count": 6,
   "metadata": {},
   "outputs": [
    {
     "name": "stdout",
     "output_type": "stream",
     "text": [
      "[[ 0  1  2  3  4]\n",
      " [ 5  6  7  8  9]\n",
      " [10 11 12 13 14]\n",
      " [15 16 17 18 19]]\n",
      "[[20 21 22 23 24]\n",
      " [25 26 27 28 29]\n",
      " [30 31 32 33 34]\n",
      " [35 36 37 38 39]]\n"
     ]
    },
    {
     "data": {
      "text/plain": [
       "array([[ 0,  1,  2,  3,  4, 20, 21, 22, 23, 24],\n",
       "       [ 5,  6,  7,  8,  9, 25, 26, 27, 28, 29],\n",
       "       [10, 11, 12, 13, 14, 30, 31, 32, 33, 34],\n",
       "       [15, 16, 17, 18, 19, 35, 36, 37, 38, 39]])"
      ]
     },
     "execution_count": 6,
     "metadata": {},
     "output_type": "execute_result"
    }
   ],
   "source": [
    "array1 = np.arange(20).reshape(4,-1)\n",
    "\n",
    "array2 = np.arange(20, 40, 1).reshape(4,-1)\n",
    "print(array1)\n",
    "print(array2)\n",
    "np.concatenate([array1,array2], axis=1)"
   ]
  },
  {
   "cell_type": "markdown",
   "metadata": {},
   "source": [
    "#### Q. Stack the arrays horizontally and vertically\n",
    "\n",
    "\n",
    "Use the array given below:\n",
    "\n",
    "array1 = np.arange(20).reshape(2,-1)\n",
    "\n",
    "array2 = np.arange(20, 40, 1).reshape(4,-1)"
   ]
  },
  {
   "cell_type": "code",
   "execution_count": 13,
   "metadata": {},
   "outputs": [
    {
     "name": "stdout",
     "output_type": "stream",
     "text": [
      "[[ 0  1  2  3  4  5  6  7  8  9]\n",
      " [10 11 12 13 14 15 16 17 18 19]]\n",
      "[[20 21 22 23 24]\n",
      " [25 26 27 28 29]\n",
      " [30 31 32 33 34]\n",
      " [35 36 37 38 39]]\n",
      "(2, 10)\n",
      "(4, 5)\n",
      "[[ 0  1  2  3  4]\n",
      " [10 11 12 13 14]\n",
      " [ 5  6  7  8  9]\n",
      " [15 16 17 18 19]]\n"
     ]
    }
   ],
   "source": [
    "import numpy as np\n",
    "array1 = np.arange(20).reshape(2,-1)\n",
    "array2 = np.arange(20, 40, 1).reshape(4,-1)\n",
    "print(array1)\n",
    "print(array2)\n",
    "print(array1.shape)\n",
    "print(array2.shape)\n",
    "np.concatenate([array1,np.concatenate([array2,array2],axis=1)])\n",
    "array3=np.concatenate(np.hsplit(array1,2))\n",
    "print(array3)\n"
   ]
  },
  {
   "cell_type": "markdown",
   "metadata": {},
   "source": [
    "---\n",
    "### Happy Learning:)\n",
    "---"
   ]
  }
 ],
 "metadata": {
  "colab": {
   "collapsed_sections": [],
   "provenance": []
  },
  "kernelspec": {
   "display_name": "Python 3 (ipykernel)",
   "language": "python",
   "name": "python3"
  },
  "language_info": {
   "codemirror_mode": {
    "name": "ipython",
    "version": 3
   },
   "file_extension": ".py",
   "mimetype": "text/x-python",
   "name": "python",
   "nbconvert_exporter": "python",
   "pygments_lexer": "ipython3",
   "version": "3.11.5"
  },
  "vscode": {
   "interpreter": {
    "hash": "1bcaa234541af14269647e78a58ff1e2c97283aefba8e8df69f3d751152a4c75"
   }
  }
 },
 "nbformat": 4,
 "nbformat_minor": 1
}
