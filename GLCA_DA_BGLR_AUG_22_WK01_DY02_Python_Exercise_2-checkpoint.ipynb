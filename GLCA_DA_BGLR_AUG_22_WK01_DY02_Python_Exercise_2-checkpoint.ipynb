{
 "cells": [
  {
   "cell_type": "markdown",
   "metadata": {
    "id": "nN8pBEDT7G6f"
   },
   "source": [
    "## Advanced IF-ELSE"
   ]
  },
  {
   "cell_type": "markdown",
   "metadata": {
    "id": "RjYgvaOb7G6h"
   },
   "source": [
    "<img src =\"https://cdn.pixabay.com/photo/2019/04/02/09/27/income-tax-4097292_1280.jpg\" width=50% height =25%></img>\n",
    "\n",
    "<h1 style =\"font-family:Times;color:DarkBlue\"> Ms. George is a CA and is just bored of manually calculating her clients' tax slabs. She asks her daughter's friend, YOU!, yes You , to  help her automate this boring stuff.</h1>\n",
    "\n",
    "<h1 style =\"font-family:Times;color:DarkBlue\"><img src =\" https://cdn.pixabay.com/photo/2018/01/14/23/10/bored-3082829__340.jpg\" width=40% height =25%>\n",
    " Will you help her?</h1></img>"
   ]
  },
  {
   "cell_type": "markdown",
   "metadata": {
    "id": "b55drXmj7G6j"
   },
   "source": [
    ">Taxable income Tax Rate\n",
    "    \n",
    ">Up to Rs. 2,50,000\t            ***Nil***\n",
    "\n",
    ">Rs. 2,50,001 to Rs. 5,00,000\t***5%***\n",
    "\n",
    ">Rs. 5,00,001 to Rs. 7,50,000\t***10%***\n",
    "\n",
    ">Rs. 7,50,001 to Rs. 10,00,000\t***15%***\n",
    "\n",
    ">Rs. 10,00,001 to Rs. 12,50,000\t***20%***\n",
    "\n",
    ">Rs. 12,50,001 to Rs. 15,00,000\t***25%***\n",
    "\n",
    ">Above Rs. 15,00,000\t        ***30%***"
   ]
  },
  {
   "cell_type": "code",
   "execution_count": 1,
   "metadata": {
    "colab": {
     "base_uri": "https://localhost:8080/"
    },
    "id": "RdROthn37G6k",
    "outputId": "5eba0b45-3b71-4d9d-c99a-7383ddb70ece"
   },
   "outputs": [],
   "source": [
    "\n",
    "#Take salary as an input, store it in a object/variable then use above tax slabs and print the slab and amount that slab % costs the client\n"
   ]
  },
  {
   "cell_type": "markdown",
   "metadata": {
    "id": "BNyj0U3h7G7F"
   },
   "source": [
    "# Loops\n",
    "- FOR loop\n",
    "- While loop"
   ]
  },
  {
   "cell_type": "markdown",
   "metadata": {
    "id": "tRNcy9l57G7H"
   },
   "source": [
    "## `for` Loop"
   ]
  },
  {
   "cell_type": "code",
   "execution_count": 1,
   "metadata": {
    "id": "gp7850pl7G7J",
    "outputId": "24549fba-52e3-42e9-fb4c-9c0b7c1478cc"
   },
   "outputs": [],
   "source": [
    "#Printing square from 1 to 10\n",
    "x=[1,2,3,4,5,6,7,8,9]\n",
    "\n",
    "# Hint: iterate in list x and print each element of the list x along with its square\n"
   ]
  },
  {
   "cell_type": "markdown",
   "metadata": {
    "id": "i_CU4ys87G8U"
   },
   "source": [
    "<h1 style =\"font-family:Times;color:DarkBlue\">Goods and Services Tax or simply GST. When this word comes, the local shopkeepers kind of feel irked because of the complex calculations and confusing guidelines. </h1>\n",
    "\n",
    "\n",
    "<img src =\"https://www.outlookindia.com/outlookmoney/public/uploads/article/gallery/a0bbda7bd6bac8ffd1816c339e5b71d8.jpg\" width=60% height =25%></img>\n",
    "\n",
    "\n",
    "<h1 style =\"font-family:Times;color:DarkBlue\">You gotta use your python skills to help your local shopkeeper calculate the Net Price for his shop's product provided below along with it's respective GST slab.</h1>\n",
    "\n",
    "<img src =\"https://i.imgflip.com/v1ymo.jpg\"></img>\n",
    "\n",
    "\n"
   ]
  },
  {
   "cell_type": "markdown",
   "metadata": {
    "id": "r_kJVwM1syJm"
   },
   "source": [
    "GST Amount = ( Original Cost * GST ) / 100\n",
    "\n",
    "Net Price = Original Cost + GST Amount"
   ]
  },
  {
   "cell_type": "markdown",
   "metadata": {
    "id": "Rh3ZRW79s6R0"
   },
   "source": [
    "#Given\n",
    "\n",
    "Product Cost / GST Slab\n",
    "\n",
    "Product1- 1000 / **18%**\n",
    "\n",
    "Product2- 250 / **18%**\n",
    "\n",
    "Product3- 125 / **5%**\n",
    "\n",
    "Product4- 345 / **18%**\n",
    "\n",
    "Product5- 820 / **12%**\n",
    "\n",
    "Product6- 980 / **5%**\n",
    "\n",
    "Product7- 500 / **12%**\n",
    "\n"
   ]
  },
  {
   "cell_type": "code",
   "execution_count": 3,
   "metadata": {
    "id": "QwnEwszg7G8V"
   },
   "outputs": [],
   "source": [
    "products_gst_slabs = {'Product1':18,'Product2':18,'Product3':5,'Product4':18,'Product5':12,'Product6':5,\n",
    "                          'Product7':12}\n",
    "\n",
    "products_original_cost = {'Product1':1000,'Product2':250,'Product3':125,'Product4':345,'Product5':820,'Product6':980,\n",
    "                          'Product7':500}"
   ]
  },
  {
   "cell_type": "code",
   "execution_count": 2,
   "metadata": {
    "colab": {
     "base_uri": "https://localhost:8080/"
    },
    "id": "gSvqH4X9uPPS",
    "outputId": "71b2463d-f75d-4052-95a8-2d0768e1e7d0"
   },
   "outputs": [],
   "source": [
    "# Solve using for loop"
   ]
  },
  {
   "cell_type": "markdown",
   "metadata": {
    "id": "YdkUKJdP7G7Y"
   },
   "source": [
    "## Using IF-ELSE with for Loop"
   ]
  },
  {
   "cell_type": "code",
   "execution_count": 3,
   "metadata": {
    "colab": {
     "base_uri": "https://localhost:8080/"
    },
    "id": "iZVZUDCH7G7b",
    "outputId": "6a56409d-2e9a-43f1-804c-ed3825518f16"
   },
   "outputs": [],
   "source": [
    "#Printing squares of even numbers from 1 to 100\n",
    "#range is used to get a list of numbers from a specified range. The last number is not printed as counting starts from 0 in python"
   ]
  },
  {
   "cell_type": "markdown",
   "metadata": {
    "id": "RHmNyrbd7G88"
   },
   "source": [
    "## `while` loop"
   ]
  },
  {
   "cell_type": "code",
   "execution_count": 4,
   "metadata": {
    "id": "hVOvzuVS7G89",
    "outputId": "a555c0b1-2e89-4365-e58b-90edf05d1633"
   },
   "outputs": [],
   "source": [
    "#Printing square from 1 to 10\n",
    "#Hint: while condition until i is less equal to 10, keep running"
   ]
  },
  {
   "cell_type": "markdown",
   "metadata": {
    "id": "i0Llq6lz7G9C"
   },
   "source": [
    "## Using IF-ELSE with `while` Loop"
   ]
  },
  {
   "cell_type": "code",
   "execution_count": 5,
   "metadata": {
    "id": "wGtD1cOD7G9D",
    "outputId": "e8480dfd-fcde-4eaa-ffd2-df0fb53a38b2"
   },
   "outputs": [],
   "source": [
    "#Printing squares of even numbers from 1 to 100 using while and if"
   ]
  }
 ],
 "metadata": {
  "colab": {
   "collapsed_sections": [],
   "name": "PDS Week-1 (Conditional Statements and Loops).ipynb",
   "provenance": []
  },
  "kernelspec": {
   "display_name": "Python 3 (ipykernel)",
   "language": "python",
   "name": "python3"
  },
  "language_info": {
   "codemirror_mode": {
    "name": "ipython",
    "version": 3
   },
   "file_extension": ".py",
   "mimetype": "text/x-python",
   "name": "python",
   "nbconvert_exporter": "python",
   "pygments_lexer": "ipython3",
   "version": "3.11.5"
  },
  "toc": {
   "base_numbering": 1,
   "nav_menu": {},
   "number_sections": true,
   "sideBar": true,
   "skip_h1_title": false,
   "title_cell": "Table of Contents",
   "title_sidebar": "Contents",
   "toc_cell": false,
   "toc_position": {},
   "toc_section_display": true,
   "toc_window_display": false
  },
  "varInspector": {
   "cols": {
    "lenName": 16,
    "lenType": 16,
    "lenVar": 40
   },
   "kernels_config": {
    "python": {
     "delete_cmd_postfix": "",
     "delete_cmd_prefix": "del ",
     "library": "var_list.py",
     "varRefreshCmd": "print(var_dic_list())"
    },
    "r": {
     "delete_cmd_postfix": ") ",
     "delete_cmd_prefix": "rm(",
     "library": "var_list.r",
     "varRefreshCmd": "cat(var_dic_list()) "
    }
   },
   "types_to_exclude": [
    "module",
    "function",
    "builtin_function_or_method",
    "instance",
    "_Feature"
   ],
   "window_display": false
  }
 },
 "nbformat": 4,
 "nbformat_minor": 1
}
