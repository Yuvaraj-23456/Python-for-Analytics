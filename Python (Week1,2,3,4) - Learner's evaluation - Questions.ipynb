{
 "cells": [
  {
   "cell_type": "markdown",
   "id": "b4472782",
   "metadata": {
    "id": "b4472782"
   },
   "source": [
    "# Generate Synthetic data"
   ]
  },
  {
   "cell_type": "code",
   "execution_count": null,
   "id": "762a2bcf",
   "metadata": {
    "id": "762a2bcf",
    "outputId": "d1550794-7ec7-429c-f82e-e3fe8efc2381"
   },
   "outputs": [
    {
     "name": "stdout",
     "output_type": "stream",
     "text": [
      "    Name  Age  Gender  Test 1  Test 2  Test 3  Height  Weight\n",
      "0  Name1   56    Male     NaN    98.0    81.0     NaN    54.0\n",
      "1  Name2   46  Female     NaN    91.0    98.0   185.0    51.0\n",
      "2  Name3   32  Female    95.0    77.0    82.0   154.0    95.0\n",
      "3  Name4   25  Female    94.0    76.0    89.0   188.0    73.0\n",
      "4  Name5   38  Female    91.0    93.0     NaN   155.0    67.0\n"
     ]
    }
   ],
   "source": [
    "import pandas as pd\n",
    "import numpy as np\n",
    "import random\n",
    "\n",
    "# Set a random seed for reproducibility\n",
    "np.random.seed(42)\n",
    "\n",
    "# Generate synthetic data\n",
    "data = {\n",
    "    'Name': ['Name' + str(i) for i in range(1, 5001)],\n",
    "    'Age': np.random.randint(18, 60, 5000),\n",
    "    'Gender': random.choices(['Male', 'Female'], k=5000),\n",
    "    'Test 1': np.random.randint(60, 100, 5000),\n",
    "    'Test 2': np.random.randint(60, 100, 5000),\n",
    "    'Test 3': np.random.randint(60, 100, 5000),\n",
    "    'Height': np.random.randint(150, 200, 5000),\n",
    "    'Weight': np.random.randint(50, 100, 5000)\n",
    "}\n",
    "\n",
    "# Create a DataFrame\n",
    "df = pd.DataFrame(data)\n",
    "\n",
    "# Insert some missing values\n",
    "for col in 'Test 1', 'Test 2', 'Test 3', 'Height', 'Weight':\n",
    "    df.loc[df.sample(frac=0.1).index, col] = np.nan\n",
    "\n",
    "# Save the DataFrame to a CSV file\n",
    "df.to_csv('synthetic_data.csv', index=False)\n",
    "\n",
    "print(df.head())\n"
   ]
  },
  {
   "cell_type": "markdown",
   "id": "72940eb5",
   "metadata": {
    "id": "72940eb5"
   },
   "source": [
    "# Questions (1 marks each)"
   ]
  },
  {
   "cell_type": "markdown",
   "id": "pezI7pAJN4fm",
   "metadata": {
    "id": "pezI7pAJN4fm"
   },
   "source": [
    "# Questions\n",
    "\n",
    "Part - A\n",
    "\n",
    "Question 1:\n",
    "Load the synthetic data CSV file into a pandas DataFrame and display the first 10 rows of the DataFrame.\n",
    "\n",
    "Question 2:\n",
    "Check for any missing values in the DataFrame.\n",
    "\n",
    "Question 3:\n",
    "Fill the missing values in each column with the mean of that column.\n",
    "\n",
    "Question 4:\n",
    "Create a new column in the DataFrame called 'Average' which is the average of 'Test 1', 'Test 2', and 'Test 3' for each student.\n",
    "\n",
    "Question 5:\n",
    "Find the total number of Male and Female students.\n",
    "\n",
    "Question 6:\n",
    "Find the average age of Male and Female students.\n",
    "\n",
    "Question 7:\n",
    "Find the students with the top 10 highest average marks.\n",
    "\n",
    "Question 8:\n",
    "Create a histogram to visualize the distribution of the 'Average' marks.\n",
    "\n",
    "Question 9:\n",
    "Create a bar plot to visualize the number of Male and Female students.\n",
    "\n",
    "Question 10:\n",
    "Create a box plot to visualize the distribution of the 'Age' of the students.\n",
    "\n",
    "Question 11:\n",
    "Create a multivariate line plot to visualize the average scores of 'Test 1', 'Test 2', and 'Test 3' for males and females.\n",
    "\n",
    "Question 12:\n",
    "Save the updated DataFrame with the 'Average' column to a new CSV file.\n",
    "\n",
    "\n",
    "Part - B\n",
    "\n",
    "Question 13:\n",
    "Convert the following lists into a single pandas DataFrame.\n",
    "\n",
    "names = ['Alice', 'Bob', 'Charlie', 'David']\n",
    "ages = [25, 30, 35, 40]\n",
    "\n",
    "\n",
    "Question 14:\n",
    "Create a list of squares of all even numbers between 1 and 20 using list comprehension.\n",
    "\n",
    "Question 15:\n",
    "Use a lambda function to create a list of odd numbers between 1 and 50.\n",
    "\n",
    "Question 16:\n",
    "Write a Python program to print a right angle triangle using \"*\""
   ]
  },
  {
   "cell_type": "raw",
   "id": "c073ab2a",
   "metadata": {
    "id": "c073ab2a"
   },
   "source": [
    "Part - A\n",
    "\n",
    "Question 1:\n",
    "Load the synthetic data CSV file into a pandas DataFrame and display the first 10 rows of the DataFrame.\n",
    "\n",
    "Question 2:\n",
    "Check for any missing values in the DataFrame.\n",
    "\n",
    "Question 3:\n",
    "Fill the missing values in each column with the mean of that column.\n",
    "\n",
    "Question 4:\n",
    "Create a new column in the DataFrame called 'Average' which is the average of 'Test 1', 'Test 2', and 'Test 3' for each student.\n",
    "\n",
    "Question 5:\n",
    "Find the total number of Male and Female students.\n",
    "\n",
    "Question 6:\n",
    "Find the average age of Male and Female students.\n",
    "\n",
    "Question 7:\n",
    "Find the students with the top 10 highest average marks.\n",
    "\n",
    "Question 8:\n",
    "Create a histogram to visualize the distribution of the 'Average' marks.\n",
    "\n",
    "Question 9:\n",
    "Create a bar plot to visualize the number of Male and Female students.\n",
    "\n",
    "Question 10:\n",
    "Create a box plot to visualize the distribution of the 'Age' of the students.\n",
    "\n",
    "Question 11:\n",
    "Create a multivariate line plot to visualize the average scores of 'Test 1', 'Test 2', and 'Test 3' for males and females.\n",
    "\n",
    "Question 12:\n",
    "Save the updated DataFrame with the 'Average' column to a new CSV file.\n",
    "\n",
    "\n",
    "Part - B\n",
    "\n",
    "Question 13:\n",
    "Convert the following lists into a single pandas DataFrame.\n",
    "\n",
    "names = ['Alice', 'Bob', 'Charlie', 'David']\n",
    "ages = [25, 30, 35, 40]\n",
    "\n",
    "\n",
    "Question 14:\n",
    "Create a list of squares of all even numbers between 1 and 20 using list comprehension.\n",
    "\n",
    "Question 15:\n",
    "Use a lambda function to create a list of odd numbers between 1 and 50.\n",
    "\n",
    "Question 16:\n",
    "Write a Python program to print the following star pattern:\n",
    "\n",
    "*\n",
    "**\n",
    "***\n",
    "****\n",
    "*****"
   ]
  },
  {
   "cell_type": "code",
   "execution_count": null,
   "id": "cFxJNemSeSjd",
   "metadata": {
    "id": "cFxJNemSeSjd"
   },
   "outputs": [],
   "source": [
    "import pandas as pd\n",
    "import numpy as np"
   ]
  },
  {
   "cell_type": "raw",
   "id": "Cz1sXbK6Nzbw",
   "metadata": {
    "id": "Cz1sXbK6Nzbw"
   },
   "source": [
    "df=pd.read"
   ]
  },
  {
   "cell_type": "code",
   "execution_count": null,
   "id": "m7Uv4HAGN8Df",
   "metadata": {
    "id": "m7Uv4HAGN8Df"
   },
   "outputs": [],
   "source": []
  }
 ],
 "metadata": {
  "colab": {
   "provenance": []
  },
  "kernelspec": {
   "display_name": "Python 3 (ipykernel)",
   "language": "python",
   "name": "python3"
  },
  "language_info": {
   "codemirror_mode": {
    "name": "ipython",
    "version": 3
   },
   "file_extension": ".py",
   "mimetype": "text/x-python",
   "name": "python",
   "nbconvert_exporter": "python",
   "pygments_lexer": "ipython3",
   "version": "3.11.5"
  }
 },
 "nbformat": 4,
 "nbformat_minor": 5
}
