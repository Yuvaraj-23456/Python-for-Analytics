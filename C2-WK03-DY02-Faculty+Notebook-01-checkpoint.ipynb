{
 "cells": [
  {
   "cell_type": "markdown",
   "metadata": {
    "id": "mTO1MLSNA9uR"
   },
   "source": [
    "![GL logo.png](data:image/png;base64,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)\n",
    "\n",
    "Proprietary content. © Great Learning. All Rights Reserved. Unauthorized use or distribution prohibited."
   ]
  },
  {
   "cell_type": "markdown",
   "metadata": {
    "id": "fcaed390"
   },
   "source": [
    "\n",
    "# <font color='green'> **Course 2: Week 3 - Day 02 - Faculty Notebook-01** </font>"
   ]
  },
  {
   "cell_type": "markdown",
   "metadata": {
    "id": "q6fvFM3oOe5X"
   },
   "source": [
    "## Table of Contents\n",
    "\n",
    "### <font color='blue'>Reading Data from Different Sources</font>\n",
    "### <font color='blue'>Merging and Joining</font>\n",
    "### <font color='blue'>Concatenate</font>\n",
    "### <font color='blue'>Reshaping the DataFrame</font>\n"
   ]
  },
  {
   "cell_type": "markdown",
   "metadata": {
    "id": "YUhbim7FOe5b"
   },
   "source": [
    "## <font color='Green'>**Reading Data from Different Sources**</font>\n",
    "Note that the files names are used as examples only. You can try importing your own files to execute the below examples."
   ]
  },
  {
   "cell_type": "markdown",
   "metadata": {
    "id": "TUG-2qCAOe5c"
   },
   "source": [
    "**1. Read a `.xlsx` file**"
   ]
  },
  {
   "cell_type": "code",
   "execution_count": null,
   "metadata": {
    "id": "a_-8zteJOe5d",
    "outputId": "330e62e3-a0de-4d6b-ca8a-4d3fd012dfb9"
   },
   "outputs": [
    {
     "data": {
      "text/html": [
       "<div>\n",
       "<style scoped>\n",
       "    .dataframe tbody tr th:only-of-type {\n",
       "        vertical-align: middle;\n",
       "    }\n",
       "\n",
       "    .dataframe tbody tr th {\n",
       "        vertical-align: top;\n",
       "    }\n",
       "\n",
       "    .dataframe thead th {\n",
       "        text-align: right;\n",
       "    }\n",
       "</style>\n",
       "<table border=\"1\" class=\"dataframe\">\n",
       "  <thead>\n",
       "    <tr style=\"text-align: right;\">\n",
       "      <th></th>\n",
       "      <th>Age</th>\n",
       "      <th>Gender</th>\n",
       "      <th>Salary</th>\n",
       "    </tr>\n",
       "  </thead>\n",
       "  <tbody>\n",
       "    <tr>\n",
       "      <th>0</th>\n",
       "      <td>45.0</td>\n",
       "      <td>Male</td>\n",
       "      <td>40000.0</td>\n",
       "    </tr>\n",
       "    <tr>\n",
       "      <th>1</th>\n",
       "      <td>12.0</td>\n",
       "      <td>Male</td>\n",
       "      <td>0.0</td>\n",
       "    </tr>\n",
       "    <tr>\n",
       "      <th>2</th>\n",
       "      <td>54.0</td>\n",
       "      <td>Female</td>\n",
       "      <td>150000.0</td>\n",
       "    </tr>\n",
       "    <tr>\n",
       "      <th>3</th>\n",
       "      <td>26.0</td>\n",
       "      <td>Male</td>\n",
       "      <td>30000.0</td>\n",
       "    </tr>\n",
       "    <tr>\n",
       "      <th>4</th>\n",
       "      <td>64.0</td>\n",
       "      <td>Female</td>\n",
       "      <td>15000.0</td>\n",
       "    </tr>\n",
       "    <tr>\n",
       "      <th>5</th>\n",
       "      <td>21.0</td>\n",
       "      <td>Female</td>\n",
       "      <td>25600.0</td>\n",
       "    </tr>\n",
       "  </tbody>\n",
       "</table>\n",
       "</div>"
      ],
      "text/plain": [
       "    Age  Gender    Salary\n",
       "0  45.0    Male   40000.0\n",
       "1  12.0    Male       0.0\n",
       "2  54.0  Female  150000.0\n",
       "3  26.0    Male   30000.0\n",
       "4  64.0  Female   15000.0\n",
       "5  21.0  Female   25600.0"
      ]
     },
     "execution_count": 2,
     "metadata": {},
     "output_type": "execute_result"
    }
   ],
   "source": [
    "import pandas as pd\n",
    "pd.read_excel('example.xlsx')"
   ]
  },
  {
   "cell_type": "markdown",
   "metadata": {
    "id": "GMM2aLkEOe5e"
   },
   "source": [
    "**2. Read a `.zip` file**"
   ]
  },
  {
   "cell_type": "code",
   "execution_count": null,
   "metadata": {
    "id": "VrTAFq5NOe5f",
    "outputId": "ef4b6349-19f9-4795-a35c-c3e89f74bfca"
   },
   "outputs": [
    {
     "name": "stdout",
     "output_type": "stream",
     "text": [
      "   Age  Weight (in kg)  Height (in m)\n",
      "0   45              60           1.35\n",
      "1   12              43           1.21\n",
      "2   54              78           1.50\n",
      "3   26              65           1.21\n",
      "4   68              50           1.32\n"
     ]
    }
   ],
   "source": [
    "import zipfile\n",
    "with zipfile.ZipFile('data.zip') as z:\n",
    "    with z.open('example.csv') as f:\n",
    "        file = pd.read_csv(f)\n",
    "        print(file.head())"
   ]
  },
  {
   "cell_type": "markdown",
   "metadata": {
    "id": "xYXTPTbKOe5f"
   },
   "source": [
    "**3. Read a `.html` file**"
   ]
  },
  {
   "cell_type": "code",
   "execution_count": null,
   "metadata": {
    "id": "W6fgGXBH1WVX",
    "outputId": "ac4ba409-e513-4f2b-a335-7fb0f8096276"
   },
   "outputs": [
    {
     "data": {
      "text/plain": [
       "[   Age  Gender  Salary\n",
       " 1                     \n",
       " 2   45    Male   40000\n",
       " 3   12    Male       0\n",
       " 4   54  Female  150000\n",
       " 5   26    Male   30000\n",
       " 6   64  Female   15000\n",
       " 7   21  Female   25600]"
      ]
     },
     "execution_count": 4,
     "metadata": {},
     "output_type": "execute_result"
    }
   ],
   "source": [
    "df = pd.read_html('Sheet1.html', header=1, index_col=0)\n",
    "df"
   ]
  },
  {
   "cell_type": "markdown",
   "metadata": {
    "id": "AZfchzFsOe5f"
   },
   "source": [
    "**4. Read a `.txt` file**"
   ]
  },
  {
   "cell_type": "code",
   "execution_count": null,
   "metadata": {
    "id": "OaPOG0_QOe5g",
    "outputId": "66da6081-2f99-4706-c334-3568a6b61a2f"
   },
   "outputs": [
    {
     "data": {
      "text/html": [
       "<div>\n",
       "<style scoped>\n",
       "    .dataframe tbody tr th:only-of-type {\n",
       "        vertical-align: middle;\n",
       "    }\n",
       "\n",
       "    .dataframe tbody tr th {\n",
       "        vertical-align: top;\n",
       "    }\n",
       "\n",
       "    .dataframe thead th {\n",
       "        text-align: right;\n",
       "    }\n",
       "</style>\n",
       "<table border=\"1\" class=\"dataframe\">\n",
       "  <thead>\n",
       "    <tr style=\"text-align: right;\">\n",
       "      <th></th>\n",
       "      <th>Country</th>\n",
       "      <th>Birth rate</th>\n",
       "      <th>Life expectancy</th>\n",
       "    </tr>\n",
       "  </thead>\n",
       "  <tbody>\n",
       "    <tr>\n",
       "      <th>0</th>\n",
       "      <td>Vietnam</td>\n",
       "      <td>1.822</td>\n",
       "      <td>74.828244</td>\n",
       "    </tr>\n",
       "    <tr>\n",
       "      <th>1</th>\n",
       "      <td>Vanuatu</td>\n",
       "      <td>3.869</td>\n",
       "      <td>70.819488</td>\n",
       "    </tr>\n",
       "    <tr>\n",
       "      <th>2</th>\n",
       "      <td>Tonga</td>\n",
       "      <td>3.911</td>\n",
       "      <td>72.150659</td>\n",
       "    </tr>\n",
       "    <tr>\n",
       "      <th>3</th>\n",
       "      <td>Timor-Leste</td>\n",
       "      <td>5.578</td>\n",
       "      <td>61.999854</td>\n",
       "    </tr>\n",
       "    <tr>\n",
       "      <th>4</th>\n",
       "      <td>Thailand</td>\n",
       "      <td>1.579</td>\n",
       "      <td>73.927659</td>\n",
       "    </tr>\n",
       "  </tbody>\n",
       "</table>\n",
       "</div>"
      ],
      "text/plain": [
       "       Country  Birth rate  Life expectancy\n",
       "0      Vietnam       1.822        74.828244\n",
       "1      Vanuatu       3.869        70.819488\n",
       "2        Tonga       3.911        72.150659\n",
       "3  Timor-Leste       5.578        61.999854\n",
       "4     Thailand       1.579        73.927659"
      ]
     },
     "execution_count": 6,
     "metadata": {},
     "output_type": "execute_result"
    }
   ],
   "source": [
    "data = pd.read_csv('example.txt', sep=\"\\t\")\n",
    "data.head()"
   ]
  },
  {
   "cell_type": "markdown",
   "metadata": {
    "id": "S8OtYNSZOe5g"
   },
   "source": [
    "**5. Read a `.json` file**\n"
   ]
  },
  {
   "cell_type": "code",
   "execution_count": null,
   "metadata": {
    "id": "dbjd6cBi1WVY",
    "outputId": "1e3ec837-48d1-4f15-afd7-8d7898a3cb94"
   },
   "outputs": [
    {
     "data": {
      "text/html": [
       "<div>\n",
       "<style scoped>\n",
       "    .dataframe tbody tr th:only-of-type {\n",
       "        vertical-align: middle;\n",
       "    }\n",
       "\n",
       "    .dataframe tbody tr th {\n",
       "        vertical-align: top;\n",
       "    }\n",
       "\n",
       "    .dataframe thead th {\n",
       "        text-align: right;\n",
       "    }\n",
       "</style>\n",
       "<table border=\"1\" class=\"dataframe\">\n",
       "  <thead>\n",
       "    <tr style=\"text-align: right;\">\n",
       "      <th></th>\n",
       "      <th>sepalLength</th>\n",
       "      <th>sepalWidth</th>\n",
       "      <th>petalLength</th>\n",
       "      <th>petalWidth</th>\n",
       "      <th>species</th>\n",
       "    </tr>\n",
       "  </thead>\n",
       "  <tbody>\n",
       "    <tr>\n",
       "      <th>0</th>\n",
       "      <td>5.1</td>\n",
       "      <td>3.5</td>\n",
       "      <td>1.4</td>\n",
       "      <td>0.2</td>\n",
       "      <td>setosa</td>\n",
       "    </tr>\n",
       "    <tr>\n",
       "      <th>1</th>\n",
       "      <td>4.9</td>\n",
       "      <td>3.0</td>\n",
       "      <td>1.4</td>\n",
       "      <td>0.2</td>\n",
       "      <td>setosa</td>\n",
       "    </tr>\n",
       "    <tr>\n",
       "      <th>2</th>\n",
       "      <td>4.7</td>\n",
       "      <td>3.2</td>\n",
       "      <td>1.3</td>\n",
       "      <td>0.2</td>\n",
       "      <td>setosa</td>\n",
       "    </tr>\n",
       "    <tr>\n",
       "      <th>3</th>\n",
       "      <td>4.6</td>\n",
       "      <td>3.1</td>\n",
       "      <td>1.5</td>\n",
       "      <td>0.2</td>\n",
       "      <td>setosa</td>\n",
       "    </tr>\n",
       "    <tr>\n",
       "      <th>4</th>\n",
       "      <td>5.0</td>\n",
       "      <td>3.6</td>\n",
       "      <td>1.4</td>\n",
       "      <td>0.2</td>\n",
       "      <td>setosa</td>\n",
       "    </tr>\n",
       "    <tr>\n",
       "      <th>...</th>\n",
       "      <td>...</td>\n",
       "      <td>...</td>\n",
       "      <td>...</td>\n",
       "      <td>...</td>\n",
       "      <td>...</td>\n",
       "    </tr>\n",
       "    <tr>\n",
       "      <th>145</th>\n",
       "      <td>6.7</td>\n",
       "      <td>3.0</td>\n",
       "      <td>5.2</td>\n",
       "      <td>2.3</td>\n",
       "      <td>virginica</td>\n",
       "    </tr>\n",
       "    <tr>\n",
       "      <th>146</th>\n",
       "      <td>6.3</td>\n",
       "      <td>2.5</td>\n",
       "      <td>5.0</td>\n",
       "      <td>1.9</td>\n",
       "      <td>virginica</td>\n",
       "    </tr>\n",
       "    <tr>\n",
       "      <th>147</th>\n",
       "      <td>6.5</td>\n",
       "      <td>3.0</td>\n",
       "      <td>5.2</td>\n",
       "      <td>2.0</td>\n",
       "      <td>virginica</td>\n",
       "    </tr>\n",
       "    <tr>\n",
       "      <th>148</th>\n",
       "      <td>6.2</td>\n",
       "      <td>3.4</td>\n",
       "      <td>5.4</td>\n",
       "      <td>2.3</td>\n",
       "      <td>virginica</td>\n",
       "    </tr>\n",
       "    <tr>\n",
       "      <th>149</th>\n",
       "      <td>5.9</td>\n",
       "      <td>3.0</td>\n",
       "      <td>5.1</td>\n",
       "      <td>1.8</td>\n",
       "      <td>virginica</td>\n",
       "    </tr>\n",
       "  </tbody>\n",
       "</table>\n",
       "<p>150 rows × 5 columns</p>\n",
       "</div>"
      ],
      "text/plain": [
       "     sepalLength  sepalWidth  petalLength  petalWidth    species\n",
       "0            5.1         3.5          1.4         0.2     setosa\n",
       "1            4.9         3.0          1.4         0.2     setosa\n",
       "2            4.7         3.2          1.3         0.2     setosa\n",
       "3            4.6         3.1          1.5         0.2     setosa\n",
       "4            5.0         3.6          1.4         0.2     setosa\n",
       "..           ...         ...          ...         ...        ...\n",
       "145          6.7         3.0          5.2         2.3  virginica\n",
       "146          6.3         2.5          5.0         1.9  virginica\n",
       "147          6.5         3.0          5.2         2.0  virginica\n",
       "148          6.2         3.4          5.4         2.3  virginica\n",
       "149          5.9         3.0          5.1         1.8  virginica\n",
       "\n",
       "[150 rows x 5 columns]"
      ]
     },
     "execution_count": 7,
     "metadata": {},
     "output_type": "execute_result"
    }
   ],
   "source": [
    "pd.read_json('iris.json')"
   ]
  },
  {
   "cell_type": "markdown",
   "metadata": {
    "id": "eeyy5ZsuOe5g"
   },
   "source": [
    "**6. Read a `.xml` file**"
   ]
  },
  {
   "cell_type": "code",
   "execution_count": null,
   "metadata": {
    "id": "H7MsvMO6Oe5h"
   },
   "outputs": [],
   "source": [
    "# import xml.etree.ElementTree as ET \n",
    "\n",
    "# tree = ET.parse(\"xml_file.xml\")\n",
    "# root = tree.getroot() \n",
    "\n",
    "# df_col = [\"Name\", \"Gender\", \"Marks\"]\n",
    "# rows = []\n",
    "\n",
    "# for node in root: \n",
    "#    name = node.attrib.get(\"name\")\n",
    "#    gender = node.find(\"gender\").text if node is not None else None\n",
    "#    marks = node.find(\"marks\").text if node is not None else None\n",
    "    \n",
    "#    rows.append({\"Name\": name, \"Gender\": gender, \n",
    "#                 \"Marks\": marks})\n",
    "\n",
    "# xml_df = pd.DataFrame(rows, columns = df_col)\n",
    "# xml_df"
   ]
  },
  {
   "cell_type": "markdown",
   "metadata": {
    "id": "JKZrrve2Oe5h"
   },
   "source": [
    "**7. Read a `.txt` files**"
   ]
  },
  {
   "cell_type": "code",
   "execution_count": null,
   "metadata": {
    "id": "PPNPnwqWOe5h",
    "outputId": "bd6b5caa-6e20-4516-de9f-69e7d3094078"
   },
   "outputs": [
    {
     "data": {
      "text/html": [
       "<div>\n",
       "<style scoped>\n",
       "    .dataframe tbody tr th:only-of-type {\n",
       "        vertical-align: middle;\n",
       "    }\n",
       "\n",
       "    .dataframe tbody tr th {\n",
       "        vertical-align: top;\n",
       "    }\n",
       "\n",
       "    .dataframe thead th {\n",
       "        text-align: right;\n",
       "    }\n",
       "</style>\n",
       "<table border=\"1\" class=\"dataframe\">\n",
       "  <thead>\n",
       "    <tr style=\"text-align: right;\">\n",
       "      <th></th>\n",
       "      <th>Country</th>\n",
       "      <th>Birth rate</th>\n",
       "      <th>Life expectancy</th>\n",
       "    </tr>\n",
       "  </thead>\n",
       "  <tbody>\n",
       "    <tr>\n",
       "      <th>0</th>\n",
       "      <td>Vietnam</td>\n",
       "      <td>1.822</td>\n",
       "      <td>74.828244</td>\n",
       "    </tr>\n",
       "    <tr>\n",
       "      <th>1</th>\n",
       "      <td>Vanuatu</td>\n",
       "      <td>3.869</td>\n",
       "      <td>70.819488</td>\n",
       "    </tr>\n",
       "    <tr>\n",
       "      <th>2</th>\n",
       "      <td>Tonga</td>\n",
       "      <td>3.911</td>\n",
       "      <td>72.150659</td>\n",
       "    </tr>\n",
       "    <tr>\n",
       "      <th>3</th>\n",
       "      <td>Timor-Leste</td>\n",
       "      <td>5.578</td>\n",
       "      <td>61.999854</td>\n",
       "    </tr>\n",
       "    <tr>\n",
       "      <th>4</th>\n",
       "      <td>Thailand</td>\n",
       "      <td>1.579</td>\n",
       "      <td>73.927659</td>\n",
       "    </tr>\n",
       "    <tr>\n",
       "      <th>5</th>\n",
       "      <td>Solomon Islands</td>\n",
       "      <td>4.229</td>\n",
       "      <td>67.465195</td>\n",
       "    </tr>\n",
       "    <tr>\n",
       "      <th>6</th>\n",
       "      <td>Singapore</td>\n",
       "      <td>1.150</td>\n",
       "      <td>81.641463</td>\n",
       "    </tr>\n",
       "    <tr>\n",
       "      <th>7</th>\n",
       "      <td>Samoa</td>\n",
       "      <td>3.860</td>\n",
       "      <td>72.306390</td>\n",
       "    </tr>\n",
       "    <tr>\n",
       "      <th>8</th>\n",
       "      <td>Philippines</td>\n",
       "      <td>3.142</td>\n",
       "      <td>68.484317</td>\n",
       "    </tr>\n",
       "    <tr>\n",
       "      <th>9</th>\n",
       "      <td>Papua New Guinea</td>\n",
       "      <td>3.951</td>\n",
       "      <td>62.440610</td>\n",
       "    </tr>\n",
       "    <tr>\n",
       "      <th>10</th>\n",
       "      <td>New Zealand</td>\n",
       "      <td>2.160</td>\n",
       "      <td>80.702439</td>\n",
       "    </tr>\n",
       "    <tr>\n",
       "      <th>11</th>\n",
       "      <td>New Caledonia</td>\n",
       "      <td>2.141</td>\n",
       "      <td>76.301683</td>\n",
       "    </tr>\n",
       "    <tr>\n",
       "      <th>12</th>\n",
       "      <td>Myanmar</td>\n",
       "      <td>2.002</td>\n",
       "      <td>64.662098</td>\n",
       "    </tr>\n",
       "    <tr>\n",
       "      <th>13</th>\n",
       "      <td>Mongolia</td>\n",
       "      <td>2.504</td>\n",
       "      <td>68.194976</td>\n",
       "    </tr>\n",
       "    <tr>\n",
       "      <th>14</th>\n",
       "      <td>Micronesia</td>\n",
       "      <td>3.451</td>\n",
       "      <td>68.764829</td>\n",
       "    </tr>\n",
       "    <tr>\n",
       "      <th>15</th>\n",
       "      <td>Malaysia</td>\n",
       "      <td>2.635</td>\n",
       "      <td>74.024561</td>\n",
       "    </tr>\n",
       "    <tr>\n",
       "      <th>16</th>\n",
       "      <td>Macao SAR, China</td>\n",
       "      <td>1.092</td>\n",
       "      <td>80.775317</td>\n",
       "    </tr>\n",
       "    <tr>\n",
       "      <th>17</th>\n",
       "      <td>Lao PDR</td>\n",
       "      <td>2.747</td>\n",
       "      <td>67.064000</td>\n",
       "    </tr>\n",
       "    <tr>\n",
       "      <th>18</th>\n",
       "      <td>Korea</td>\n",
       "      <td>1.220</td>\n",
       "      <td>80.761951</td>\n",
       "    </tr>\n",
       "    <tr>\n",
       "      <th>19</th>\n",
       "      <td>Japan</td>\n",
       "      <td>1.390</td>\n",
       "      <td>82.932683</td>\n",
       "    </tr>\n",
       "    <tr>\n",
       "      <th>20</th>\n",
       "      <td>Indonesia</td>\n",
       "      <td>2.117</td>\n",
       "      <td>68.889659</td>\n",
       "    </tr>\n",
       "    <tr>\n",
       "      <th>21</th>\n",
       "      <td>Hong Kong SAR, China</td>\n",
       "      <td>1.108</td>\n",
       "      <td>82.878049</td>\n",
       "    </tr>\n",
       "    <tr>\n",
       "      <th>22</th>\n",
       "      <td>Guam</td>\n",
       "      <td>2.470</td>\n",
       "      <td>75.994268</td>\n",
       "    </tr>\n",
       "    <tr>\n",
       "      <th>23</th>\n",
       "      <td>French Polynesia</td>\n",
       "      <td>2.090</td>\n",
       "      <td>75.076878</td>\n",
       "    </tr>\n",
       "    <tr>\n",
       "      <th>24</th>\n",
       "      <td>Fiji</td>\n",
       "      <td>2.668</td>\n",
       "      <td>69.225829</td>\n",
       "    </tr>\n",
       "    <tr>\n",
       "      <th>25</th>\n",
       "      <td>Dem. Rep. Korea</td>\n",
       "      <td>2.022</td>\n",
       "      <td>68.532146</td>\n",
       "    </tr>\n",
       "    <tr>\n",
       "      <th>26</th>\n",
       "      <td>China</td>\n",
       "      <td>1.598</td>\n",
       "      <td>73.273098</td>\n",
       "    </tr>\n",
       "  </tbody>\n",
       "</table>\n",
       "</div>"
      ],
      "text/plain": [
       "                 Country  Birth rate  Life expectancy\n",
       "0                Vietnam       1.822        74.828244\n",
       "1                Vanuatu       3.869        70.819488\n",
       "2                  Tonga       3.911        72.150659\n",
       "3            Timor-Leste       5.578        61.999854\n",
       "4               Thailand       1.579        73.927659\n",
       "5        Solomon Islands       4.229        67.465195\n",
       "6              Singapore       1.150        81.641463\n",
       "7                  Samoa       3.860        72.306390\n",
       "8            Philippines       3.142        68.484317\n",
       "9       Papua New Guinea       3.951        62.440610\n",
       "10           New Zealand       2.160        80.702439\n",
       "11         New Caledonia       2.141        76.301683\n",
       "12               Myanmar       2.002        64.662098\n",
       "13              Mongolia       2.504        68.194976\n",
       "14            Micronesia       3.451        68.764829\n",
       "15              Malaysia       2.635        74.024561\n",
       "16      Macao SAR, China       1.092        80.775317\n",
       "17               Lao PDR       2.747        67.064000\n",
       "18                 Korea       1.220        80.761951\n",
       "19                 Japan       1.390        82.932683\n",
       "20             Indonesia       2.117        68.889659\n",
       "21  Hong Kong SAR, China       1.108        82.878049\n",
       "22                  Guam       2.470        75.994268\n",
       "23      French Polynesia       2.090        75.076878\n",
       "24                  Fiji       2.668        69.225829\n",
       "25       Dem. Rep. Korea       2.022        68.532146\n",
       "26                 China       1.598        73.273098"
      ]
     },
     "execution_count": 9,
     "metadata": {},
     "output_type": "execute_result"
    }
   ],
   "source": [
    "df = pd.read_csv('example.txt', sep='\\t')\n",
    "df"
   ]
  },
  {
   "cell_type": "markdown",
   "metadata": {
    "id": "w5To7ojtOe5i"
   },
   "source": [
    "\n",
    "##Concatenate\n",
    "Concatenation is a process of joining objects along a particular axis, with set logic applied along the other axes, if any (a series doesn’t have any other axes)<br>\n",
    "                   The main parameters involved in pandas concatenation are - object, axis, handling of other axes, and keys\n"
   ]
  },
  {
   "cell_type": "markdown",
   "metadata": {
    "id": "CIlmKMKBOe5i"
   },
   "source": [
    "\n",
    "### <font color='Green'>**Syntax of Concatenate:**</font>\n",
    "\n",
    "pd.concat(objs,axis=0,join='outer',join_axes=None,ignore_index=False)<br>\n",
    "objs − This is a sequence or mapping of Series, DataFrame, or Panel objects.\n",
    "\n",
    "axis − {0, 1, ...}, default 0. This is the axis to concatenate along.\n",
    "\n",
    "join − {‘inner’, ‘outer’}, default ‘outer’. How to handle indexes on other axis. Outer for union and inner for intersection.\n",
    "\n",
    "ignore_index − boolean, default False. If True, do not use the index values on the concatenation axis. The resulting axis will be labeled 0, ..., n - 1.\n",
    "\n",
    "join_axes − This is the list of Index objects. Specific indexes to use for the other (n-1) axes instead of performing inner/outer set logic."
   ]
  },
  {
   "cell_type": "markdown",
   "metadata": {
    "id": "qAXiLRc7Oe5i"
   },
   "source": [
    "**Concatenate Pandas Series**"
   ]
  },
  {
   "cell_type": "code",
   "execution_count": null,
   "metadata": {
    "id": "Ybk4KR03Oe5j"
   },
   "outputs": [],
   "source": [
    "import pandas as pd"
   ]
  },
  {
   "cell_type": "code",
   "execution_count": null,
   "metadata": {
    "id": "T8sAc-LKOe5j"
   },
   "outputs": [],
   "source": [
    "# create a series\n",
    "series_a = pd.Series([101,102,103,104,105,106])\n",
    "series_b = pd.Series([107,108,109,110,111,112])"
   ]
  },
  {
   "cell_type": "code",
   "execution_count": null,
   "metadata": {
    "id": "TPJTtOphOe5j",
    "outputId": "3094545a-0b61-43e4-fef1-65400da20bad"
   },
   "outputs": [
    {
     "data": {
      "text/plain": [
       "0    101\n",
       "1    102\n",
       "2    103\n",
       "3    104\n",
       "4    105\n",
       "5    106\n",
       "0    107\n",
       "1    108\n",
       "2    109\n",
       "3    110\n",
       "4    111\n",
       "5    112\n",
       "dtype: int64"
      ]
     },
     "execution_count": 12,
     "metadata": {},
     "output_type": "execute_result"
    }
   ],
   "source": [
    "# concatenate the pandas series\n",
    "pd.concat([series_a,series_b])"
   ]
  },
  {
   "cell_type": "markdown",
   "metadata": {
    "id": "8EIoAQO-Oe5k"
   },
   "source": [
    "**Add a Hierarchical Index on Pandas Series**"
   ]
  },
  {
   "cell_type": "code",
   "execution_count": null,
   "metadata": {
    "id": "_WwY-sthOe5k",
    "outputId": "7eee9e41-80a7-4cd5-edf0-eeae7598007b"
   },
   "outputs": [
    {
     "data": {
      "text/plain": [
       "a  0    101\n",
       "   1    102\n",
       "   2    103\n",
       "   3    104\n",
       "   4    105\n",
       "   5    106\n",
       "b  0    107\n",
       "   1    108\n",
       "   2    109\n",
       "   3    110\n",
       "   4    111\n",
       "   5    112\n",
       "dtype: int64"
      ]
     },
     "execution_count": 13,
     "metadata": {},
     "output_type": "execute_result"
    }
   ],
   "source": [
    "pd.concat([series_a,series_b], keys = ['a', 'b'])"
   ]
  },
  {
   "cell_type": "markdown",
   "metadata": {
    "id": "2kEy9ZiROe5k"
   },
   "source": [
    "**Label the Index**"
   ]
  },
  {
   "cell_type": "code",
   "execution_count": null,
   "metadata": {
    "id": "HEgaRmEpOe5k",
    "outputId": "7dd1bdc4-d66e-453d-ddfe-f9acecdc719b"
   },
   "outputs": [
    {
     "data": {
      "text/plain": [
       "Series  Row ID\n",
       "a       0         101\n",
       "        1         102\n",
       "        2         103\n",
       "        3         104\n",
       "        4         105\n",
       "        5         106\n",
       "b       0         107\n",
       "        1         108\n",
       "        2         109\n",
       "        3         110\n",
       "        4         111\n",
       "        5         112\n",
       "dtype: int64"
      ]
     },
     "execution_count": 14,
     "metadata": {},
     "output_type": "execute_result"
    }
   ],
   "source": [
    "# 'names' parameter assigns labels to 'keys' and 'indices'\n",
    "pd.concat([series_a, series_b], keys=['a', 'b'], names=['Series', 'Row ID'])"
   ]
  },
  {
   "cell_type": "markdown",
   "metadata": {
    "id": "sQ3H6GxvOe5l"
   },
   "source": [
    "**Concatenating Dataframes**"
   ]
  },
  {
   "cell_type": "code",
   "execution_count": null,
   "metadata": {
    "id": "9ZDRwTR8Oe5l",
    "outputId": "5a640994-3342-48c4-d270-a8c9211bb3ec"
   },
   "outputs": [
    {
     "name": "stdout",
     "output_type": "stream",
     "text": [
      "The first dataframe is : \n",
      "        Name  Company  Salary\n",
      "101    Alex    Apple   67000\n",
      "102     Amy  Walmart   90000\n",
      "103   Allen    Intel   87000\n",
      "104   Alice  cummins   69000\n",
      "105  Ayoung     Ford   78000 \n",
      "\n",
      "\n",
      "The second dataframe is : \n",
      "       Name    Company  Salary\n",
      "101  Billy  Cognizant   89000\n",
      "102  Brian      Apple   80000\n",
      "103   Bran      Intel   79000\n",
      "104  Bryce    Cummins   97000\n",
      "105  Betty    Walmart   88000\n"
     ]
    }
   ],
   "source": [
    "df_1 = pd.DataFrame({\n",
    "   'Name': ['Alex', 'Amy', 'Allen', 'Alice', 'Ayoung'],\n",
    "   'Company':['Apple','Walmart','Intel','cummins','Ford'],\n",
    "   'Salary':[67000,90000,87000,69000,78000]},\n",
    "   index=[101,102,103,104,105])\n",
    "\n",
    "print(\"The first dataframe is : \\n\",df_1, \"\\n\\n\")\n",
    "\n",
    "df_2 = pd.DataFrame({\n",
    "   'Name': ['Billy', 'Brian', 'Bran', 'Bryce', 'Betty'],\n",
    "   'Company':['Cognizant','Apple','Intel','Cummins','Walmart'],\n",
    "   'Salary':[89000,80000,79000,97000,88000]},\n",
    "   index=[101,102,103,104,105])\n",
    "\n",
    "print(\"The second dataframe is : \\n\",df_2)"
   ]
  },
  {
   "cell_type": "markdown",
   "metadata": {
    "id": "d4pLRIVJOe5m"
   },
   "source": [
    "**Concatenating Pandas Dataframes using `.concat()`**"
   ]
  },
  {
   "cell_type": "code",
   "execution_count": null,
   "metadata": {
    "id": "kmZzC6TZOe5m",
    "outputId": "7cd57bb0-3e85-44a4-90a3-397650f45ae7"
   },
   "outputs": [
    {
     "name": "stdout",
     "output_type": "stream",
     "text": [
      "       Name    Company  Salary\n",
      "101    Alex      Apple   67000\n",
      "102     Amy    Walmart   90000\n",
      "103   Allen      Intel   87000\n",
      "104   Alice    cummins   69000\n",
      "105  Ayoung       Ford   78000\n",
      "101   Billy  Cognizant   89000\n",
      "102   Brian      Apple   80000\n",
      "103    Bran      Intel   79000\n",
      "104   Bryce    Cummins   97000\n",
      "105   Betty    Walmart   88000\n"
     ]
    }
   ],
   "source": [
    "# concatenate the data frame\n",
    "print(pd.concat([df_1,df_2]))"
   ]
  },
  {
   "cell_type": "markdown",
   "metadata": {
    "id": "8z8ifZg3Oe5m"
   },
   "source": [
    "**Combine Pandas Dataframes Horizontally**"
   ]
  },
  {
   "cell_type": "code",
   "execution_count": null,
   "metadata": {
    "id": "eL4LQjmPOe5m",
    "outputId": "7b7fc833-27ff-44b6-858e-5cd12a914a5c"
   },
   "outputs": [
    {
     "data": {
      "text/html": [
       "<div>\n",
       "<style scoped>\n",
       "    .dataframe tbody tr th:only-of-type {\n",
       "        vertical-align: middle;\n",
       "    }\n",
       "\n",
       "    .dataframe tbody tr th {\n",
       "        vertical-align: top;\n",
       "    }\n",
       "\n",
       "    .dataframe thead th {\n",
       "        text-align: right;\n",
       "    }\n",
       "</style>\n",
       "<table border=\"1\" class=\"dataframe\">\n",
       "  <thead>\n",
       "    <tr style=\"text-align: right;\">\n",
       "      <th></th>\n",
       "      <th>Name</th>\n",
       "      <th>Company</th>\n",
       "      <th>Salary</th>\n",
       "      <th>Name</th>\n",
       "      <th>Company</th>\n",
       "      <th>Salary</th>\n",
       "    </tr>\n",
       "  </thead>\n",
       "  <tbody>\n",
       "    <tr>\n",
       "      <th>101</th>\n",
       "      <td>Alex</td>\n",
       "      <td>Apple</td>\n",
       "      <td>67000</td>\n",
       "      <td>Billy</td>\n",
       "      <td>Cognizant</td>\n",
       "      <td>89000</td>\n",
       "    </tr>\n",
       "    <tr>\n",
       "      <th>102</th>\n",
       "      <td>Amy</td>\n",
       "      <td>Walmart</td>\n",
       "      <td>90000</td>\n",
       "      <td>Brian</td>\n",
       "      <td>Apple</td>\n",
       "      <td>80000</td>\n",
       "    </tr>\n",
       "    <tr>\n",
       "      <th>103</th>\n",
       "      <td>Allen</td>\n",
       "      <td>Intel</td>\n",
       "      <td>87000</td>\n",
       "      <td>Bran</td>\n",
       "      <td>Intel</td>\n",
       "      <td>79000</td>\n",
       "    </tr>\n",
       "    <tr>\n",
       "      <th>104</th>\n",
       "      <td>Alice</td>\n",
       "      <td>cummins</td>\n",
       "      <td>69000</td>\n",
       "      <td>Bryce</td>\n",
       "      <td>Cummins</td>\n",
       "      <td>97000</td>\n",
       "    </tr>\n",
       "    <tr>\n",
       "      <th>105</th>\n",
       "      <td>Ayoung</td>\n",
       "      <td>Ford</td>\n",
       "      <td>78000</td>\n",
       "      <td>Betty</td>\n",
       "      <td>Walmart</td>\n",
       "      <td>88000</td>\n",
       "    </tr>\n",
       "  </tbody>\n",
       "</table>\n",
       "</div>"
      ],
      "text/plain": [
       "       Name  Company  Salary   Name    Company  Salary\n",
       "101    Alex    Apple   67000  Billy  Cognizant   89000\n",
       "102     Amy  Walmart   90000  Brian      Apple   80000\n",
       "103   Allen    Intel   87000   Bran      Intel   79000\n",
       "104   Alice  cummins   69000  Bryce    Cummins   97000\n",
       "105  Ayoung     Ford   78000  Betty    Walmart   88000"
      ]
     },
     "execution_count": 17,
     "metadata": {},
     "output_type": "execute_result"
    }
   ],
   "source": [
    "pd.concat([df_1,df_2], axis=1)"
   ]
  },
  {
   "cell_type": "markdown",
   "metadata": {
    "id": "ztM7fLj-Oe5n"
   },
   "source": [
    "**Concatenating data frames ignoring index values**"
   ]
  },
  {
   "cell_type": "code",
   "execution_count": null,
   "metadata": {
    "id": "DzcqsEEmOe5n",
    "outputId": "1c58636c-222c-43c3-a413-0570877f6393",
    "scrolled": true
   },
   "outputs": [
    {
     "data": {
      "text/html": [
       "<div>\n",
       "<style scoped>\n",
       "    .dataframe tbody tr th:only-of-type {\n",
       "        vertical-align: middle;\n",
       "    }\n",
       "\n",
       "    .dataframe tbody tr th {\n",
       "        vertical-align: top;\n",
       "    }\n",
       "\n",
       "    .dataframe thead th {\n",
       "        text-align: right;\n",
       "    }\n",
       "</style>\n",
       "<table border=\"1\" class=\"dataframe\">\n",
       "  <thead>\n",
       "    <tr style=\"text-align: right;\">\n",
       "      <th></th>\n",
       "      <th>Name</th>\n",
       "      <th>Company</th>\n",
       "      <th>Salary</th>\n",
       "    </tr>\n",
       "  </thead>\n",
       "  <tbody>\n",
       "    <tr>\n",
       "      <th>0</th>\n",
       "      <td>Alex</td>\n",
       "      <td>Apple</td>\n",
       "      <td>67000</td>\n",
       "    </tr>\n",
       "    <tr>\n",
       "      <th>1</th>\n",
       "      <td>Amy</td>\n",
       "      <td>Walmart</td>\n",
       "      <td>90000</td>\n",
       "    </tr>\n",
       "    <tr>\n",
       "      <th>2</th>\n",
       "      <td>Allen</td>\n",
       "      <td>Intel</td>\n",
       "      <td>87000</td>\n",
       "    </tr>\n",
       "    <tr>\n",
       "      <th>3</th>\n",
       "      <td>Alice</td>\n",
       "      <td>cummins</td>\n",
       "      <td>69000</td>\n",
       "    </tr>\n",
       "    <tr>\n",
       "      <th>4</th>\n",
       "      <td>Ayoung</td>\n",
       "      <td>Ford</td>\n",
       "      <td>78000</td>\n",
       "    </tr>\n",
       "    <tr>\n",
       "      <th>5</th>\n",
       "      <td>Billy</td>\n",
       "      <td>Cognizant</td>\n",
       "      <td>89000</td>\n",
       "    </tr>\n",
       "    <tr>\n",
       "      <th>6</th>\n",
       "      <td>Brian</td>\n",
       "      <td>Apple</td>\n",
       "      <td>80000</td>\n",
       "    </tr>\n",
       "    <tr>\n",
       "      <th>7</th>\n",
       "      <td>Bran</td>\n",
       "      <td>Intel</td>\n",
       "      <td>79000</td>\n",
       "    </tr>\n",
       "    <tr>\n",
       "      <th>8</th>\n",
       "      <td>Bryce</td>\n",
       "      <td>Cummins</td>\n",
       "      <td>97000</td>\n",
       "    </tr>\n",
       "    <tr>\n",
       "      <th>9</th>\n",
       "      <td>Betty</td>\n",
       "      <td>Walmart</td>\n",
       "      <td>88000</td>\n",
       "    </tr>\n",
       "  </tbody>\n",
       "</table>\n",
       "</div>"
      ],
      "text/plain": [
       "     Name    Company  Salary\n",
       "0    Alex      Apple   67000\n",
       "1     Amy    Walmart   90000\n",
       "2   Allen      Intel   87000\n",
       "3   Alice    cummins   69000\n",
       "4  Ayoung       Ford   78000\n",
       "5   Billy  Cognizant   89000\n",
       "6   Brian      Apple   80000\n",
       "7    Bran      Intel   79000\n",
       "8   Bryce    Cummins   97000\n",
       "9   Betty    Walmart   88000"
      ]
     },
     "execution_count": 18,
     "metadata": {},
     "output_type": "execute_result"
    }
   ],
   "source": [
    "pd.concat([df_1,df_2], ignore_index=True)"
   ]
  },
  {
   "cell_type": "markdown",
   "metadata": {
    "id": "3FobWXRpOe5n"
   },
   "source": [
    "**Concatenating Pandas Dataframes using `.append()`**"
   ]
  },
  {
   "cell_type": "code",
   "execution_count": null,
   "metadata": {
    "id": "BG5d6iz0Oe5n",
    "outputId": "8ed1967b-493d-4bfb-b931-91d4742a2fbd"
   },
   "outputs": [
    {
     "data": {
      "text/html": [
       "<div>\n",
       "<style scoped>\n",
       "    .dataframe tbody tr th:only-of-type {\n",
       "        vertical-align: middle;\n",
       "    }\n",
       "\n",
       "    .dataframe tbody tr th {\n",
       "        vertical-align: top;\n",
       "    }\n",
       "\n",
       "    .dataframe thead th {\n",
       "        text-align: right;\n",
       "    }\n",
       "</style>\n",
       "<table border=\"1\" class=\"dataframe\">\n",
       "  <thead>\n",
       "    <tr style=\"text-align: right;\">\n",
       "      <th></th>\n",
       "      <th>Name</th>\n",
       "      <th>Company</th>\n",
       "      <th>Salary</th>\n",
       "    </tr>\n",
       "  </thead>\n",
       "  <tbody>\n",
       "    <tr>\n",
       "      <th>101</th>\n",
       "      <td>Alex</td>\n",
       "      <td>Apple</td>\n",
       "      <td>67000</td>\n",
       "    </tr>\n",
       "    <tr>\n",
       "      <th>102</th>\n",
       "      <td>Amy</td>\n",
       "      <td>Walmart</td>\n",
       "      <td>90000</td>\n",
       "    </tr>\n",
       "    <tr>\n",
       "      <th>103</th>\n",
       "      <td>Allen</td>\n",
       "      <td>Intel</td>\n",
       "      <td>87000</td>\n",
       "    </tr>\n",
       "    <tr>\n",
       "      <th>104</th>\n",
       "      <td>Alice</td>\n",
       "      <td>cummins</td>\n",
       "      <td>69000</td>\n",
       "    </tr>\n",
       "    <tr>\n",
       "      <th>105</th>\n",
       "      <td>Ayoung</td>\n",
       "      <td>Ford</td>\n",
       "      <td>78000</td>\n",
       "    </tr>\n",
       "    <tr>\n",
       "      <th>101</th>\n",
       "      <td>Billy</td>\n",
       "      <td>Cognizant</td>\n",
       "      <td>89000</td>\n",
       "    </tr>\n",
       "    <tr>\n",
       "      <th>102</th>\n",
       "      <td>Brian</td>\n",
       "      <td>Apple</td>\n",
       "      <td>80000</td>\n",
       "    </tr>\n",
       "    <tr>\n",
       "      <th>103</th>\n",
       "      <td>Bran</td>\n",
       "      <td>Intel</td>\n",
       "      <td>79000</td>\n",
       "    </tr>\n",
       "    <tr>\n",
       "      <th>104</th>\n",
       "      <td>Bryce</td>\n",
       "      <td>Cummins</td>\n",
       "      <td>97000</td>\n",
       "    </tr>\n",
       "    <tr>\n",
       "      <th>105</th>\n",
       "      <td>Betty</td>\n",
       "      <td>Walmart</td>\n",
       "      <td>88000</td>\n",
       "    </tr>\n",
       "  </tbody>\n",
       "</table>\n",
       "</div>"
      ],
      "text/plain": [
       "       Name    Company  Salary\n",
       "101    Alex      Apple   67000\n",
       "102     Amy    Walmart   90000\n",
       "103   Allen      Intel   87000\n",
       "104   Alice    cummins   69000\n",
       "105  Ayoung       Ford   78000\n",
       "101   Billy  Cognizant   89000\n",
       "102   Brian      Apple   80000\n",
       "103    Bran      Intel   79000\n",
       "104   Bryce    Cummins   97000\n",
       "105   Betty    Walmart   88000"
      ]
     },
     "execution_count": 10,
     "metadata": {},
     "output_type": "execute_result"
    }
   ],
   "source": [
    "df_1.append(df_2)"
   ]
  },
  {
   "cell_type": "markdown",
   "metadata": {
    "id": "luBuxLIJOe5o"
   },
   "source": [
    "<a id=\"Merging\"> </a>\n",
    "##Merging and Joining\n",
    "<table align=\"left\">\n",
    "    <tr>\n",
    "        <td>\n",
    "            <div align=\"left\", style=\"font-size:120%\">\n",
    "                <font color=\"#21618C\">\n",
    "                    <b>\"Merging\" two datasets is the process of bringing two datasets together into one, and aligning the rows from each based on common attributes or columns<br>\n",
    "                    This is achieved by the parameter “on” which allow us to select the common column between two dataframes\n",
    "                    </b>\n",
    "                </font>\n",
    "            </div>\n",
    "        </td>\n",
    "    </tr>\n",
    "</table>"
   ]
  },
  {
   "cell_type": "markdown",
   "metadata": {
    "id": "aIev61oqOe5o"
   },
   "source": [
    "### <font color='Green'>**Concatenate using `.merge()`**</font>\n"
   ]
  },
  {
   "cell_type": "code",
   "execution_count": null,
   "metadata": {
    "id": "DaQD-4vkOe5o",
    "outputId": "62ee7468-7fb2-421c-e95e-ee19429d57db"
   },
   "outputs": [
    {
     "name": "stdout",
     "output_type": "stream",
     "text": [
      "The first dataframe is : \n",
      "    Product_ID Food_Product           Brand\n",
      "0         101        Cakes  Baskin Robbins\n",
      "1         102     Biscuits     Blue Riband\n",
      "2         103        Fruit           Peach\n",
      "3         104    Beverages        Horlicks\n",
      "4         105        Cakes     Mars Muffin\n",
      "5         106    Beverages         Mirinda \n",
      "\n",
      "\n",
      "The second dataframe is : \n",
      "    Product_ID     Food_Product           Brand\n",
      "0         104        Beverages       Coca-Cola\n",
      "1         102         Biscuits            Oreo\n",
      "2         101            Cakes   Dunkin Donuts\n",
      "3         103            Fruit          Banana\n",
      "4         107  Breakfast foods  Cream of Wheat\n",
      "5         108            Chips         Cheetos\n"
     ]
    }
   ],
   "source": [
    "my_df1=pd.DataFrame({\n",
    " 'Product_ID':[101,102,103,104,105,106],\n",
    " 'Food_Product':['Cakes','Biscuits','Fruit','Beverages','Cakes','Beverages'],\n",
    " 'Brand':['Baskin Robbins','Blue Riband','Peach','Horlicks','Mars Muffin','Mirinda'], \n",
    "})\n",
    "print(\"The first dataframe is : \\n\",my_df1,\"\\n\\n\")\n",
    "\n",
    "my_df2=pd.DataFrame({\n",
    " 'Product_ID':[104,102,101,103,107,108],\n",
    " 'Food_Product':['Beverages', 'Biscuits', 'Cakes', 'Fruit', 'Breakfast foods', 'Chips'],\n",
    "  'Brand':['Coca-Cola', 'Oreo', 'Dunkin Donuts', 'Banana', 'Cream of Wheat', 'Cheetos']  \n",
    "})\n",
    "print(\"The second dataframe is : \\n\",my_df2)"
   ]
  },
  {
   "cell_type": "code",
   "execution_count": null,
   "metadata": {
    "id": "08jgibRmOe5o",
    "outputId": "bfcef097-d9a9-4d11-cdd6-5ca0c7768a9b"
   },
   "outputs": [
    {
     "data": {
      "text/html": [
       "<div>\n",
       "<style scoped>\n",
       "    .dataframe tbody tr th:only-of-type {\n",
       "        vertical-align: middle;\n",
       "    }\n",
       "\n",
       "    .dataframe tbody tr th {\n",
       "        vertical-align: top;\n",
       "    }\n",
       "\n",
       "    .dataframe thead th {\n",
       "        text-align: right;\n",
       "    }\n",
       "</style>\n",
       "<table border=\"1\" class=\"dataframe\">\n",
       "  <thead>\n",
       "    <tr style=\"text-align: right;\">\n",
       "      <th></th>\n",
       "      <th>Product_ID</th>\n",
       "      <th>Food_Product_x</th>\n",
       "      <th>Brand_x</th>\n",
       "      <th>Food_Product_y</th>\n",
       "      <th>Brand_y</th>\n",
       "    </tr>\n",
       "  </thead>\n",
       "  <tbody>\n",
       "    <tr>\n",
       "      <th>0</th>\n",
       "      <td>101</td>\n",
       "      <td>Cakes</td>\n",
       "      <td>Baskin Robbins</td>\n",
       "      <td>Cakes</td>\n",
       "      <td>Dunkin Donuts</td>\n",
       "    </tr>\n",
       "    <tr>\n",
       "      <th>1</th>\n",
       "      <td>102</td>\n",
       "      <td>Biscuits</td>\n",
       "      <td>Blue Riband</td>\n",
       "      <td>Biscuits</td>\n",
       "      <td>Oreo</td>\n",
       "    </tr>\n",
       "    <tr>\n",
       "      <th>2</th>\n",
       "      <td>103</td>\n",
       "      <td>Fruit</td>\n",
       "      <td>Peach</td>\n",
       "      <td>Fruit</td>\n",
       "      <td>Banana</td>\n",
       "    </tr>\n",
       "    <tr>\n",
       "      <th>3</th>\n",
       "      <td>104</td>\n",
       "      <td>Beverages</td>\n",
       "      <td>Horlicks</td>\n",
       "      <td>Beverages</td>\n",
       "      <td>Coca-Cola</td>\n",
       "    </tr>\n",
       "  </tbody>\n",
       "</table>\n",
       "</div>"
      ],
      "text/plain": [
       "   Product_ID Food_Product_x         Brand_x Food_Product_y        Brand_y\n",
       "0         101          Cakes  Baskin Robbins          Cakes  Dunkin Donuts\n",
       "1         102       Biscuits     Blue Riband       Biscuits           Oreo\n",
       "2         103          Fruit           Peach          Fruit         Banana\n",
       "3         104      Beverages        Horlicks      Beverages      Coca-Cola"
      ]
     },
     "execution_count": 20,
     "metadata": {},
     "output_type": "execute_result"
    }
   ],
   "source": [
    "pd.merge(my_df1, my_df2, on='Product_ID')"
   ]
  },
  {
   "cell_type": "markdown",
   "metadata": {
    "id": "wBHah196Oe5p"
   },
   "source": [
    "The output displays the common 'Product_ID' in the two data frames."
   ]
  },
  {
   "cell_type": "markdown",
   "metadata": {
    "id": "MUQvRHyuOe5p"
   },
   "source": [
    "**Merging Using Multiple Keys**"
   ]
  },
  {
   "cell_type": "code",
   "execution_count": null,
   "metadata": {
    "id": "reAA-EwgOe5p",
    "outputId": "7b724a59-cb5e-47dc-be53-98112efee60e"
   },
   "outputs": [
    {
     "data": {
      "text/html": [
       "<div>\n",
       "<style scoped>\n",
       "    .dataframe tbody tr th:only-of-type {\n",
       "        vertical-align: middle;\n",
       "    }\n",
       "\n",
       "    .dataframe tbody tr th {\n",
       "        vertical-align: top;\n",
       "    }\n",
       "\n",
       "    .dataframe thead th {\n",
       "        text-align: right;\n",
       "    }\n",
       "</style>\n",
       "<table border=\"1\" class=\"dataframe\">\n",
       "  <thead>\n",
       "    <tr style=\"text-align: right;\">\n",
       "      <th></th>\n",
       "      <th>Product_ID</th>\n",
       "      <th>Food_Product</th>\n",
       "      <th>Brand_x</th>\n",
       "      <th>Brand_y</th>\n",
       "    </tr>\n",
       "  </thead>\n",
       "  <tbody>\n",
       "    <tr>\n",
       "      <th>0</th>\n",
       "      <td>101</td>\n",
       "      <td>Cakes</td>\n",
       "      <td>Baskin Robbins</td>\n",
       "      <td>Dunkin Donuts</td>\n",
       "    </tr>\n",
       "    <tr>\n",
       "      <th>1</th>\n",
       "      <td>102</td>\n",
       "      <td>Biscuits</td>\n",
       "      <td>Blue Riband</td>\n",
       "      <td>Oreo</td>\n",
       "    </tr>\n",
       "    <tr>\n",
       "      <th>2</th>\n",
       "      <td>103</td>\n",
       "      <td>Fruit</td>\n",
       "      <td>Peach</td>\n",
       "      <td>Banana</td>\n",
       "    </tr>\n",
       "    <tr>\n",
       "      <th>3</th>\n",
       "      <td>104</td>\n",
       "      <td>Beverages</td>\n",
       "      <td>Horlicks</td>\n",
       "      <td>Coca-Cola</td>\n",
       "    </tr>\n",
       "  </tbody>\n",
       "</table>\n",
       "</div>"
      ],
      "text/plain": [
       "   Product_ID Food_Product         Brand_x        Brand_y\n",
       "0         101        Cakes  Baskin Robbins  Dunkin Donuts\n",
       "1         102     Biscuits     Blue Riband           Oreo\n",
       "2         103        Fruit           Peach         Banana\n",
       "3         104    Beverages        Horlicks      Coca-Cola"
      ]
     },
     "execution_count": 21,
     "metadata": {},
     "output_type": "execute_result"
    }
   ],
   "source": [
    "pd.merge(my_df1, my_df2, on=['Product_ID','Food_Product'])"
   ]
  },
  {
   "cell_type": "markdown",
   "metadata": {
    "id": "jFChkxWROe5p"
   },
   "source": [
    "**Merging on the Basis of Index**"
   ]
  },
  {
   "cell_type": "markdown",
   "metadata": {
    "id": "iWtRVNlJOe5q"
   },
   "source": [
    "This function helps to merge two dataframes, based on the index of both of them"
   ]
  },
  {
   "cell_type": "code",
   "execution_count": null,
   "metadata": {
    "id": "mvGtlfPgOe5q",
    "outputId": "3c483ee7-c602-4ce1-a8c1-bb8663771e00"
   },
   "outputs": [
    {
     "data": {
      "text/html": [
       "<div>\n",
       "<style scoped>\n",
       "    .dataframe tbody tr th:only-of-type {\n",
       "        vertical-align: middle;\n",
       "    }\n",
       "\n",
       "    .dataframe tbody tr th {\n",
       "        vertical-align: top;\n",
       "    }\n",
       "\n",
       "    .dataframe thead th {\n",
       "        text-align: right;\n",
       "    }\n",
       "</style>\n",
       "<table border=\"1\" class=\"dataframe\">\n",
       "  <thead>\n",
       "    <tr style=\"text-align: right;\">\n",
       "      <th></th>\n",
       "      <th>Product_ID_x</th>\n",
       "      <th>Food_Product_x</th>\n",
       "      <th>Brand_x</th>\n",
       "      <th>Product_ID_y</th>\n",
       "      <th>Food_Product_y</th>\n",
       "      <th>Brand_y</th>\n",
       "    </tr>\n",
       "  </thead>\n",
       "  <tbody>\n",
       "    <tr>\n",
       "      <th>0</th>\n",
       "      <td>101</td>\n",
       "      <td>Cakes</td>\n",
       "      <td>Baskin Robbins</td>\n",
       "      <td>104</td>\n",
       "      <td>Beverages</td>\n",
       "      <td>Coca-Cola</td>\n",
       "    </tr>\n",
       "    <tr>\n",
       "      <th>1</th>\n",
       "      <td>102</td>\n",
       "      <td>Biscuits</td>\n",
       "      <td>Blue Riband</td>\n",
       "      <td>102</td>\n",
       "      <td>Biscuits</td>\n",
       "      <td>Oreo</td>\n",
       "    </tr>\n",
       "    <tr>\n",
       "      <th>2</th>\n",
       "      <td>103</td>\n",
       "      <td>Fruit</td>\n",
       "      <td>Peach</td>\n",
       "      <td>101</td>\n",
       "      <td>Cakes</td>\n",
       "      <td>Dunkin Donuts</td>\n",
       "    </tr>\n",
       "    <tr>\n",
       "      <th>3</th>\n",
       "      <td>104</td>\n",
       "      <td>Beverages</td>\n",
       "      <td>Horlicks</td>\n",
       "      <td>103</td>\n",
       "      <td>Fruit</td>\n",
       "      <td>Banana</td>\n",
       "    </tr>\n",
       "    <tr>\n",
       "      <th>4</th>\n",
       "      <td>105</td>\n",
       "      <td>Cakes</td>\n",
       "      <td>Mars Muffin</td>\n",
       "      <td>107</td>\n",
       "      <td>Breakfast foods</td>\n",
       "      <td>Cream of Wheat</td>\n",
       "    </tr>\n",
       "    <tr>\n",
       "      <th>5</th>\n",
       "      <td>106</td>\n",
       "      <td>Beverages</td>\n",
       "      <td>Mirinda</td>\n",
       "      <td>108</td>\n",
       "      <td>Chips</td>\n",
       "      <td>Cheetos</td>\n",
       "    </tr>\n",
       "  </tbody>\n",
       "</table>\n",
       "</div>"
      ],
      "text/plain": [
       "   Product_ID_x Food_Product_x         Brand_x  Product_ID_y   Food_Product_y  \\\n",
       "0           101          Cakes  Baskin Robbins           104        Beverages   \n",
       "1           102       Biscuits     Blue Riband           102         Biscuits   \n",
       "2           103          Fruit           Peach           101            Cakes   \n",
       "3           104      Beverages        Horlicks           103            Fruit   \n",
       "4           105          Cakes     Mars Muffin           107  Breakfast foods   \n",
       "5           106      Beverages         Mirinda           108            Chips   \n",
       "\n",
       "          Brand_y  \n",
       "0       Coca-Cola  \n",
       "1            Oreo  \n",
       "2   Dunkin Donuts  \n",
       "3          Banana  \n",
       "4  Cream of Wheat  \n",
       "5         Cheetos  "
      ]
     },
     "execution_count": 22,
     "metadata": {},
     "output_type": "execute_result"
    }
   ],
   "source": [
    "pd.merge(my_df1, my_df2, right_index=True, left_index=True)"
   ]
  },
  {
   "cell_type": "markdown",
   "metadata": {
    "id": "SB-kVLGGOe5q"
   },
   "source": [
    "merge() allows you to perform natural join, left join, right join, and full outer join in pandas."
   ]
  },
  {
   "cell_type": "markdown",
   "metadata": {
    "id": "DGTTbsBtOe5q"
   },
   "source": [
    "**Understanding the Different Types of Merge:**\n",
    "\n",
    "Natural join: It keeps only rows that match from the data frames. (how=‘inner’).\n",
    "\n",
    "Full outer join: It keeps all rows from both data frames. (how=‘outer’).\n",
    "\n",
    "Left outer join: To include all the rows of your data frame x and only those from y that match. (how=‘left’).\n",
    "\n",
    "Right outer join: To include all the rows of your data frame y and only those from x that match. (how=‘right’)."
   ]
  },
  {
   "cell_type": "markdown",
   "metadata": {
    "id": "6oUmJ8jpOe5q"
   },
   "source": [
    "**Inner Join:**<br>\n",
    "It returns only the rows in which the left table has matching keys in the right table."
   ]
  },
  {
   "cell_type": "code",
   "execution_count": null,
   "metadata": {
    "id": "CvOZWKXUOe5q",
    "outputId": "7dadb1b7-bbcf-49b4-9b92-92733f73f81f"
   },
   "outputs": [
    {
     "name": "stdout",
     "output_type": "stream",
     "text": [
      "   Product_ID Food_Product_x         Brand_x Food_Product_y        Brand_y\n",
      "0         101          Cakes  Baskin Robbins          Cakes  Dunkin Donuts\n",
      "1         102       Biscuits     Blue Riband       Biscuits           Oreo\n",
      "2         103          Fruit           Peach          Fruit         Banana\n",
      "3         104      Beverages        Horlicks      Beverages      Coca-Cola\n"
     ]
    }
   ],
   "source": [
    "print (pd.merge(my_df1, my_df2, on='Product_ID', how='inner'))"
   ]
  },
  {
   "cell_type": "markdown",
   "metadata": {
    "id": "b_RJQopGOe5r"
   },
   "source": [
    "**Outer Join:**<br>\n",
    "It returns all rows from both tables, joining records from the left, which has matching keys in the right table."
   ]
  },
  {
   "cell_type": "code",
   "execution_count": null,
   "metadata": {
    "id": "ff7DcHTmOe5r",
    "outputId": "3b161fe1-d9ca-4753-f5b0-65df6f2cc881"
   },
   "outputs": [
    {
     "name": "stdout",
     "output_type": "stream",
     "text": [
      "   Product_ID Food_Product_x         Brand_x   Food_Product_y         Brand_y\n",
      "0         101          Cakes  Baskin Robbins            Cakes   Dunkin Donuts\n",
      "1         102       Biscuits     Blue Riband         Biscuits            Oreo\n",
      "2         103          Fruit           Peach            Fruit          Banana\n",
      "3         104      Beverages        Horlicks        Beverages       Coca-Cola\n",
      "4         105          Cakes     Mars Muffin              NaN             NaN\n",
      "5         106      Beverages         Mirinda              NaN             NaN\n",
      "6         107            NaN             NaN  Breakfast foods  Cream of Wheat\n",
      "7         108            NaN             NaN            Chips         Cheetos\n"
     ]
    }
   ],
   "source": [
    "print (pd.merge(my_df1, my_df2, on='Product_ID', how='outer'))"
   ]
  },
  {
   "cell_type": "markdown",
   "metadata": {
    "id": "ZFGWLsrpOe5r"
   },
   "source": [
    "**Left Outer Join:**<br>\n",
    "It returns all rows from the left table, and any rows with matching keys from the right table."
   ]
  },
  {
   "cell_type": "code",
   "execution_count": null,
   "metadata": {
    "id": "qabDgtyZOe5r",
    "outputId": "ad7eb0bf-9859-44cb-f2b9-1375d3f59ee4"
   },
   "outputs": [
    {
     "name": "stdout",
     "output_type": "stream",
     "text": [
      "   Product_ID Food_Product_x         Brand_x Food_Product_y        Brand_y\n",
      "0         101          Cakes  Baskin Robbins          Cakes  Dunkin Donuts\n",
      "1         102       Biscuits     Blue Riband       Biscuits           Oreo\n",
      "2         103          Fruit           Peach          Fruit         Banana\n",
      "3         104      Beverages        Horlicks      Beverages      Coca-Cola\n",
      "4         105          Cakes     Mars Muffin            NaN            NaN\n",
      "5         106      Beverages         Mirinda            NaN            NaN\n"
     ]
    }
   ],
   "source": [
    "print (pd.merge(my_df1, my_df2, on='Product_ID', how='left'))"
   ]
  },
  {
   "cell_type": "markdown",
   "metadata": {
    "id": "8RazpvsaOe5r"
   },
   "source": [
    "**Right Outer Join:**<br>\n",
    "It returns all rows from the right table, and any rows with matching keys from the left table."
   ]
  },
  {
   "cell_type": "code",
   "execution_count": null,
   "metadata": {
    "id": "0ftMo5ZxOe5s",
    "outputId": "5c96902d-3f32-4ea1-c97c-49040806a673"
   },
   "outputs": [
    {
     "name": "stdout",
     "output_type": "stream",
     "text": [
      "   Product_ID Food_Product_x         Brand_x   Food_Product_y         Brand_y\n",
      "0         104      Beverages        Horlicks        Beverages       Coca-Cola\n",
      "1         102       Biscuits     Blue Riband         Biscuits            Oreo\n",
      "2         101          Cakes  Baskin Robbins            Cakes   Dunkin Donuts\n",
      "3         103          Fruit           Peach            Fruit          Banana\n",
      "4         107            NaN             NaN  Breakfast foods  Cream of Wheat\n",
      "5         108            NaN             NaN            Chips         Cheetos\n"
     ]
    }
   ],
   "source": [
    "print(pd.merge(my_df1, my_df2, on='Product_ID', how='right'))"
   ]
  },
  {
   "cell_type": "markdown",
   "metadata": {
    "collapsed": true,
    "id": "9bzXcDR3Oe5s"
   },
   "source": [
    "## Reshaping"
   ]
  },
  {
   "cell_type": "markdown",
   "metadata": {
    "collapsed": true,
    "id": "K2fShapuOe5s"
   },
   "source": [
    "**`.stack()` and `.unstack()` in Pandas:**<br>\n",
    " Reshaping the data using stack() function in pandas converts the data into stacked format. When more than one column header is present we can stack the specific column header by specified the level. unstack() function converts the data into unstacked format. Let’s see with an example"
   ]
  },
  {
   "cell_type": "markdown",
   "metadata": {
    "id": "4ki_YtRPOe5s"
   },
   "source": [
    "### <font color='Green'>**Methods of Multi-Index Creation**</font>"
   ]
  },
  {
   "cell_type": "code",
   "execution_count": null,
   "metadata": {
    "id": "Mz64zu5qOe5t",
    "outputId": "e5dbe897-c9be-4c8d-9fd1-030349b4de4e"
   },
   "outputs": [
    {
     "data": {
      "text/html": [
       "<div>\n",
       "<style scoped>\n",
       "    .dataframe tbody tr th:only-of-type {\n",
       "        vertical-align: middle;\n",
       "    }\n",
       "\n",
       "    .dataframe tbody tr th {\n",
       "        vertical-align: top;\n",
       "    }\n",
       "\n",
       "    .dataframe thead tr th {\n",
       "        text-align: left;\n",
       "    }\n",
       "</style>\n",
       "<table border=\"1\" class=\"dataframe\">\n",
       "  <thead>\n",
       "    <tr>\n",
       "      <th></th>\n",
       "      <th>Before Course</th>\n",
       "      <th>After Course</th>\n",
       "    </tr>\n",
       "    <tr>\n",
       "      <th></th>\n",
       "      <th>Marks</th>\n",
       "      <th>Marks</th>\n",
       "    </tr>\n",
       "  </thead>\n",
       "  <tbody>\n",
       "    <tr>\n",
       "      <th>Alisa</th>\n",
       "      <td>82</td>\n",
       "      <td>95</td>\n",
       "    </tr>\n",
       "    <tr>\n",
       "      <th>Bobby</th>\n",
       "      <td>78</td>\n",
       "      <td>89</td>\n",
       "    </tr>\n",
       "    <tr>\n",
       "      <th>Cathrine</th>\n",
       "      <td>78</td>\n",
       "      <td>87</td>\n",
       "    </tr>\n",
       "    <tr>\n",
       "      <th>Jack</th>\n",
       "      <td>76</td>\n",
       "      <td>89</td>\n",
       "    </tr>\n",
       "    <tr>\n",
       "      <th>Mia</th>\n",
       "      <td>66</td>\n",
       "      <td>89</td>\n",
       "    </tr>\n",
       "  </tbody>\n",
       "</table>\n",
       "</div>"
      ],
      "text/plain": [
       "         Before Course After Course\n",
       "                 Marks        Marks\n",
       "Alisa               82           95\n",
       "Bobby               78           89\n",
       "Cathrine            78           87\n",
       "Jack                76           89\n",
       "Mia                 66           89"
      ]
     },
     "execution_count": 27,
     "metadata": {},
     "output_type": "execute_result"
    }
   ],
   "source": [
    "header = pd.MultiIndex.from_product([['Before Course','After Course'],['Marks']])\n",
    "d=([[82,95],[78,89],[78,87],[76,89],[66,89]])\n",
    " \n",
    " \n",
    "my_df = pd.DataFrame(d,\n",
    "                  index=['Alisa','Bobby','Cathrine','Jack','Mia'],\n",
    "                  columns=header)\n",
    "my_df"
   ]
  },
  {
   "cell_type": "code",
   "execution_count": null,
   "metadata": {
    "id": "pvpYbjSNOe5t",
    "outputId": "bd3f196f-55a9-4401-d703-cc889eaa5dea"
   },
   "outputs": [
    {
     "name": "stdout",
     "output_type": "stream",
     "text": [
      "                After Course  Before Course\n",
      "Alisa    Marks            95             82\n",
      "Bobby    Marks            89             78\n",
      "Cathrine Marks            87             78\n",
      "Jack     Marks            89             76\n",
      "Mia      Marks            89             66\n"
     ]
    }
   ],
   "source": [
    "df_stacked = my_df.stack()\n",
    "print(df_stacked)"
   ]
  },
  {
   "cell_type": "markdown",
   "metadata": {
    "id": "iDCTi181Oe5t"
   },
   "source": [
    "Notice this creates a more complex index which has two levels the first level is index, and the second level is the data. This is called a multi-index. We can convert back to wide table with unstack. This recreates a single index for each line of data."
   ]
  },
  {
   "cell_type": "code",
   "execution_count": null,
   "metadata": {
    "id": "nsichkozOe5u",
    "outputId": "0d9836fc-548e-4bde-a3ce-3e4b7c2043c0"
   },
   "outputs": [
    {
     "name": "stdout",
     "output_type": "stream",
     "text": [
      "         After Course Before Course\n",
      "                Marks         Marks\n",
      "Alisa              95            82\n",
      "Bobby              89            78\n",
      "Cathrine           87            78\n",
      "Jack               89            76\n",
      "Mia                89            66\n"
     ]
    }
   ],
   "source": [
    "df_unstacked = df_stacked.unstack()\n",
    "print (df_unstacked)"
   ]
  },
  {
   "cell_type": "markdown",
   "metadata": {
    "id": "P9rGVB2wOe5u"
   },
   "source": [
    "`.stack()` function with level 0 argument stacks the column marks after the course and before the course."
   ]
  },
  {
   "cell_type": "code",
   "execution_count": null,
   "metadata": {
    "id": "eRcSpXdxOe5u",
    "outputId": "27c58fe4-11e0-4c45-d606-871c4c00b355"
   },
   "outputs": [
    {
     "data": {
      "text/html": [
       "<div>\n",
       "<style scoped>\n",
       "    .dataframe tbody tr th:only-of-type {\n",
       "        vertical-align: middle;\n",
       "    }\n",
       "\n",
       "    .dataframe tbody tr th {\n",
       "        vertical-align: top;\n",
       "    }\n",
       "\n",
       "    .dataframe thead th {\n",
       "        text-align: right;\n",
       "    }\n",
       "</style>\n",
       "<table border=\"1\" class=\"dataframe\">\n",
       "  <thead>\n",
       "    <tr style=\"text-align: right;\">\n",
       "      <th></th>\n",
       "      <th></th>\n",
       "      <th>Marks</th>\n",
       "    </tr>\n",
       "  </thead>\n",
       "  <tbody>\n",
       "    <tr>\n",
       "      <th rowspan=\"2\" valign=\"top\">Alisa</th>\n",
       "      <th>After Course</th>\n",
       "      <td>95</td>\n",
       "    </tr>\n",
       "    <tr>\n",
       "      <th>Before Course</th>\n",
       "      <td>82</td>\n",
       "    </tr>\n",
       "    <tr>\n",
       "      <th rowspan=\"2\" valign=\"top\">Bobby</th>\n",
       "      <th>After Course</th>\n",
       "      <td>89</td>\n",
       "    </tr>\n",
       "    <tr>\n",
       "      <th>Before Course</th>\n",
       "      <td>78</td>\n",
       "    </tr>\n",
       "    <tr>\n",
       "      <th rowspan=\"2\" valign=\"top\">Cathrine</th>\n",
       "      <th>After Course</th>\n",
       "      <td>87</td>\n",
       "    </tr>\n",
       "    <tr>\n",
       "      <th>Before Course</th>\n",
       "      <td>78</td>\n",
       "    </tr>\n",
       "    <tr>\n",
       "      <th rowspan=\"2\" valign=\"top\">Jack</th>\n",
       "      <th>After Course</th>\n",
       "      <td>89</td>\n",
       "    </tr>\n",
       "    <tr>\n",
       "      <th>Before Course</th>\n",
       "      <td>76</td>\n",
       "    </tr>\n",
       "    <tr>\n",
       "      <th rowspan=\"2\" valign=\"top\">Mia</th>\n",
       "      <th>After Course</th>\n",
       "      <td>89</td>\n",
       "    </tr>\n",
       "    <tr>\n",
       "      <th>Before Course</th>\n",
       "      <td>66</td>\n",
       "    </tr>\n",
       "  </tbody>\n",
       "</table>\n",
       "</div>"
      ],
      "text/plain": [
       "                        Marks\n",
       "Alisa    After Course      95\n",
       "         Before Course     82\n",
       "Bobby    After Course      89\n",
       "         Before Course     78\n",
       "Cathrine After Course      87\n",
       "         Before Course     78\n",
       "Jack     After Course      89\n",
       "         Before Course     76\n",
       "Mia      After Course      89\n",
       "         Before Course     66"
      ]
     },
     "execution_count": 30,
     "metadata": {},
     "output_type": "execute_result"
    }
   ],
   "source": [
    "stacked_df_level = my_df.stack(level=0)\n",
    "stacked_df_level"
   ]
  },
  {
   "cell_type": "code",
   "execution_count": null,
   "metadata": {
    "id": "ly8Sbl9WOe5u",
    "outputId": "d1ca6716-f838-4090-ef05-658448654762"
   },
   "outputs": [
    {
     "data": {
      "text/html": [
       "<div>\n",
       "<style scoped>\n",
       "    .dataframe tbody tr th:only-of-type {\n",
       "        vertical-align: middle;\n",
       "    }\n",
       "\n",
       "    .dataframe tbody tr th {\n",
       "        vertical-align: top;\n",
       "    }\n",
       "\n",
       "    .dataframe thead th {\n",
       "        text-align: right;\n",
       "    }\n",
       "</style>\n",
       "<table border=\"1\" class=\"dataframe\">\n",
       "  <thead>\n",
       "    <tr style=\"text-align: right;\">\n",
       "      <th></th>\n",
       "      <th></th>\n",
       "      <th>After Course</th>\n",
       "      <th>Before Course</th>\n",
       "    </tr>\n",
       "  </thead>\n",
       "  <tbody>\n",
       "    <tr>\n",
       "      <th>Alisa</th>\n",
       "      <th>Marks</th>\n",
       "      <td>95</td>\n",
       "      <td>82</td>\n",
       "    </tr>\n",
       "    <tr>\n",
       "      <th>Bobby</th>\n",
       "      <th>Marks</th>\n",
       "      <td>89</td>\n",
       "      <td>78</td>\n",
       "    </tr>\n",
       "    <tr>\n",
       "      <th>Cathrine</th>\n",
       "      <th>Marks</th>\n",
       "      <td>87</td>\n",
       "      <td>78</td>\n",
       "    </tr>\n",
       "    <tr>\n",
       "      <th>Jack</th>\n",
       "      <th>Marks</th>\n",
       "      <td>89</td>\n",
       "      <td>76</td>\n",
       "    </tr>\n",
       "    <tr>\n",
       "      <th>Mia</th>\n",
       "      <th>Marks</th>\n",
       "      <td>89</td>\n",
       "      <td>66</td>\n",
       "    </tr>\n",
       "  </tbody>\n",
       "</table>\n",
       "</div>"
      ],
      "text/plain": [
       "                After Course  Before Course\n",
       "Alisa    Marks            95             82\n",
       "Bobby    Marks            89             78\n",
       "Cathrine Marks            87             78\n",
       "Jack     Marks            89             76\n",
       "Mia      Marks            89             66"
      ]
     },
     "execution_count": 31,
     "metadata": {},
     "output_type": "execute_result"
    }
   ],
   "source": [
    "stacked_df_level = my_df.stack(level=1)\n",
    "stacked_df_level"
   ]
  },
  {
   "cell_type": "markdown",
   "metadata": {
    "id": "Kh37jMR31WVf"
   },
   "source": [
    "------\n",
    "### Happy Learning :)\n",
    "------"
   ]
  }
 ],
 "metadata": {
  "colab": {
   "provenance": []
  },
  "kernelspec": {
   "display_name": "Python 3 (ipykernel)",
   "language": "python",
   "name": "python3"
  },
  "language_info": {
   "codemirror_mode": {
    "name": "ipython",
    "version": 3
   },
   "file_extension": ".py",
   "mimetype": "text/x-python",
   "name": "python",
   "nbconvert_exporter": "python",
   "pygments_lexer": "ipython3",
   "version": "3.11.5"
  },
  "vscode": {
   "interpreter": {
    "hash": "1bcaa234541af14269647e78a58ff1e2c97283aefba8e8df69f3d751152a4c75"
   }
  }
 },
 "nbformat": 4,
 "nbformat_minor": 1
}
