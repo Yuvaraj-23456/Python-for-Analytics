{
 "cells": [
  {
   "cell_type": "markdown",
   "metadata": {
    "id": "HgOtLJ2Nla7g"
   },
   "source": [
    "-----------\n",
    "# Course 2: Week02 - Day03 - Practice Exercise \n",
    "-----------"
   ]
  },
  {
   "cell_type": "markdown",
   "metadata": {
    "id": "ceMu6gKrZkeN"
   },
   "source": [
    "<a id=\"python_numpy\"> </a>\n",
    "### 1. Introduction to Numpy\n",
    "<table align=\"left\">\n",
    "    <tr>\n",
    "        <td>\n",
    "            <div align=\"left\", style=\"font-size:120%\">\n",
    "                <font color=\"#21618C\">\n",
    "                    <b>NumPy is a python package that stands for ‘Numerical Python’.<br>\n",
    "                    Numpy is the core library for scientific computing, which contains a powerful n-dimensional array object, provides tools for integrating C, C++, etc.<br>\n",
    "                    It contains a powerful N-dimensional array object.<br>\n",
    "                    </b>\n",
    "                </font>\n",
    "            </div>\n",
    "        </td>\n",
    "    </tr>\n",
    "</table>"
   ]
  },
  {
   "cell_type": "markdown",
   "metadata": {
    "collapsed": true,
    "id": "-oEP_vIkZkeO"
   },
   "source": [
    "**How to install numpy?**<br>\n",
    "1. You can use-<br>\n",
    "`!pip install numpy`<br>\n",
    "2. You can import it as-<br>\n",
    "import numpy as np"
   ]
  },
  {
   "cell_type": "code",
   "execution_count": null,
   "metadata": {
    "id": "PDJ9rVSoZkeP"
   },
   "outputs": [],
   "source": [
    "# import the numpy package as np\n",
    "import numpy as np"
   ]
  },
  {
   "cell_type": "markdown",
   "metadata": {
    "id": "NXfTtzyhZkeR"
   },
   "source": [
    "### Python NumPy Array v/s List\n",
    "We use python numpy array instead of a list because of the below three reasons:\n",
    "1. Less Memory<br>\n",
    "2. Fast<br>\n",
    "3. Convenient"
   ]
  },
  {
   "cell_type": "markdown",
   "metadata": {
    "id": "v3gT6qIXZkeR"
   },
   "source": [
    "### Create NumPy Arrays"
   ]
  },
  {
   "cell_type": "markdown",
   "metadata": {
    "id": "7zxuBdQGla7o"
   },
   "source": [
    "#### Q. Create a 0D Numpy Arrays using np.array() and prirnt the array, its type and dimension"
   ]
  },
  {
   "cell_type": "code",
   "execution_count": 3,
   "metadata": {
    "id": "s1MIaHNuZkeT"
   },
   "outputs": [
    {
     "name": "stdout",
     "output_type": "stream",
     "text": [
      "Shape ()\n",
      "Dimension 0\n",
      "Type <class 'numpy.ndarray'>\n"
     ]
    }
   ],
   "source": [
    "import numpy as np\n",
    "arr= np.array(54)\n",
    "print(\"Shape\",arr.shape)\n",
    "print(\"Dimension\",arr.ndim)\n",
    "print(\"Type\",type(arr))"
   ]
  },
  {
   "cell_type": "markdown",
   "metadata": {
    "id": "02JwG6Lbla7o"
   },
   "source": [
    "#### Q. Create a 1-D array and print the array, it's type and dimension"
   ]
  },
  {
   "cell_type": "code",
   "execution_count": 4,
   "metadata": {
    "id": "va3fixlrZkeV"
   },
   "outputs": [
    {
     "name": "stdout",
     "output_type": "stream",
     "text": [
      "Shape (4,)\n",
      "Dimension 1\n",
      "Type <class 'numpy.ndarray'>\n"
     ]
    }
   ],
   "source": [
    "arr=np.array([1,2,3,4])\n",
    "print(\"Shape\",arr.shape)\n",
    "print(\"Dimension\",arr.ndim)\n",
    "print(\"Type\",type(arr))"
   ]
  },
  {
   "cell_type": "markdown",
   "metadata": {
    "id": "2ZI-O7XZla7p"
   },
   "source": [
    "#### Q. Create a 2-D array and print the array, it's type and dimension"
   ]
  },
  {
   "cell_type": "code",
   "execution_count": 9,
   "metadata": {
    "id": "NzfEB75LZkeW"
   },
   "outputs": [
    {
     "name": "stdout",
     "output_type": "stream",
     "text": [
      "Shape (2, 4)\n",
      "Dimension 2\n",
      "Type <class 'numpy.ndarray'>\n"
     ]
    }
   ],
   "source": [
    "arr=np.array([[1,2,3,4],[4,5,6,7]])\n",
    "print(\"Shape\",arr.shape)\n",
    "print(\"Dimension\",arr.ndim)\n",
    "print(\"Type\",type(arr))"
   ]
  },
  {
   "cell_type": "markdown",
   "metadata": {
    "id": "_R0KNjw8la7p"
   },
   "source": [
    "#### Q. Create a 3-D array and print the array, it's type and dimension"
   ]
  },
  {
   "cell_type": "code",
   "execution_count": 12,
   "metadata": {
    "id": "DdwN2gcpZkeX"
   },
   "outputs": [
    {
     "name": "stdout",
     "output_type": "stream",
     "text": [
      "Shape (1, 4, 4)\n",
      "Dimension 3\n",
      "Type <class 'numpy.ndarray'>\n"
     ]
    }
   ],
   "source": [
    "arr=np.array([[[1,2,3,4],[4,5,6,7],[5,6,7,8],[4,5,6,7]]])\n",
    "print(\"Shape\",arr.shape)\n",
    "print(\"Dimension\",arr.ndim)\n",
    "print(\"Type\",type(arr))"
   ]
  },
  {
   "cell_type": "markdown",
   "metadata": {
    "id": "L8PKSBHpZkeY"
   },
   "source": [
    "### Common functions for creating numpy arrays"
   ]
  },
  {
   "cell_type": "markdown",
   "metadata": {
    "id": "T-Ur4Fj4la7q"
   },
   "source": [
    "#### Q. Create an array from 1 to 10 with a step of 2 having float data type"
   ]
  },
  {
   "cell_type": "code",
   "execution_count": 14,
   "metadata": {
    "id": "gsUxYcpKZkeY"
   },
   "outputs": [
    {
     "name": "stdout",
     "output_type": "stream",
     "text": [
      "[1. 3. 5. 7. 9.]\n"
     ]
    }
   ],
   "source": [
    "arr=np.arange(1.0,10.0,2.0)\n",
    "print(arr)"
   ]
  },
  {
   "cell_type": "markdown",
   "metadata": {
    "id": "An4JLzVfla7q"
   },
   "source": [
    "#### Q. Create a 1D array with 4 zeros in it"
   ]
  },
  {
   "cell_type": "code",
   "execution_count": 18,
   "metadata": {
    "id": "XuNa7YIVZkeZ"
   },
   "outputs": [
    {
     "name": "stdout",
     "output_type": "stream",
     "text": [
      "[0 0 0 0]\n",
      "[1 1 1 1]\n"
     ]
    }
   ],
   "source": [
    "arr1=np.zeros(4,dtype=int)\n",
    "arr2=np.ones(4,dtype=int)\n",
    "print(arr1)\n",
    "print(arr2)"
   ]
  },
  {
   "cell_type": "markdown",
   "metadata": {
    "id": "NTul9Z8zla7q"
   },
   "source": [
    "#### Q. Create 2-D array with zeros as the values in it in 4 rows and 2 columns"
   ]
  },
  {
   "cell_type": "code",
   "execution_count": 17,
   "metadata": {
    "id": "7l8IIL2jZkeZ"
   },
   "outputs": [
    {
     "name": "stdout",
     "output_type": "stream",
     "text": [
      "[[0 0]\n",
      " [0 0]\n",
      " [0 0]\n",
      " [0 0]]\n"
     ]
    }
   ],
   "source": [
    "arr2=np.zeros((4,2),dtype=int)\n",
    "print(arr2)"
   ]
  },
  {
   "cell_type": "markdown",
   "metadata": {
    "id": "Mn9t9-VQZkea"
   },
   "source": [
    "### Using Random module"
   ]
  },
  {
   "cell_type": "markdown",
   "metadata": {
    "id": "G3hMtnoila7r"
   },
   "source": [
    "#### Q. Create a random 2 by 2 matrix with random values from 1 to 10 "
   ]
  },
  {
   "cell_type": "code",
   "execution_count": 21,
   "metadata": {
    "id": "sUpD5nK_Zkea"
   },
   "outputs": [
    {
     "name": "stdout",
     "output_type": "stream",
     "text": [
      "[[5 7]\n",
      " [7 6]]\n"
     ]
    }
   ],
   "source": [
    "arr4=np.random.randint(1,10,4)\n",
    "arr4=np.random.randint(1,10,4).reshape(2,2)\n",
    "print(arr4)"
   ]
  },
  {
   "cell_type": "markdown",
   "metadata": {
    "id": "SFRs_i9qla7r"
   },
   "source": [
    "### 2. Indexing an Array"
   ]
  },
  {
   "cell_type": "markdown",
   "metadata": {
    "id": "JiRQVnjila7r"
   },
   "source": [
    "#### Q. Print the second and fifth element of the given array."
   ]
  },
  {
   "cell_type": "markdown",
   "metadata": {
    "id": "vGkMW-Ivla7r"
   },
   "source": [
    "Use the array given below:\n",
    "\n",
    "np_array = np.array([22, 67, 90, 75, 56, 12])"
   ]
  },
  {
   "cell_type": "code",
   "execution_count": 22,
   "metadata": {
    "id": "kjR-ZMiCla7r"
   },
   "outputs": [
    {
     "name": "stdout",
     "output_type": "stream",
     "text": [
      "67 56\n"
     ]
    }
   ],
   "source": [
    "np_array = np.array([22, 67, 90, 75, 56, 12])\n",
    "print(np_array[1],np_array[4])"
   ]
  },
  {
   "cell_type": "markdown",
   "metadata": {
    "id": "WOQsbxTvla7r"
   },
   "source": [
    "#### Q. Print the element in the second row fourth column."
   ]
  },
  {
   "cell_type": "markdown",
   "metadata": {
    "id": "DUue6quhla7r"
   },
   "source": [
    "Use the array given below:\n",
    "\n",
    "\n",
    "np_2d_array = np.array([[90, 80, 67, 89, 78],\n",
    "                       [11, 22, 54, 67, 98],\n",
    "                       [91, 87, 65, 45, 72]])"
   ]
  },
  {
   "cell_type": "code",
   "execution_count": 23,
   "metadata": {
    "id": "_AWlOtwjla7r"
   },
   "outputs": [
    {
     "name": "stdout",
     "output_type": "stream",
     "text": [
      "67\n"
     ]
    }
   ],
   "source": [
    "np_2d_array = np.array([[90, 80, 67, 89, 78], [11, 22, 54, 67, 98], [91, 87, 65, 45, 72]])\n",
    "print(np_2d_array[1,3])"
   ]
  },
  {
   "cell_type": "markdown",
   "metadata": {
    "id": "bIBeKjhUla7s"
   },
   "source": [
    "#### Q. Print all the elements of fifth column."
   ]
  },
  {
   "cell_type": "markdown",
   "metadata": {
    "id": "XotEc36-la7s"
   },
   "source": [
    "Use the array given below:\n",
    "\n",
    "\n",
    "np_2d_array = np.array([[90, 80, 67, 89, 78],\n",
    "                       [11, 22, 54, 67, 98],\n",
    "                       [91, 87, 65, 45, 72]])"
   ]
  },
  {
   "cell_type": "code",
   "execution_count": 25,
   "metadata": {
    "id": "aU2wxHkAla7s"
   },
   "outputs": [
    {
     "name": "stdout",
     "output_type": "stream",
     "text": [
      "[78 98 72]\n"
     ]
    }
   ],
   "source": [
    "np_2d_array = np.array([[90, 80, 67, 89, 78], [11, 22, 54, 67, 98], [91, 87, 65, 45, 72]])\n",
    "print(np_2d_array[:,4])"
   ]
  },
  {
   "cell_type": "markdown",
   "metadata": {
    "id": "tUT-46J3la7s"
   },
   "source": [
    "### 3. Slicing Array"
   ]
  },
  {
   "cell_type": "markdown",
   "metadata": {
    "id": "_HQK6YsOla7s"
   },
   "source": [
    "#### Q. Print the First, second, and third element from the given array."
   ]
  },
  {
   "cell_type": "markdown",
   "metadata": {
    "id": "EO-QWRcGla7s"
   },
   "source": [
    "Use the array given below:\n",
    "\n",
    "np_array = np.array([22, 67, 90, 75, 56, 12])"
   ]
  },
  {
   "cell_type": "code",
   "execution_count": 26,
   "metadata": {
    "id": "JkcOO0ADla7s"
   },
   "outputs": [
    {
     "name": "stdout",
     "output_type": "stream",
     "text": [
      "[22 67 90]\n"
     ]
    }
   ],
   "source": [
    "np_array = np.array([22, 67, 90, 75, 56, 12])\n",
    "print(np_array[0:3])"
   ]
  },
  {
   "cell_type": "markdown",
   "metadata": {
    "id": "jUjzPSDIla7s"
   },
   "source": [
    "#### Q. Print all the rows expect last row, and only print first three columns."
   ]
  },
  {
   "cell_type": "markdown",
   "metadata": {
    "id": "kT7RMpG7la7s"
   },
   "source": [
    "Use the array given below:\n",
    "\n",
    "\n",
    "np_2d_array = np.array([[90, 80, 67, 89, 78],\n",
    "                       [11, 22, 54, 67, 98],\n",
    "                       [91, 87, 65, 45, 72]])"
   ]
  },
  {
   "cell_type": "code",
   "execution_count": 27,
   "metadata": {
    "id": "ixsG3YEmla7t"
   },
   "outputs": [
    {
     "name": "stdout",
     "output_type": "stream",
     "text": [
      "[[90 80 67]\n",
      " [11 22 54]]\n"
     ]
    }
   ],
   "source": [
    "np_2d_array = np.array([[90, 80, 67, 89, 78], [11, 22, 54, 67, 98], [91, 87, 65, 45, 72]])\n",
    "print(np_2d_array[0:2,0:3])"
   ]
  },
  {
   "cell_type": "markdown",
   "metadata": {
    "id": "QKp_bt4pla7t"
   },
   "source": [
    "### 4. Operations on a Array"
   ]
  },
  {
   "cell_type": "markdown",
   "metadata": {
    "id": "K-BvzVbxla7t"
   },
   "source": [
    "#### Q. Perform addition and substraction of two arrays and print the output."
   ]
  },
  {
   "cell_type": "markdown",
   "metadata": {
    "id": "FcvZm787la7t"
   },
   "source": [
    "Use the arrays given below:\n",
    "\n",
    "np_array1 = np.array([100, 200, 300, 400, 500])\n",
    "\n",
    "np_array2 = np.array([80, 70, 190, 290, 120])"
   ]
  },
  {
   "cell_type": "code",
   "execution_count": 29,
   "metadata": {
    "id": "8KCnU0Tpla7t"
   },
   "outputs": [
    {
     "name": "stdout",
     "output_type": "stream",
     "text": [
      "[180 270 490 690 620]\n",
      "[ 20 130 110 110 380]\n"
     ]
    }
   ],
   "source": [
    "np_array1 = np.array([100, 200, 300, 400, 500])\n",
    "\n",
    "np_array2 = np.array([80, 70, 190, 290, 120])\n",
    "print(np_array1+np_array2)\n",
    "print(np_array1-np_array2)"
   ]
  },
  {
   "cell_type": "markdown",
   "metadata": {
    "id": "19qqaU1nla7t"
   },
   "source": [
    "#### Q. Print the Square of each element of the array."
   ]
  },
  {
   "cell_type": "markdown",
   "metadata": {
    "id": "EFrcRP3ola7t"
   },
   "source": [
    "Use the array given below:\n",
    "\n",
    "np_array = np.array([22, 67, 90, 75, 56, 12])"
   ]
  },
  {
   "cell_type": "code",
   "execution_count": 31,
   "metadata": {
    "id": "YKGGsEymla7t"
   },
   "outputs": [
    {
     "name": "stdout",
     "output_type": "stream",
     "text": [
      "[ 484 4489 8100 5625 3136  144]\n"
     ]
    }
   ],
   "source": [
    "np_array = np.array([22, 67, 90, 75, 56, 12])\n",
    "print(np_array**2)"
   ]
  },
  {
   "cell_type": "markdown",
   "metadata": {
    "id": "RP3UJV1tla7t"
   },
   "source": [
    "#### Q. Print all the elements which are greater than 50."
   ]
  },
  {
   "cell_type": "markdown",
   "metadata": {
    "id": "wp0OuKYCla7t"
   },
   "source": [
    "Use the array given below:\n",
    "\n",
    "np_array = np.array([22, 67, 90, 75, 56, 12])"
   ]
  },
  {
   "cell_type": "code",
   "execution_count": 34,
   "metadata": {
    "id": "d1CwBRdvla7t"
   },
   "outputs": [
    {
     "name": "stdout",
     "output_type": "stream",
     "text": [
      "[67 90 75 56]\n"
     ]
    }
   ],
   "source": [
    "np_array = np.array([22, 67, 90, 75, 56, 12])\n",
    "print(np_array[np_array>50])"
   ]
  },
  {
   "cell_type": "markdown",
   "metadata": {
    "id": "07A8E7ujla7t"
   },
   "source": [
    "### 5. Arithmetic Functions"
   ]
  },
  {
   "cell_type": "markdown",
   "metadata": {
    "id": "TCRHTS0ila7u"
   },
   "source": [
    "#### Q. Replace all odd numbers in array with -2."
   ]
  },
  {
   "cell_type": "markdown",
   "metadata": {
    "id": "XOB6ik_8la7u"
   },
   "source": [
    "Use the array given below\n",
    "\n",
    "arr = np.array([0, 31, 42, 43, 34, 45, 26, 27, 38, 94, 65, 78, 76])"
   ]
  },
  {
   "cell_type": "code",
   "execution_count": 36,
   "metadata": {
    "id": "tQmfgLNjla7u"
   },
   "outputs": [
    {
     "name": "stdout",
     "output_type": "stream",
     "text": [
      "[ 0 -2 42 -2 34 -2 26 -2 38 94 -2 78 76]\n"
     ]
    }
   ],
   "source": [
    "arr = np.array([0, 31, 42, 43, 34, 45, 26, 27, 38, 94, 65, 78, 76])\n",
    "arr[arr%2!=0]=-2\n",
    "print(arr)"
   ]
  },
  {
   "cell_type": "markdown",
   "metadata": {
    "id": "lIkSnyDfla7u"
   },
   "source": [
    "#### Q. Write a program to calculate the sum of each column."
   ]
  },
  {
   "cell_type": "markdown",
   "metadata": {
    "id": "WXDH5J55la7u"
   },
   "source": [
    "Use the array given below: (or create your own array)\n",
    "\n",
    "A = [[1, 4, 8], [5, 7, 3], [9, 14, 2]]"
   ]
  },
  {
   "cell_type": "code",
   "execution_count": 38,
   "metadata": {
    "id": "m2a1vbPala7u"
   },
   "outputs": [
    {
     "data": {
      "text/plain": [
       "array([15, 25, 13])"
      ]
     },
     "execution_count": 38,
     "metadata": {},
     "output_type": "execute_result"
    }
   ],
   "source": [
    "A = [[1, 4, 8], [5, 7, 3], [9, 14, 2]]\n",
    "arr5=np.array(A)\n",
    "arr5.sum(axis=0)"
   ]
  },
  {
   "cell_type": "markdown",
   "metadata": {
    "id": "KJSiwUWIla7u"
   },
   "source": [
    "#### Q.  Write a code to get the element-wise remainder of an array after division by 8"
   ]
  },
  {
   "cell_type": "markdown",
   "metadata": {
    "id": "-pUzWR_ola7u"
   },
   "source": [
    "Use the array given below (or create your own array)\n",
    "\n",
    "num = [42, 87, 90, 14, 32, 75, 61, 80, 92]\n",
    "\n",
    "np.array(num)"
   ]
  },
  {
   "cell_type": "code",
   "execution_count": 39,
   "metadata": {
    "id": "_UxfbsxUla7u"
   },
   "outputs": [
    {
     "name": "stdout",
     "output_type": "stream",
     "text": [
      "[2 7 2 6 0 3 5 0 4]\n"
     ]
    }
   ],
   "source": [
    "num = [42, 87, 90, 14, 32, 75, 61, 80, 92]\n",
    "\n",
    "np.array(num)\n",
    "print(np.array(num)%8)"
   ]
  },
  {
   "cell_type": "markdown",
   "metadata": {
    "id": "-PTHm8RFla7u"
   },
   "source": [
    "#### Q. Write a code to multiply two arrays\n",
    "\n",
    "Use the below arrays\n",
    "\n",
    "arr1 = [[1, 4, 8], [5, 7, 3], [9, 14, 2]]\n",
    "\n",
    "arr2 = np.arange(9).reshape(3,-1)"
   ]
  },
  {
   "cell_type": "code",
   "execution_count": 40,
   "metadata": {
    "id": "OSZBxHI5la7v"
   },
   "outputs": [
    {
     "name": "stdout",
     "output_type": "stream",
     "text": [
      "[[ 0  4 16]\n",
      " [15 28 15]\n",
      " [54 98 16]]\n"
     ]
    }
   ],
   "source": [
    "arr1 = [[1, 4, 8], [5, 7, 3], [9, 14, 2]]\n",
    "\n",
    "arr2 = np.arange(9).reshape(3,-1)\n",
    "print(arr1*arr2)"
   ]
  },
  {
   "cell_type": "markdown",
   "metadata": {
    "id": "jKddCQpZla7v"
   },
   "source": [
    "#### Q. Perform addition and subtraction using arr1 and arr2. (use the arrays from previous question)"
   ]
  },
  {
   "cell_type": "code",
   "execution_count": 41,
   "metadata": {
    "id": "Y3tjP_OZla7v"
   },
   "outputs": [
    {
     "name": "stdout",
     "output_type": "stream",
     "text": [
      "[[ 1  5 10]\n",
      " [ 8 11  8]\n",
      " [15 21 10]]\n",
      "[[ 1  3  6]\n",
      " [ 2  3 -2]\n",
      " [ 3  7 -6]]\n"
     ]
    }
   ],
   "source": [
    "arr1 = [[1, 4, 8], [5, 7, 3], [9, 14, 2]]\n",
    "\n",
    "arr2 = np.arange(9).reshape(3,-1)\n",
    "print(arr1+arr2)\n",
    "print(arr1-arr2)"
   ]
  },
  {
   "cell_type": "markdown",
   "metadata": {
    "id": "RVIAjHFjla7v"
   },
   "source": [
    "#### Q. Find the max and min numbers in the given array\n",
    "- arr = np.random.randint(0, 100, 5)"
   ]
  },
  {
   "cell_type": "code",
   "execution_count": 43,
   "metadata": {
    "id": "ubFk-wIVla7v"
   },
   "outputs": [
    {
     "name": "stdout",
     "output_type": "stream",
     "text": [
      "91\n",
      "28\n"
     ]
    }
   ],
   "source": [
    "arr = np.random.randint(0, 100, 5)\n",
    "print(max(arr))\n",
    "print(min(arr))"
   ]
  },
  {
   "cell_type": "markdown",
   "metadata": {
    "id": "_6agec7rZwR8"
   },
   "source": [
    "### Happy Learning :)"
   ]
  }
 ],
 "metadata": {
  "colab": {
   "provenance": []
  },
  "kernelspec": {
   "display_name": "Python 3 (ipykernel)",
   "language": "python",
   "name": "python3"
  },
  "language_info": {
   "codemirror_mode": {
    "name": "ipython",
    "version": 3
   },
   "file_extension": ".py",
   "mimetype": "text/x-python",
   "name": "python",
   "nbconvert_exporter": "python",
   "pygments_lexer": "ipython3",
   "version": "3.11.5"
  }
 },
 "nbformat": 4,
 "nbformat_minor": 1
}
