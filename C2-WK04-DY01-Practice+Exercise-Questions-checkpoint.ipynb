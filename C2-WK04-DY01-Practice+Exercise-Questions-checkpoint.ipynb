{
 "cells": [
  {
   "cell_type": "markdown",
   "id": "H1TCBCZ-Ed7t",
   "metadata": {
    "id": "H1TCBCZ-Ed7t"
   },
   "source": [
    "![New_GL_logo.png](data:image/png;base64,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)\n",
    "\n",
    "Proprietary content. © Great Learning. All Rights Reserved. Unauthorized use or distribution prohibited."
   ]
  },
  {
   "cell_type": "markdown",
   "id": "555ade9b",
   "metadata": {
    "id": "555ade9b"
   },
   "source": [
    "\n",
    "# Course 2: Week04 - Day01 - Practice Exercise"
   ]
  },
  {
   "cell_type": "markdown",
   "id": "0fc0a2ec",
   "metadata": {
    "id": "0fc0a2ec"
   },
   "source": [
    "##  <font color='blue'> Table Of Contents </font>\n",
    "- ### <font color='blue'> About Dataset and Importing Dataset </font>   \n",
    "- ### <font color='blue'> Data Preprocessing </font>\n",
    "    - #### <font color='blue'> Dropping unnecessary features </font>\n",
    "    - #### <font color='blue'> Dealing with Duplicate values </font>\n",
    "    - #### <font color='blue'> Dealing with Missing data </font>\n",
    "    - #### <font color='blue'> Converting/Removing Special characters to meaningful data </font>\n",
    "    - #### <font color='blue'> Categorical data conversion </font>\n",
    "    - #### <font color='blue'> Normalization </font>\n",
    "    - #### <font color='blue'> Dealing with Outliers </font>"
   ]
  },
  {
   "cell_type": "markdown",
   "id": "3fda24ce",
   "metadata": {
    "id": "3fda24ce"
   },
   "source": [
    "-------------"
   ]
  },
  {
   "cell_type": "markdown",
   "id": "994d6316",
   "metadata": {
    "id": "994d6316"
   },
   "source": [
    "### <font color = 'green'> **About Dataset**"
   ]
  },
  {
   "cell_type": "markdown",
   "id": "3428a722",
   "metadata": {
    "id": "3428a722"
   },
   "source": [
    "- This Data includes lastest edition FIFA 2019 players attributes like Age, Nationality, Overall, Potential, Club, Value, Wage, Preferred Foot, International Reputation, Weak Foot, Skill Moves, Work Rate, Position, Jersey Number, Joined, Loaned From, Contract Valid Until, Height, Weight, LS, ST, RS, LW, LF, CF, RF, RW, LAM, CAM, RAM, LM, LCM, CM, RCM, RM, LWB, LDM, CDM, RDM, RWB, LB, LCB, CB, RCB, RB, Crossing, Finishing, Heading, Accuracy, ShortPassing, Volleys, Dribbling, Curve, FKAccuracy, LongPassing, BallControl, Acceleration, SprintSpeed, Agility, Reactions, Balance, ShotPower, Jumping, Stamina, Strength, LongShots, Aggression, Interceptions, Positioning, Vision, Penalties, Composure, Marking, StandingTackle, SlidingTackle, GKDiving, GKHandling, GKKicking, GKPositioning, GKReflexes, and Release Clause.\n",
    "- FIFA 19 is a football simulation video game developed by EA Vancouver as part of Electronic Arts’ FIFA series.\n",
    "- The dataset contains information of all 18207 players from the latest edition FIFA 19. There are 89 attributes including personal information like age, name, nationality, photo, club, wage, etc, and also player skill information like ball control, dribbling, crossing, finishing, GK skills and etc."
   ]
  },
  {
   "cell_type": "markdown",
   "id": "a4ea4270",
   "metadata": {
    "id": "a4ea4270"
   },
   "source": [
    "- Data source : https://sofifa.com/?r=190075&set=true\n",
    "- Inspired from this dataset: https://www.kaggle.com/thec03u5/fifa-18-demo-player-dataset"
   ]
  },
  {
   "cell_type": "markdown",
   "id": "_XVQyby23Dc-",
   "metadata": {
    "id": "_XVQyby23Dc-"
   },
   "source": [
    "### <font color = 'green'> **1. Import necessary libraries**"
   ]
  },
  {
   "cell_type": "code",
   "execution_count": 40,
   "id": "c0aa1a7e",
   "metadata": {
    "id": "c0aa1a7e"
   },
   "outputs": [],
   "source": [
    "import numpy as np\n",
    "import pandas as pd\n",
    "import matplotlib.pyplot as plt\n",
    "import seaborn as sns"
   ]
  },
  {
   "cell_type": "markdown",
   "id": "f0fadad5",
   "metadata": {
    "id": "f0fadad5"
   },
   "source": [
    "### <font color = 'green'> **2. Import and understand the dataset**\n",
    "<font size=3> i) Check info\n",
    "    \n",
    "<font size=3> ii) Check a few samples\n",
    "    \n",
    "<font size=3> iii) Check statistical summary \n",
    "    "
   ]
  },
  {
   "cell_type": "code",
   "execution_count": 41,
   "id": "sK9Zk0glodom",
   "metadata": {
    "id": "sK9Zk0glodom"
   },
   "outputs": [
    {
     "data": {
      "text/html": [
       "<div>\n",
       "<style scoped>\n",
       "    .dataframe tbody tr th:only-of-type {\n",
       "        vertical-align: middle;\n",
       "    }\n",
       "\n",
       "    .dataframe tbody tr th {\n",
       "        vertical-align: top;\n",
       "    }\n",
       "\n",
       "    .dataframe thead th {\n",
       "        text-align: right;\n",
       "    }\n",
       "</style>\n",
       "<table border=\"1\" class=\"dataframe\">\n",
       "  <thead>\n",
       "    <tr style=\"text-align: right;\">\n",
       "      <th></th>\n",
       "      <th>Unnamed: 0</th>\n",
       "      <th>ID</th>\n",
       "      <th>Name</th>\n",
       "      <th>Age</th>\n",
       "      <th>Photo</th>\n",
       "      <th>Nationality</th>\n",
       "      <th>Flag</th>\n",
       "      <th>Overall</th>\n",
       "      <th>Potential</th>\n",
       "      <th>Club</th>\n",
       "      <th>Club Logo</th>\n",
       "      <th>Value</th>\n",
       "      <th>Wage</th>\n",
       "      <th>Special</th>\n",
       "      <th>Preferred Foot</th>\n",
       "      <th>International Reputation</th>\n",
       "      <th>Weak Foot</th>\n",
       "      <th>Skill Moves</th>\n",
       "      <th>Work Rate</th>\n",
       "      <th>Body Type</th>\n",
       "      <th>Real Face</th>\n",
       "      <th>Position</th>\n",
       "      <th>Jersey Number</th>\n",
       "      <th>Joined</th>\n",
       "      <th>Loaned From</th>\n",
       "      <th>Contract Valid Until</th>\n",
       "      <th>Height</th>\n",
       "      <th>Weight</th>\n",
       "      <th>LS</th>\n",
       "      <th>ST</th>\n",
       "      <th>RS</th>\n",
       "      <th>LW</th>\n",
       "      <th>LF</th>\n",
       "      <th>CF</th>\n",
       "      <th>RF</th>\n",
       "      <th>RW</th>\n",
       "      <th>LAM</th>\n",
       "      <th>CAM</th>\n",
       "      <th>RAM</th>\n",
       "      <th>LM</th>\n",
       "      <th>LCM</th>\n",
       "      <th>CM</th>\n",
       "      <th>RCM</th>\n",
       "      <th>RM</th>\n",
       "      <th>LWB</th>\n",
       "      <th>LDM</th>\n",
       "      <th>CDM</th>\n",
       "      <th>RDM</th>\n",
       "      <th>RWB</th>\n",
       "      <th>LB</th>\n",
       "      <th>LCB</th>\n",
       "      <th>CB</th>\n",
       "      <th>RCB</th>\n",
       "      <th>RB</th>\n",
       "      <th>Crossing</th>\n",
       "      <th>Finishing</th>\n",
       "      <th>HeadingAccuracy</th>\n",
       "      <th>ShortPassing</th>\n",
       "      <th>Volleys</th>\n",
       "      <th>Dribbling</th>\n",
       "      <th>Curve</th>\n",
       "      <th>FKAccuracy</th>\n",
       "      <th>LongPassing</th>\n",
       "      <th>BallControl</th>\n",
       "      <th>Acceleration</th>\n",
       "      <th>SprintSpeed</th>\n",
       "      <th>Agility</th>\n",
       "      <th>Reactions</th>\n",
       "      <th>Balance</th>\n",
       "      <th>ShotPower</th>\n",
       "      <th>Jumping</th>\n",
       "      <th>Stamina</th>\n",
       "      <th>Strength</th>\n",
       "      <th>LongShots</th>\n",
       "      <th>Aggression</th>\n",
       "      <th>Interceptions</th>\n",
       "      <th>Positioning</th>\n",
       "      <th>Vision</th>\n",
       "      <th>Penalties</th>\n",
       "      <th>Composure</th>\n",
       "      <th>Marking</th>\n",
       "      <th>StandingTackle</th>\n",
       "      <th>SlidingTackle</th>\n",
       "      <th>GKDiving</th>\n",
       "      <th>GKHandling</th>\n",
       "      <th>GKKicking</th>\n",
       "      <th>GKPositioning</th>\n",
       "      <th>GKReflexes</th>\n",
       "      <th>Release Clause</th>\n",
       "    </tr>\n",
       "  </thead>\n",
       "  <tbody>\n",
       "    <tr>\n",
       "      <th>0</th>\n",
       "      <td>0</td>\n",
       "      <td>158023</td>\n",
       "      <td>L. Messi</td>\n",
       "      <td>31</td>\n",
       "      <td>https://cdn.sofifa.org/players/4/19/158023.png</td>\n",
       "      <td>Argentina</td>\n",
       "      <td>https://cdn.sofifa.org/flags/52.png</td>\n",
       "      <td>94</td>\n",
       "      <td>94</td>\n",
       "      <td>FC Barcelona</td>\n",
       "      <td>https://cdn.sofifa.org/teams/2/light/241.png</td>\n",
       "      <td>€110.5M</td>\n",
       "      <td>€565K</td>\n",
       "      <td>2202</td>\n",
       "      <td>Left</td>\n",
       "      <td>5.0</td>\n",
       "      <td>4.0</td>\n",
       "      <td>4.0</td>\n",
       "      <td>Medium/ Medium</td>\n",
       "      <td>Messi</td>\n",
       "      <td>Yes</td>\n",
       "      <td>RF</td>\n",
       "      <td>10.0</td>\n",
       "      <td>Jul 1, 2004</td>\n",
       "      <td>NaN</td>\n",
       "      <td>2021</td>\n",
       "      <td>5'7</td>\n",
       "      <td>159lbs</td>\n",
       "      <td>88+2</td>\n",
       "      <td>88+2</td>\n",
       "      <td>88+2</td>\n",
       "      <td>92+2</td>\n",
       "      <td>93+2</td>\n",
       "      <td>93+2</td>\n",
       "      <td>93+2</td>\n",
       "      <td>92+2</td>\n",
       "      <td>93+2</td>\n",
       "      <td>93+2</td>\n",
       "      <td>93+2</td>\n",
       "      <td>91+2</td>\n",
       "      <td>84+2</td>\n",
       "      <td>84+2</td>\n",
       "      <td>84+2</td>\n",
       "      <td>91+2</td>\n",
       "      <td>64+2</td>\n",
       "      <td>61+2</td>\n",
       "      <td>61+2</td>\n",
       "      <td>61+2</td>\n",
       "      <td>64+2</td>\n",
       "      <td>59+2</td>\n",
       "      <td>47+2</td>\n",
       "      <td>47+2</td>\n",
       "      <td>47+2</td>\n",
       "      <td>59+2</td>\n",
       "      <td>84.0</td>\n",
       "      <td>95.0</td>\n",
       "      <td>70.0</td>\n",
       "      <td>90.0</td>\n",
       "      <td>86.0</td>\n",
       "      <td>97.0</td>\n",
       "      <td>93.0</td>\n",
       "      <td>94.0</td>\n",
       "      <td>87.0</td>\n",
       "      <td>96.0</td>\n",
       "      <td>91.0</td>\n",
       "      <td>86.0</td>\n",
       "      <td>91.0</td>\n",
       "      <td>95.0</td>\n",
       "      <td>95.0</td>\n",
       "      <td>85.0</td>\n",
       "      <td>68.0</td>\n",
       "      <td>72.0</td>\n",
       "      <td>59.0</td>\n",
       "      <td>94.0</td>\n",
       "      <td>48.0</td>\n",
       "      <td>22.0</td>\n",
       "      <td>94.0</td>\n",
       "      <td>94.0</td>\n",
       "      <td>75.0</td>\n",
       "      <td>96.0</td>\n",
       "      <td>33.0</td>\n",
       "      <td>28.0</td>\n",
       "      <td>26.0</td>\n",
       "      <td>6.0</td>\n",
       "      <td>11.0</td>\n",
       "      <td>15.0</td>\n",
       "      <td>14.0</td>\n",
       "      <td>8.0</td>\n",
       "      <td>€226.5M</td>\n",
       "    </tr>\n",
       "    <tr>\n",
       "      <th>1</th>\n",
       "      <td>1</td>\n",
       "      <td>20801</td>\n",
       "      <td>Cristiano Ronaldo</td>\n",
       "      <td>33</td>\n",
       "      <td>https://cdn.sofifa.org/players/4/19/20801.png</td>\n",
       "      <td>Portugal</td>\n",
       "      <td>https://cdn.sofifa.org/flags/38.png</td>\n",
       "      <td>94</td>\n",
       "      <td>94</td>\n",
       "      <td>Juventus</td>\n",
       "      <td>https://cdn.sofifa.org/teams/2/light/45.png</td>\n",
       "      <td>€77M</td>\n",
       "      <td>€405K</td>\n",
       "      <td>2228</td>\n",
       "      <td>Right</td>\n",
       "      <td>5.0</td>\n",
       "      <td>4.0</td>\n",
       "      <td>5.0</td>\n",
       "      <td>High/ Low</td>\n",
       "      <td>C. Ronaldo</td>\n",
       "      <td>Yes</td>\n",
       "      <td>ST</td>\n",
       "      <td>7.0</td>\n",
       "      <td>Jul 10, 2018</td>\n",
       "      <td>NaN</td>\n",
       "      <td>2022</td>\n",
       "      <td>6'2</td>\n",
       "      <td>183lbs</td>\n",
       "      <td>91+3</td>\n",
       "      <td>91+3</td>\n",
       "      <td>91+3</td>\n",
       "      <td>89+3</td>\n",
       "      <td>90+3</td>\n",
       "      <td>90+3</td>\n",
       "      <td>90+3</td>\n",
       "      <td>89+3</td>\n",
       "      <td>88+3</td>\n",
       "      <td>88+3</td>\n",
       "      <td>88+3</td>\n",
       "      <td>88+3</td>\n",
       "      <td>81+3</td>\n",
       "      <td>81+3</td>\n",
       "      <td>81+3</td>\n",
       "      <td>88+3</td>\n",
       "      <td>65+3</td>\n",
       "      <td>61+3</td>\n",
       "      <td>61+3</td>\n",
       "      <td>61+3</td>\n",
       "      <td>65+3</td>\n",
       "      <td>61+3</td>\n",
       "      <td>53+3</td>\n",
       "      <td>53+3</td>\n",
       "      <td>53+3</td>\n",
       "      <td>61+3</td>\n",
       "      <td>84.0</td>\n",
       "      <td>94.0</td>\n",
       "      <td>89.0</td>\n",
       "      <td>81.0</td>\n",
       "      <td>87.0</td>\n",
       "      <td>88.0</td>\n",
       "      <td>81.0</td>\n",
       "      <td>76.0</td>\n",
       "      <td>77.0</td>\n",
       "      <td>94.0</td>\n",
       "      <td>89.0</td>\n",
       "      <td>91.0</td>\n",
       "      <td>87.0</td>\n",
       "      <td>96.0</td>\n",
       "      <td>70.0</td>\n",
       "      <td>95.0</td>\n",
       "      <td>95.0</td>\n",
       "      <td>88.0</td>\n",
       "      <td>79.0</td>\n",
       "      <td>93.0</td>\n",
       "      <td>63.0</td>\n",
       "      <td>29.0</td>\n",
       "      <td>95.0</td>\n",
       "      <td>82.0</td>\n",
       "      <td>85.0</td>\n",
       "      <td>95.0</td>\n",
       "      <td>28.0</td>\n",
       "      <td>31.0</td>\n",
       "      <td>23.0</td>\n",
       "      <td>7.0</td>\n",
       "      <td>11.0</td>\n",
       "      <td>15.0</td>\n",
       "      <td>14.0</td>\n",
       "      <td>11.0</td>\n",
       "      <td>€127.1M</td>\n",
       "    </tr>\n",
       "    <tr>\n",
       "      <th>2</th>\n",
       "      <td>2</td>\n",
       "      <td>190871</td>\n",
       "      <td>Neymar Jr</td>\n",
       "      <td>26</td>\n",
       "      <td>https://cdn.sofifa.org/players/4/19/190871.png</td>\n",
       "      <td>Brazil</td>\n",
       "      <td>https://cdn.sofifa.org/flags/54.png</td>\n",
       "      <td>92</td>\n",
       "      <td>93</td>\n",
       "      <td>Paris Saint-Germain</td>\n",
       "      <td>https://cdn.sofifa.org/teams/2/light/73.png</td>\n",
       "      <td>€118.5M</td>\n",
       "      <td>€290K</td>\n",
       "      <td>2143</td>\n",
       "      <td>Right</td>\n",
       "      <td>5.0</td>\n",
       "      <td>5.0</td>\n",
       "      <td>5.0</td>\n",
       "      <td>High/ Medium</td>\n",
       "      <td>Neymar</td>\n",
       "      <td>Yes</td>\n",
       "      <td>LW</td>\n",
       "      <td>10.0</td>\n",
       "      <td>Aug 3, 2017</td>\n",
       "      <td>NaN</td>\n",
       "      <td>2022</td>\n",
       "      <td>5'9</td>\n",
       "      <td>150lbs</td>\n",
       "      <td>84+3</td>\n",
       "      <td>84+3</td>\n",
       "      <td>84+3</td>\n",
       "      <td>89+3</td>\n",
       "      <td>89+3</td>\n",
       "      <td>89+3</td>\n",
       "      <td>89+3</td>\n",
       "      <td>89+3</td>\n",
       "      <td>89+3</td>\n",
       "      <td>89+3</td>\n",
       "      <td>89+3</td>\n",
       "      <td>88+3</td>\n",
       "      <td>81+3</td>\n",
       "      <td>81+3</td>\n",
       "      <td>81+3</td>\n",
       "      <td>88+3</td>\n",
       "      <td>65+3</td>\n",
       "      <td>60+3</td>\n",
       "      <td>60+3</td>\n",
       "      <td>60+3</td>\n",
       "      <td>65+3</td>\n",
       "      <td>60+3</td>\n",
       "      <td>47+3</td>\n",
       "      <td>47+3</td>\n",
       "      <td>47+3</td>\n",
       "      <td>60+3</td>\n",
       "      <td>79.0</td>\n",
       "      <td>87.0</td>\n",
       "      <td>62.0</td>\n",
       "      <td>84.0</td>\n",
       "      <td>84.0</td>\n",
       "      <td>96.0</td>\n",
       "      <td>88.0</td>\n",
       "      <td>87.0</td>\n",
       "      <td>78.0</td>\n",
       "      <td>95.0</td>\n",
       "      <td>94.0</td>\n",
       "      <td>90.0</td>\n",
       "      <td>96.0</td>\n",
       "      <td>94.0</td>\n",
       "      <td>84.0</td>\n",
       "      <td>80.0</td>\n",
       "      <td>61.0</td>\n",
       "      <td>81.0</td>\n",
       "      <td>49.0</td>\n",
       "      <td>82.0</td>\n",
       "      <td>56.0</td>\n",
       "      <td>36.0</td>\n",
       "      <td>89.0</td>\n",
       "      <td>87.0</td>\n",
       "      <td>81.0</td>\n",
       "      <td>94.0</td>\n",
       "      <td>27.0</td>\n",
       "      <td>24.0</td>\n",
       "      <td>33.0</td>\n",
       "      <td>9.0</td>\n",
       "      <td>9.0</td>\n",
       "      <td>15.0</td>\n",
       "      <td>15.0</td>\n",
       "      <td>11.0</td>\n",
       "      <td>€228.1M</td>\n",
       "    </tr>\n",
       "    <tr>\n",
       "      <th>3</th>\n",
       "      <td>3</td>\n",
       "      <td>193080</td>\n",
       "      <td>De Gea</td>\n",
       "      <td>27</td>\n",
       "      <td>https://cdn.sofifa.org/players/4/19/193080.png</td>\n",
       "      <td>Spain</td>\n",
       "      <td>https://cdn.sofifa.org/flags/45.png</td>\n",
       "      <td>91</td>\n",
       "      <td>93</td>\n",
       "      <td>Manchester United</td>\n",
       "      <td>https://cdn.sofifa.org/teams/2/light/11.png</td>\n",
       "      <td>€72M</td>\n",
       "      <td>€260K</td>\n",
       "      <td>1471</td>\n",
       "      <td>Right</td>\n",
       "      <td>4.0</td>\n",
       "      <td>3.0</td>\n",
       "      <td>1.0</td>\n",
       "      <td>Medium/ Medium</td>\n",
       "      <td>Lean</td>\n",
       "      <td>Yes</td>\n",
       "      <td>GK</td>\n",
       "      <td>1.0</td>\n",
       "      <td>Jul 1, 2011</td>\n",
       "      <td>NaN</td>\n",
       "      <td>2020</td>\n",
       "      <td>6'4</td>\n",
       "      <td>168lbs</td>\n",
       "      <td>NaN</td>\n",
       "      <td>NaN</td>\n",
       "      <td>NaN</td>\n",
       "      <td>NaN</td>\n",
       "      <td>NaN</td>\n",
       "      <td>NaN</td>\n",
       "      <td>NaN</td>\n",
       "      <td>NaN</td>\n",
       "      <td>NaN</td>\n",
       "      <td>NaN</td>\n",
       "      <td>NaN</td>\n",
       "      <td>NaN</td>\n",
       "      <td>NaN</td>\n",
       "      <td>NaN</td>\n",
       "      <td>NaN</td>\n",
       "      <td>NaN</td>\n",
       "      <td>NaN</td>\n",
       "      <td>NaN</td>\n",
       "      <td>NaN</td>\n",
       "      <td>NaN</td>\n",
       "      <td>NaN</td>\n",
       "      <td>NaN</td>\n",
       "      <td>NaN</td>\n",
       "      <td>NaN</td>\n",
       "      <td>NaN</td>\n",
       "      <td>NaN</td>\n",
       "      <td>17.0</td>\n",
       "      <td>13.0</td>\n",
       "      <td>21.0</td>\n",
       "      <td>50.0</td>\n",
       "      <td>13.0</td>\n",
       "      <td>18.0</td>\n",
       "      <td>21.0</td>\n",
       "      <td>19.0</td>\n",
       "      <td>51.0</td>\n",
       "      <td>42.0</td>\n",
       "      <td>57.0</td>\n",
       "      <td>58.0</td>\n",
       "      <td>60.0</td>\n",
       "      <td>90.0</td>\n",
       "      <td>43.0</td>\n",
       "      <td>31.0</td>\n",
       "      <td>67.0</td>\n",
       "      <td>43.0</td>\n",
       "      <td>64.0</td>\n",
       "      <td>12.0</td>\n",
       "      <td>38.0</td>\n",
       "      <td>30.0</td>\n",
       "      <td>12.0</td>\n",
       "      <td>68.0</td>\n",
       "      <td>40.0</td>\n",
       "      <td>68.0</td>\n",
       "      <td>15.0</td>\n",
       "      <td>21.0</td>\n",
       "      <td>13.0</td>\n",
       "      <td>90.0</td>\n",
       "      <td>85.0</td>\n",
       "      <td>87.0</td>\n",
       "      <td>88.0</td>\n",
       "      <td>94.0</td>\n",
       "      <td>€138.6M</td>\n",
       "    </tr>\n",
       "    <tr>\n",
       "      <th>4</th>\n",
       "      <td>4</td>\n",
       "      <td>192985</td>\n",
       "      <td>K. De Bruyne</td>\n",
       "      <td>27</td>\n",
       "      <td>https://cdn.sofifa.org/players/4/19/192985.png</td>\n",
       "      <td>Belgium</td>\n",
       "      <td>https://cdn.sofifa.org/flags/7.png</td>\n",
       "      <td>91</td>\n",
       "      <td>92</td>\n",
       "      <td>Manchester City</td>\n",
       "      <td>https://cdn.sofifa.org/teams/2/light/10.png</td>\n",
       "      <td>€102M</td>\n",
       "      <td>€355K</td>\n",
       "      <td>2281</td>\n",
       "      <td>Right</td>\n",
       "      <td>4.0</td>\n",
       "      <td>5.0</td>\n",
       "      <td>4.0</td>\n",
       "      <td>High/ High</td>\n",
       "      <td>Normal</td>\n",
       "      <td>Yes</td>\n",
       "      <td>RCM</td>\n",
       "      <td>7.0</td>\n",
       "      <td>Aug 30, 2015</td>\n",
       "      <td>NaN</td>\n",
       "      <td>2023</td>\n",
       "      <td>5'11</td>\n",
       "      <td>154lbs</td>\n",
       "      <td>82+3</td>\n",
       "      <td>82+3</td>\n",
       "      <td>82+3</td>\n",
       "      <td>87+3</td>\n",
       "      <td>87+3</td>\n",
       "      <td>87+3</td>\n",
       "      <td>87+3</td>\n",
       "      <td>87+3</td>\n",
       "      <td>88+3</td>\n",
       "      <td>88+3</td>\n",
       "      <td>88+3</td>\n",
       "      <td>88+3</td>\n",
       "      <td>87+3</td>\n",
       "      <td>87+3</td>\n",
       "      <td>87+3</td>\n",
       "      <td>88+3</td>\n",
       "      <td>77+3</td>\n",
       "      <td>77+3</td>\n",
       "      <td>77+3</td>\n",
       "      <td>77+3</td>\n",
       "      <td>77+3</td>\n",
       "      <td>73+3</td>\n",
       "      <td>66+3</td>\n",
       "      <td>66+3</td>\n",
       "      <td>66+3</td>\n",
       "      <td>73+3</td>\n",
       "      <td>93.0</td>\n",
       "      <td>82.0</td>\n",
       "      <td>55.0</td>\n",
       "      <td>92.0</td>\n",
       "      <td>82.0</td>\n",
       "      <td>86.0</td>\n",
       "      <td>85.0</td>\n",
       "      <td>83.0</td>\n",
       "      <td>91.0</td>\n",
       "      <td>91.0</td>\n",
       "      <td>78.0</td>\n",
       "      <td>76.0</td>\n",
       "      <td>79.0</td>\n",
       "      <td>91.0</td>\n",
       "      <td>77.0</td>\n",
       "      <td>91.0</td>\n",
       "      <td>63.0</td>\n",
       "      <td>90.0</td>\n",
       "      <td>75.0</td>\n",
       "      <td>91.0</td>\n",
       "      <td>76.0</td>\n",
       "      <td>61.0</td>\n",
       "      <td>87.0</td>\n",
       "      <td>94.0</td>\n",
       "      <td>79.0</td>\n",
       "      <td>88.0</td>\n",
       "      <td>68.0</td>\n",
       "      <td>58.0</td>\n",
       "      <td>51.0</td>\n",
       "      <td>15.0</td>\n",
       "      <td>13.0</td>\n",
       "      <td>5.0</td>\n",
       "      <td>10.0</td>\n",
       "      <td>13.0</td>\n",
       "      <td>€196.4M</td>\n",
       "    </tr>\n",
       "  </tbody>\n",
       "</table>\n",
       "</div>"
      ],
      "text/plain": [
       "   Unnamed: 0      ID               Name  Age                                           Photo Nationality                                 Flag  Overall  Potential                 Club                                     Club Logo    Value   Wage  Special Preferred Foot  International Reputation  Weak Foot  Skill Moves       Work Rate   Body Type Real Face Position  Jersey Number        Joined Loaned From Contract Valid Until Height  Weight    LS    ST    RS    LW    LF    CF    RF    RW   LAM   CAM   RAM    LM   LCM    CM   RCM    RM   LWB   LDM   CDM   RDM   RWB    LB   LCB    CB   RCB    RB  Crossing  Finishing  HeadingAccuracy  ShortPassing  Volleys  Dribbling  Curve  FKAccuracy  LongPassing  BallControl  Acceleration  SprintSpeed  Agility  Reactions  Balance  ShotPower  Jumping  Stamina  Strength  LongShots  Aggression  Interceptions  Positioning  Vision  Penalties  Composure  Marking  StandingTackle  SlidingTackle  GKDiving  GKHandling  GKKicking  GKPositioning  GKReflexes  \\\n",
       "0           0  158023           L. Messi   31  https://cdn.sofifa.org/players/4/19/158023.png   Argentina  https://cdn.sofifa.org/flags/52.png       94         94         FC Barcelona  https://cdn.sofifa.org/teams/2/light/241.png  €110.5M  €565K     2202           Left                       5.0        4.0          4.0  Medium/ Medium       Messi       Yes       RF           10.0   Jul 1, 2004         NaN                 2021    5'7  159lbs  88+2  88+2  88+2  92+2  93+2  93+2  93+2  92+2  93+2  93+2  93+2  91+2  84+2  84+2  84+2  91+2  64+2  61+2  61+2  61+2  64+2  59+2  47+2  47+2  47+2  59+2      84.0       95.0             70.0          90.0     86.0       97.0   93.0        94.0         87.0         96.0          91.0         86.0     91.0       95.0     95.0       85.0     68.0     72.0      59.0       94.0        48.0           22.0         94.0    94.0       75.0       96.0     33.0            28.0           26.0       6.0        11.0       15.0           14.0         8.0   \n",
       "1           1   20801  Cristiano Ronaldo   33   https://cdn.sofifa.org/players/4/19/20801.png    Portugal  https://cdn.sofifa.org/flags/38.png       94         94             Juventus   https://cdn.sofifa.org/teams/2/light/45.png     €77M  €405K     2228          Right                       5.0        4.0          5.0       High/ Low  C. Ronaldo       Yes       ST            7.0  Jul 10, 2018         NaN                 2022    6'2  183lbs  91+3  91+3  91+3  89+3  90+3  90+3  90+3  89+3  88+3  88+3  88+3  88+3  81+3  81+3  81+3  88+3  65+3  61+3  61+3  61+3  65+3  61+3  53+3  53+3  53+3  61+3      84.0       94.0             89.0          81.0     87.0       88.0   81.0        76.0         77.0         94.0          89.0         91.0     87.0       96.0     70.0       95.0     95.0     88.0      79.0       93.0        63.0           29.0         95.0    82.0       85.0       95.0     28.0            31.0           23.0       7.0        11.0       15.0           14.0        11.0   \n",
       "2           2  190871          Neymar Jr   26  https://cdn.sofifa.org/players/4/19/190871.png      Brazil  https://cdn.sofifa.org/flags/54.png       92         93  Paris Saint-Germain   https://cdn.sofifa.org/teams/2/light/73.png  €118.5M  €290K     2143          Right                       5.0        5.0          5.0    High/ Medium      Neymar       Yes       LW           10.0   Aug 3, 2017         NaN                 2022    5'9  150lbs  84+3  84+3  84+3  89+3  89+3  89+3  89+3  89+3  89+3  89+3  89+3  88+3  81+3  81+3  81+3  88+3  65+3  60+3  60+3  60+3  65+3  60+3  47+3  47+3  47+3  60+3      79.0       87.0             62.0          84.0     84.0       96.0   88.0        87.0         78.0         95.0          94.0         90.0     96.0       94.0     84.0       80.0     61.0     81.0      49.0       82.0        56.0           36.0         89.0    87.0       81.0       94.0     27.0            24.0           33.0       9.0         9.0       15.0           15.0        11.0   \n",
       "3           3  193080             De Gea   27  https://cdn.sofifa.org/players/4/19/193080.png       Spain  https://cdn.sofifa.org/flags/45.png       91         93    Manchester United   https://cdn.sofifa.org/teams/2/light/11.png     €72M  €260K     1471          Right                       4.0        3.0          1.0  Medium/ Medium        Lean       Yes       GK            1.0   Jul 1, 2011         NaN                 2020    6'4  168lbs   NaN   NaN   NaN   NaN   NaN   NaN   NaN   NaN   NaN   NaN   NaN   NaN   NaN   NaN   NaN   NaN   NaN   NaN   NaN   NaN   NaN   NaN   NaN   NaN   NaN   NaN      17.0       13.0             21.0          50.0     13.0       18.0   21.0        19.0         51.0         42.0          57.0         58.0     60.0       90.0     43.0       31.0     67.0     43.0      64.0       12.0        38.0           30.0         12.0    68.0       40.0       68.0     15.0            21.0           13.0      90.0        85.0       87.0           88.0        94.0   \n",
       "4           4  192985       K. De Bruyne   27  https://cdn.sofifa.org/players/4/19/192985.png     Belgium   https://cdn.sofifa.org/flags/7.png       91         92      Manchester City   https://cdn.sofifa.org/teams/2/light/10.png    €102M  €355K     2281          Right                       4.0        5.0          4.0      High/ High      Normal       Yes      RCM            7.0  Aug 30, 2015         NaN                 2023   5'11  154lbs  82+3  82+3  82+3  87+3  87+3  87+3  87+3  87+3  88+3  88+3  88+3  88+3  87+3  87+3  87+3  88+3  77+3  77+3  77+3  77+3  77+3  73+3  66+3  66+3  66+3  73+3      93.0       82.0             55.0          92.0     82.0       86.0   85.0        83.0         91.0         91.0          78.0         76.0     79.0       91.0     77.0       91.0     63.0     90.0      75.0       91.0        76.0           61.0         87.0    94.0       79.0       88.0     68.0            58.0           51.0      15.0        13.0        5.0           10.0        13.0   \n",
       "\n",
       "  Release Clause  \n",
       "0        €226.5M  \n",
       "1        €127.1M  \n",
       "2        €228.1M  \n",
       "3        €138.6M  \n",
       "4        €196.4M  "
      ]
     },
     "execution_count": 41,
     "metadata": {},
     "output_type": "execute_result"
    }
   ],
   "source": [
    "data = pd.read_csv('C:/Users/bhara/Downloads/fifa19_data (1).csv')\n",
    "data.head()"
   ]
  },
  {
   "cell_type": "code",
   "execution_count": 42,
   "id": "6bdde524",
   "metadata": {},
   "outputs": [],
   "source": [
    "pd.set_option(\"display.max_rows\",100)\n",
    "pd.set_option(\"display.max_columns\",100)\n",
    "pd.set_option(\"display.width\",1000)"
   ]
  },
  {
   "cell_type": "code",
   "execution_count": 21,
   "id": "33aac500",
   "metadata": {
    "id": "33aac500"
   },
   "outputs": [],
   "source": [
    "data = data['Marking']"
   ]
  },
  {
   "cell_type": "code",
   "execution_count": 22,
   "id": "7ddbea40",
   "metadata": {},
   "outputs": [
    {
     "data": {
      "text/plain": [
       "18207"
      ]
     },
     "execution_count": 22,
     "metadata": {},
     "output_type": "execute_result"
    }
   ],
   "source": [
    "len(data)"
   ]
  },
  {
   "cell_type": "code",
   "execution_count": 23,
   "id": "5583c643",
   "metadata": {
    "id": "5583c643"
   },
   "outputs": [
    {
     "data": {
      "text/plain": [
       "count    18159.000000\n",
       "mean        47.281623\n",
       "std         19.904397\n",
       "min          3.000000\n",
       "25%         30.000000\n",
       "50%         53.000000\n",
       "75%         64.000000\n",
       "max         94.000000\n",
       "Name: Marking, dtype: float64"
      ]
     },
     "execution_count": 23,
     "metadata": {},
     "output_type": "execute_result"
    }
   ],
   "source": [
    "data.describe()"
   ]
  },
  {
   "cell_type": "markdown",
   "id": "7e099ff3",
   "metadata": {
    "id": "7e099ff3"
   },
   "source": [
    "### <font color = 'green'> **3. Data Preprocessing** "
   ]
  },
  {
   "cell_type": "markdown",
   "id": "MwUfO9j03kIU",
   "metadata": {
    "id": "MwUfO9j03kIU"
   },
   "source": [
    "\n",
    "<font size=3> 3.1 Drop unnecessary columns such as Unnamed: 0,ID,Photo,Club Logo,Jersey Number,Flag\n",
    "    \n",
    "<font size=3> Try to automate it without providing hardcoded feature names"
   ]
  },
  {
   "cell_type": "code",
   "execution_count": 24,
   "id": "380e4a40",
   "metadata": {
    "id": "380e4a40"
   },
   "outputs": [
    {
     "data": {
      "text/plain": [
       "0        33.0\n",
       "1        28.0\n",
       "2        27.0\n",
       "3        15.0\n",
       "4        68.0\n",
       "         ... \n",
       "18202    40.0\n",
       "18203    22.0\n",
       "18204    32.0\n",
       "18205    20.0\n",
       "18206    40.0\n",
       "Name: Marking, Length: 18159, dtype: float64"
      ]
     },
     "execution_count": 24,
     "metadata": {},
     "output_type": "execute_result"
    }
   ],
   "source": [
    "data = data.dropna()\n",
    "data"
   ]
  },
  {
   "cell_type": "code",
   "execution_count": 28,
   "id": "5fbab4db",
   "metadata": {
    "id": "5fbab4db"
   },
   "outputs": [
    {
     "ename": "AttributeError",
     "evalue": "'function' object has no attribute 'sum'",
     "output_type": "error",
     "traceback": [
      "\u001b[1;31m---------------------------------------------------------------------------\u001b[0m",
      "\u001b[1;31mAttributeError\u001b[0m                            Traceback (most recent call last)",
      "Cell \u001b[1;32mIn[28], line 1\u001b[0m\n\u001b[1;32m----> 1\u001b[0m data\u001b[38;5;241m.\u001b[39misnull\u001b[38;5;241m.\u001b[39msum()\n\u001b[0;32m      2\u001b[0m data\n",
      "\u001b[1;31mAttributeError\u001b[0m: 'function' object has no attribute 'sum'"
     ]
    }
   ],
   "source": [
    "data.isnull.sum()\n",
    "data"
   ]
  },
  {
   "cell_type": "markdown",
   "id": "64b625e9",
   "metadata": {
    "id": "64b625e9"
   },
   "source": [
    "<font size=3> 3.2 Drop duplicate values if present"
   ]
  },
  {
   "cell_type": "code",
   "execution_count": 30,
   "id": "fe02414c",
   "metadata": {
    "id": "fe02414c"
   },
   "outputs": [
    {
     "data": {
      "text/html": [
       "<div>\n",
       "<style scoped>\n",
       "    .dataframe tbody tr th:only-of-type {\n",
       "        vertical-align: middle;\n",
       "    }\n",
       "\n",
       "    .dataframe tbody tr th {\n",
       "        vertical-align: top;\n",
       "    }\n",
       "\n",
       "    .dataframe thead th {\n",
       "        text-align: right;\n",
       "    }\n",
       "</style>\n",
       "<table border=\"1\" class=\"dataframe\">\n",
       "  <thead>\n",
       "    <tr style=\"text-align: right;\">\n",
       "      <th></th>\n",
       "      <th>Marking</th>\n",
       "    </tr>\n",
       "  </thead>\n",
       "  <tbody>\n",
       "    <tr>\n",
       "      <th>0</th>\n",
       "      <td>33.0</td>\n",
       "    </tr>\n",
       "    <tr>\n",
       "      <th>1</th>\n",
       "      <td>28.0</td>\n",
       "    </tr>\n",
       "    <tr>\n",
       "      <th>2</th>\n",
       "      <td>27.0</td>\n",
       "    </tr>\n",
       "    <tr>\n",
       "      <th>3</th>\n",
       "      <td>15.0</td>\n",
       "    </tr>\n",
       "    <tr>\n",
       "      <th>4</th>\n",
       "      <td>68.0</td>\n",
       "    </tr>\n",
       "    <tr>\n",
       "      <th>...</th>\n",
       "      <td>...</td>\n",
       "    </tr>\n",
       "    <tr>\n",
       "      <th>2589</th>\n",
       "      <td>8.0</td>\n",
       "    </tr>\n",
       "    <tr>\n",
       "      <th>7930</th>\n",
       "      <td>4.0</td>\n",
       "    </tr>\n",
       "    <tr>\n",
       "      <th>11083</th>\n",
       "      <td>3.0</td>\n",
       "    </tr>\n",
       "    <tr>\n",
       "      <th>11819</th>\n",
       "      <td>5.0</td>\n",
       "    </tr>\n",
       "    <tr>\n",
       "      <th>13039</th>\n",
       "      <td>6.0</td>\n",
       "    </tr>\n",
       "  </tbody>\n",
       "</table>\n",
       "<p>92 rows × 1 columns</p>\n",
       "</div>"
      ],
      "text/plain": [
       "       Marking\n",
       "0         33.0\n",
       "1         28.0\n",
       "2         27.0\n",
       "3         15.0\n",
       "4         68.0\n",
       "...        ...\n",
       "2589       8.0\n",
       "7930       4.0\n",
       "11083      3.0\n",
       "11819      5.0\n",
       "13039      6.0\n",
       "\n",
       "[92 rows x 1 columns]"
      ]
     },
     "metadata": {},
     "output_type": "display_data"
    }
   ],
   "source": [
    "df = pd.DataFrame(data) \n",
    "display(df.drop_duplicates())"
   ]
  },
  {
   "cell_type": "code",
   "execution_count": null,
   "id": "0db03aec",
   "metadata": {
    "id": "0db03aec"
   },
   "outputs": [],
   "source": []
  },
  {
   "cell_type": "markdown",
   "id": "f5c3cd78",
   "metadata": {
    "id": "f5c3cd78"
   },
   "source": [
    "<font size=3> 3.3 Check for missing data and impute them using an appropriate method"
   ]
  },
  {
   "cell_type": "markdown",
   "id": "015cf50a",
   "metadata": {
    "id": "015cf50a"
   },
   "source": [
    "**Missing value treatment**"
   ]
  },
  {
   "cell_type": "markdown",
   "id": "62517474",
   "metadata": {
    "id": "62517474"
   },
   "source": [
    "- Missing values can be dropped or replaced with mean, median, mode or constant value depending upon the amount of missing data present. \n",
    "- SimpleImputer or KNNImputer are few classes in python which can be used to treat them. \n",
    "- If missing values are more than ~40% we can drop them."
   ]
  },
  {
   "cell_type": "code",
   "execution_count": 34,
   "id": "3fa10138",
   "metadata": {
    "id": "3fa10138"
   },
   "outputs": [
    {
     "data": {
      "text/plain": [
       "0        False\n",
       "1        False\n",
       "2        False\n",
       "3        False\n",
       "4        False\n",
       "         ...  \n",
       "18202    False\n",
       "18203    False\n",
       "18204    False\n",
       "18205    False\n",
       "18206    False\n",
       "Name: Marking, Length: 18159, dtype: bool"
      ]
     },
     "execution_count": 34,
     "metadata": {},
     "output_type": "execute_result"
    }
   ],
   "source": [
    "data.isnull()"
   ]
  },
  {
   "cell_type": "code",
   "execution_count": 35,
   "id": "299c4d92",
   "metadata": {
    "id": "299c4d92"
   },
   "outputs": [
    {
     "ename": "AttributeError",
     "evalue": "'function' object has no attribute 'sum'",
     "output_type": "error",
     "traceback": [
      "\u001b[1;31m---------------------------------------------------------------------------\u001b[0m",
      "\u001b[1;31mAttributeError\u001b[0m                            Traceback (most recent call last)",
      "Cell \u001b[1;32mIn[35], line 1\u001b[0m\n\u001b[1;32m----> 1\u001b[0m data\u001b[38;5;241m.\u001b[39misnull\u001b[38;5;241m.\u001b[39msum()\n",
      "\u001b[1;31mAttributeError\u001b[0m: 'function' object has no attribute 'sum'"
     ]
    }
   ],
   "source": [
    "data.isnull.sum()"
   ]
  },
  {
   "cell_type": "markdown",
   "id": "71613708",
   "metadata": {
    "id": "71613708"
   },
   "source": [
    "<font size=3> 3.4 There are certain columns having expressions in it (example:- 'LS', 'ST', 'RS', 'LW', etc.). Convert these string expression values to integers.\n",
    "    \n",
    "<font size=3> Write a function to automate it"
   ]
  },
  {
   "cell_type": "code",
   "execution_count": null,
   "id": "8fc6b9b8",
   "metadata": {
    "id": "8fc6b9b8"
   },
   "outputs": [],
   "source": []
  },
  {
   "cell_type": "code",
   "execution_count": null,
   "id": "916d2232",
   "metadata": {
    "id": "916d2232"
   },
   "outputs": [],
   "source": []
  },
  {
   "cell_type": "markdown",
   "id": "e05bc9e2",
   "metadata": {
    "id": "e05bc9e2"
   },
   "source": [
    "<font size=3> 3.5 From data we can see that Height and Weight are written with their units. Convert them into meaningful values."
   ]
  },
  {
   "cell_type": "code",
   "execution_count": null,
   "id": "fc007a92",
   "metadata": {
    "id": "fc007a92"
   },
   "outputs": [],
   "source": []
  },
  {
   "cell_type": "code",
   "execution_count": null,
   "id": "f6cf478f",
   "metadata": {
    "id": "f6cf478f"
   },
   "outputs": [],
   "source": []
  },
  {
   "cell_type": "code",
   "execution_count": null,
   "id": "a2c31879",
   "metadata": {
    "id": "a2c31879"
   },
   "outputs": [],
   "source": []
  },
  {
   "cell_type": "code",
   "execution_count": null,
   "id": "ebc3feb6",
   "metadata": {
    "id": "ebc3feb6"
   },
   "outputs": [],
   "source": []
  },
  {
   "cell_type": "markdown",
   "id": "f43b358a",
   "metadata": {
    "id": "f43b358a"
   },
   "source": [
    "<font size=3> 3.6 Analyse the following features and replace garbage values with meaningful data.\n",
    " - 'Body Type'\n",
    " - Preferred Foot'\n",
    " - 'Work Rate'\n",
    " - 'Real Face'\n",
    " - 'Position'"
   ]
  },
  {
   "cell_type": "code",
   "execution_count": null,
   "id": "97cd34f6",
   "metadata": {
    "id": "97cd34f6"
   },
   "outputs": [],
   "source": []
  },
  {
   "cell_type": "code",
   "execution_count": null,
   "id": "aa989c39",
   "metadata": {
    "id": "aa989c39"
   },
   "outputs": [],
   "source": []
  },
  {
   "cell_type": "markdown",
   "id": "jMkGJvr2aLVh",
   "metadata": {
    "id": "jMkGJvr2aLVh"
   },
   "source": [
    "<font size=3>  3.7 Analyse the 'Wage' & 'Value' columns and remove the special characters and make it numerical"
   ]
  },
  {
   "cell_type": "code",
   "execution_count": null,
   "id": "740babec",
   "metadata": {
    "id": "740babec"
   },
   "outputs": [],
   "source": []
  },
  {
   "cell_type": "code",
   "execution_count": null,
   "id": "b2f79f34",
   "metadata": {
    "id": "b2f79f34"
   },
   "outputs": [],
   "source": []
  },
  {
   "cell_type": "markdown",
   "id": "f250da73",
   "metadata": {
    "id": "f250da73"
   },
   "source": [
    "<font size=3>  3.8 Perform label encoding on each object dtype column through a function"
   ]
  },
  {
   "cell_type": "code",
   "execution_count": null,
   "id": "a88b4764",
   "metadata": {
    "id": "a88b4764"
   },
   "outputs": [],
   "source": []
  },
  {
   "cell_type": "code",
   "execution_count": null,
   "id": "35ea809c",
   "metadata": {
    "id": "35ea809c"
   },
   "outputs": [],
   "source": []
  },
  {
   "cell_type": "markdown",
   "id": "6900d950",
   "metadata": {
    "id": "6900d950"
   },
   "source": [
    "<font size=3>  3.9 Check the outliers and handle them appropriately"
   ]
  },
  {
   "cell_type": "code",
   "execution_count": null,
   "id": "d0efe64f",
   "metadata": {
    "id": "d0efe64f"
   },
   "outputs": [],
   "source": []
  },
  {
   "cell_type": "code",
   "execution_count": null,
   "id": "60f6067e",
   "metadata": {
    "id": "60f6067e"
   },
   "outputs": [],
   "source": []
  },
  {
   "cell_type": "code",
   "execution_count": null,
   "id": "e9d3dc11",
   "metadata": {
    "id": "e9d3dc11"
   },
   "outputs": [],
   "source": []
  },
  {
   "cell_type": "code",
   "execution_count": null,
   "id": "0bb2735a",
   "metadata": {
    "id": "0bb2735a"
   },
   "outputs": [],
   "source": []
  },
  {
   "cell_type": "markdown",
   "id": "3b4f659d",
   "metadata": {
    "id": "3b4f659d"
   },
   "source": [
    "-------------------"
   ]
  },
  {
   "cell_type": "markdown",
   "id": "wT1RMuPlut1M",
   "metadata": {
    "id": "wT1RMuPlut1M"
   },
   "source": [
    "# Additional Content"
   ]
  },
  {
   "cell_type": "markdown",
   "id": "856c1528",
   "metadata": {
    "id": "856c1528"
   },
   "source": [
    "### <font color = 'green'> **4. Data Analysis**"
   ]
  },
  {
   "cell_type": "markdown",
   "id": "81d0e2d4",
   "metadata": {
    "id": "81d0e2d4"
   },
   "source": [
    "### <font color = 'green'> **Univariate Anaysis**"
   ]
  },
  {
   "cell_type": "markdown",
   "id": "55b14a49",
   "metadata": {
    "id": "55b14a49"
   },
   "source": [
    "<font size=3>   4.1 Check the total number of clubs present in the data"
   ]
  },
  {
   "cell_type": "code",
   "execution_count": 33,
   "id": "ff38936e",
   "metadata": {
    "id": "ff38936e"
   },
   "outputs": [
    {
     "data": {
      "image/png": "[encoded data removed]",
      "text/plain": [
       "<Figure size 640x480 with 1 Axes>"
      ]
     },
     "metadata": {},
     "output_type": "display_data"
    }
   ],
   "source": [
    "plt.hist(data, bins=30)\n",
    "plt.show()"
   ]
  },
  {
   "cell_type": "markdown",
   "id": "PIpfh65Rbrvd",
   "metadata": {
    "id": "PIpfh65Rbrvd"
   },
   "source": [
    "<font size=3>   4.2 Check distribution of Age"
   ]
  },
  {
   "cell_type": "code",
   "execution_count": null,
   "id": "d8f278da",
   "metadata": {
    "id": "d8f278da"
   },
   "outputs": [],
   "source": []
  },
  {
   "cell_type": "markdown",
   "id": "euW9U_z1bx4i",
   "metadata": {
    "id": "euW9U_z1bx4i"
   },
   "source": [
    "<font size=3>   4.3 Check the distribution of Club"
   ]
  },
  {
   "cell_type": "code",
   "execution_count": null,
   "id": "469ecf72",
   "metadata": {
    "id": "469ecf72"
   },
   "outputs": [],
   "source": []
  },
  {
   "cell_type": "markdown",
   "id": "af418cc8",
   "metadata": {
    "id": "af418cc8"
   },
   "source": [
    "<font size=3>   4.4 Check wages for each club\n"
   ]
  },
  {
   "cell_type": "code",
   "execution_count": null,
   "id": "22ad3649",
   "metadata": {
    "id": "22ad3649"
   },
   "outputs": [],
   "source": []
  },
  {
   "cell_type": "markdown",
   "id": "5_Coz9UPxoOH",
   "metadata": {
    "id": "5_Coz9UPxoOH"
   },
   "source": [
    "<font size=3>  4.5 Find mean overall value for each club"
   ]
  },
  {
   "cell_type": "code",
   "execution_count": null,
   "id": "622d33e0",
   "metadata": {
    "id": "622d33e0"
   },
   "outputs": [],
   "source": []
  },
  {
   "cell_type": "markdown",
   "id": "ijmmqewDxblx",
   "metadata": {
    "id": "ijmmqewDxblx"
   },
   "source": [
    "<font size=3>   4.6 What is the economy for each group of club? (Hint : economy is overall divided by wages)"
   ]
  },
  {
   "cell_type": "code",
   "execution_count": null,
   "id": "cef22bb6",
   "metadata": {
    "id": "cef22bb6"
   },
   "outputs": [],
   "source": []
  },
  {
   "cell_type": "markdown",
   "id": "cb6b9da8",
   "metadata": {
    "id": "cb6b9da8"
   },
   "source": [
    "<font size=3>   4.7  Find Top 10 Economical Clubs"
   ]
  },
  {
   "cell_type": "code",
   "execution_count": null,
   "id": "09c586ce",
   "metadata": {
    "id": "09c586ce"
   },
   "outputs": [],
   "source": []
  },
  {
   "cell_type": "markdown",
   "id": "64a7fdd1",
   "metadata": {
    "id": "64a7fdd1"
   },
   "source": [
    "### <font color = 'green'> **Bivariate Analysis**"
   ]
  },
  {
   "cell_type": "markdown",
   "id": "0f9adf97",
   "metadata": {
    "id": "0f9adf97"
   },
   "source": [
    "<font size=3>   4.8 Check the Economy of each club using Barplot of seaborn library"
   ]
  },
  {
   "cell_type": "code",
   "execution_count": null,
   "id": "2e79019b",
   "metadata": {
    "id": "2e79019b"
   },
   "outputs": [],
   "source": []
  },
  {
   "cell_type": "markdown",
   "id": "ed733816",
   "metadata": {
    "id": "ed733816"
   },
   "source": [
    "<font size=3>  4.9 What is the relationship between age and individual potential of the player? Create a new DF having these two features"
   ]
  },
  {
   "cell_type": "code",
   "execution_count": null,
   "id": "948f4c06",
   "metadata": {
    "id": "948f4c06"
   },
   "outputs": [],
   "source": []
  },
  {
   "cell_type": "markdown",
   "id": "07342e25",
   "metadata": {
    "id": "07342e25"
   },
   "source": [
    "### <font color = 'green'> **Standardization**"
   ]
  },
  {
   "cell_type": "markdown",
   "id": "fc03d690",
   "metadata": {
    "id": "fc03d690"
   },
   "source": [
    "<font size=3>   4.10 Normalize the above two columns using Sklearn library's StandardScaler class which uses z-score for standardization"
   ]
  },
  {
   "cell_type": "code",
   "execution_count": null,
   "id": "ca05ffad",
   "metadata": {
    "id": "ca05ffad"
   },
   "outputs": [],
   "source": []
  },
  {
   "cell_type": "code",
   "execution_count": null,
   "id": "d88e8265",
   "metadata": {
    "id": "d88e8265"
   },
   "outputs": [],
   "source": []
  },
  {
   "cell_type": "markdown",
   "id": "xtrn2CoP0cOC",
   "metadata": {
    "id": "xtrn2CoP0cOC"
   },
   "source": [
    "<font size=3>  4.11 Add 'Value' feature to the above created DF performanceDataDf and perform analysis between three columns"
   ]
  },
  {
   "cell_type": "code",
   "execution_count": null,
   "id": "0e2f1cc0",
   "metadata": {
    "id": "0e2f1cc0"
   },
   "outputs": [],
   "source": []
  },
  {
   "cell_type": "code",
   "execution_count": null,
   "id": "8a061512",
   "metadata": {
    "id": "8a061512"
   },
   "outputs": [],
   "source": []
  },
  {
   "cell_type": "markdown",
   "id": "277cdc0a",
   "metadata": {
    "id": "277cdc0a"
   },
   "source": [
    "<font size=3>   4.12 Which skill sets are helpful in deciding a player's potential? Select as per your understanding"
   ]
  },
  {
   "cell_type": "code",
   "execution_count": null,
   "id": "5b865df0",
   "metadata": {
    "id": "5b865df0"
   },
   "outputs": [],
   "source": []
  },
  {
   "cell_type": "code",
   "execution_count": null,
   "id": "1fb635b5",
   "metadata": {
    "id": "1fb635b5"
   },
   "outputs": [],
   "source": []
  },
  {
   "cell_type": "markdown",
   "id": "sKd8vT151QW3",
   "metadata": {
    "id": "sKd8vT151QW3"
   },
   "source": [
    "<font size=3>   4.13 How do the traits contribute to the players' potential?"
   ]
  },
  {
   "cell_type": "code",
   "execution_count": null,
   "id": "8a7489db",
   "metadata": {
    "id": "8a7489db"
   },
   "outputs": [],
   "source": []
  },
  {
   "cell_type": "code",
   "execution_count": null,
   "id": "d9620e86",
   "metadata": {
    "id": "d9620e86"
   },
   "outputs": [],
   "source": []
  },
  {
   "cell_type": "markdown",
   "id": "716e2985",
   "metadata": {
    "id": "716e2985"
   },
   "source": [
    "<font size=3>   4.14 Which features directly contribute to the wages of the players?\n",
    "(Hint: Use Potential, Overall, Value, Special, International Reputation and Wage features only)"
   ]
  },
  {
   "cell_type": "code",
   "execution_count": null,
   "id": "ad3a493f",
   "metadata": {
    "id": "ad3a493f"
   },
   "outputs": [],
   "source": []
  },
  {
   "cell_type": "code",
   "execution_count": null,
   "id": "62102968",
   "metadata": {
    "id": "62102968"
   },
   "outputs": [],
   "source": []
  },
  {
   "cell_type": "markdown",
   "id": "98ae254e",
   "metadata": {
    "id": "98ae254e"
   },
   "source": [
    "<font size=3>  4.15 What is the age distribution in different clubs? Which club has most players young?"
   ]
  },
  {
   "cell_type": "code",
   "execution_count": null,
   "id": "427adea7",
   "metadata": {
    "id": "427adea7"
   },
   "outputs": [],
   "source": []
  },
  {
   "cell_type": "code",
   "execution_count": null,
   "id": "2624d637",
   "metadata": {
    "id": "2624d637"
   },
   "outputs": [],
   "source": []
  },
  {
   "cell_type": "markdown",
   "id": "4cb65db9",
   "metadata": {
    "id": "4cb65db9"
   },
   "source": [
    "### <font color = 'green'> **Multivariate Analysis**"
   ]
  },
  {
   "cell_type": "markdown",
   "id": "74d8addd",
   "metadata": {
    "id": "74d8addd"
   },
   "source": [
    "<font size=3>   4.16 Check correlation of all features using heatmap\n",
    "- NOTE : As there are too many features, we can not make observations through this plot"
   ]
  },
  {
   "cell_type": "code",
   "execution_count": null,
   "id": "d38a9832",
   "metadata": {
    "id": "d38a9832"
   },
   "outputs": [],
   "source": []
  },
  {
   "cell_type": "markdown",
   "id": "284c499f",
   "metadata": {
    "id": "284c499f"
   },
   "source": [
    "<font size=3>   4.17 Check few features using pairplot from seaborn"
   ]
  },
  {
   "cell_type": "code",
   "execution_count": null,
   "id": "8227c1d4",
   "metadata": {
    "id": "8227c1d4"
   },
   "outputs": [],
   "source": []
  },
  {
   "cell_type": "markdown",
   "id": "e324d21a",
   "metadata": {
    "id": "e324d21a"
   },
   "source": [
    "<font size=3>   4.18 Check weeight for different Clubs with respect to age using lmplot"
   ]
  },
  {
   "cell_type": "code",
   "execution_count": null,
   "id": "8e6b3ae3",
   "metadata": {
    "id": "8e6b3ae3"
   },
   "outputs": [],
   "source": []
  },
  {
   "cell_type": "markdown",
   "id": "2724cc0f",
   "metadata": {
    "id": "2724cc0f"
   },
   "source": [
    "-----\n",
    "### Happy Learning :)\n",
    "-----"
   ]
  }
 ],
 "metadata": {
  "colab": {
   "provenance": []
  },
  "kernelspec": {
   "display_name": "Python 3 (ipykernel)",
   "language": "python",
   "name": "python3"
  },
  "language_info": {
   "codemirror_mode": {
    "name": "ipython",
    "version": 3
   },
   "file_extension": ".py",
   "mimetype": "text/x-python",
   "name": "python",
   "nbconvert_exporter": "python",
   "pygments_lexer": "ipython3",
   "version": "3.11.5"
  }
 },
 "nbformat": 4,
 "nbformat_minor": 5
}
