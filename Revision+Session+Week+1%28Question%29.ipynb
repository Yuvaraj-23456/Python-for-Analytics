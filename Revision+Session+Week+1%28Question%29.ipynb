{
 "cells": [
  {
   "cell_type": "markdown",
   "metadata": {
    "id": "OroaKHMmwdzo"
   },
   "source": [
    "![GL logo.png](data:image/png;base64,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)\n",
    "\n",
    "Proprietary content. © Great Learning. All Rights Reserved. Unauthorized use or distribution prohibited."
   ]
  },
  {
   "cell_type": "markdown",
   "metadata": {
    "id": "fcaed390"
   },
   "source": [
    "\n",
    "# <font color='green'> **Course 2: Week 01 - Revision** </font>"
   ]
  },
  {
   "cell_type": "markdown",
   "metadata": {
    "id": "f381198c"
   },
   "source": [
    "##  Table Of Contents\n",
    "- ### <font color='blue'> Basics of programming </font>   \n",
    "- ### <font color='blue'> Operations on different data types in Python </font>"
   ]
  },
  {
   "cell_type": "markdown",
   "metadata": {
    "id": "2XOMYXuPw53k"
   },
   "source": [
    "## Basics of Programming."
   ]
  },
  {
   "cell_type": "markdown",
   "metadata": {
    "id": "2K7uYn9bxDBx"
   },
   "source": [
    "1. Why do we need a programming language?\n",
    "\n",
    "We need a programming language to avoid repetative task\n",
    "<br><br>\n",
    "2. What is a programming language and why do we need it?\n",
    "\n",
    "A programming language is nothing but a language which interprets the human understandable language into a binary format interms of machine code to understand the machine a set of instructions to perform a task\n",
    "<br><br>\n",
    "3. What are the components of a programming language?\n",
    "\n",
    "- Statements\n",
    "\n",
    "  ○ Set of instructions, what they say about the written code!\n",
    "\n",
    "- Variables\n",
    "  \n",
    "  ○ Places to hold data in memory when a program executes\n",
    "\n",
    "- Syntax\n",
    "\n",
    "  ○ What’s grammatically legal? It should be correct for a program to run\n",
    "\n",
    "- Semantics\n",
    "\n",
    "  ○ The meaning of the statements. What do they compute? It should be\n",
    "correct to make a program work as expected\n",
    "<br><br>\n",
    "\n",
    "4. Difference between syntax errors and semantic errors with an example for each of them.\n",
    "\n",
    "\n",
    "Syntax errors are errors which occur due to improper structure of the program. Debugging these errors are relatively easier in python.\n",
    "\n",
    "Semantic errors are errors where the logic of the program is incorrect. Semantic errors do not interrupt the execution of the code but the output of this code is not as expected, this turns out to be a semantic error."
   ]
  },
  {
   "cell_type": "code",
   "execution_count": 1,
   "metadata": {
    "colab": {
     "base_uri": "https://localhost:8080/"
    },
    "executionInfo": {
     "elapsed": 27,
     "status": "ok",
     "timestamp": 1677554826834,
     "user": {
      "displayName": "V. Arun Kumar",
      "userId": "02991517788843717529"
     },
     "user_tz": -330
    },
    "id": "c1aPDrDprINl",
    "outputId": "85ecaf7f-45b7-487f-d293-4cfd8e6f0f2a"
   },
   "outputs": [
    {
     "name": "stdout",
     "output_type": "stream",
     "text": [
      "1\n",
      "2\n",
      "3\n",
      "4\n",
      "5\n",
      "6\n",
      "7\n",
      "8\n",
      "9\n"
     ]
    }
   ],
   "source": [
    "## Eg for syntax error\n",
    "\n",
    "for i in range(1,10):\n",
    "  print(i)"
   ]
  },
  {
   "cell_type": "code",
   "execution_count": 1,
   "metadata": {
    "executionInfo": {
     "elapsed": 23,
     "status": "ok",
     "timestamp": 1677554826834,
     "user": {
      "displayName": "V. Arun Kumar",
      "userId": "02991517788843717529"
     },
     "user_tz": -330
    },
    "id": "w28xO25-fdwn"
   },
   "outputs": [],
   "source": []
  },
  {
   "cell_type": "code",
   "execution_count": 2,
   "metadata": {
    "colab": {
     "base_uri": "https://localhost:8080/"
    },
    "executionInfo": {
     "elapsed": 23,
     "status": "ok",
     "timestamp": 1677554826834,
     "user": {
      "displayName": "V. Arun Kumar",
      "userId": "02991517788843717529"
     },
     "user_tz": -330
    },
    "id": "wor9KOit4nPc",
    "outputId": "c5784b5f-cc2f-4ea9-ef7e-d928c56f8497"
   },
   "outputs": [
    {
     "name": "stdout",
     "output_type": "stream",
     "text": [
      "The total sale's is:  87500\n"
     ]
    }
   ],
   "source": [
    "## Eg. for semantic error to print the total sales of two branches\n",
    "\n",
    "b1_sales = 250\n",
    "b2_sales = 350\n",
    "\n",
    "total_sales=b1_sales*b2_sales\n",
    "## why we use double quotes over single quotes in print statements\n",
    "print(\"The total sale's is: \", total_sales)"
   ]
  },
  {
   "cell_type": "markdown",
   "metadata": {
    "id": "wM5RJQld3RTk"
   },
   "source": [
    "### 5.  What is a data variable?\n",
    "\n",
    "Data variable is the name given for a said memory location."
   ]
  },
  {
   "cell_type": "code",
   "execution_count": 3,
   "metadata": {
    "colab": {
     "base_uri": "https://localhost:8080/"
    },
    "executionInfo": {
     "elapsed": 22,
     "status": "ok",
     "timestamp": 1677554826835,
     "user": {
      "displayName": "V. Arun Kumar",
      "userId": "02991517788843717529"
     },
     "user_tz": -330
    },
    "id": "QG9ycG-T3Qqa",
    "outputId": "fb8c8ad6-5e4a-4e07-cee3-8a2d31a3cbb8"
   },
   "outputs": [
    {
     "data": {
      "text/plain": [
       "9793216"
      ]
     },
     "execution_count": 3,
     "metadata": {},
     "output_type": "execute_result"
    }
   ],
   "source": [
    "a=5\n",
    "id(a)"
   ]
  },
  {
   "cell_type": "markdown",
   "metadata": {
    "id": "hKPjh2l35aqf"
   },
   "source": [
    "### 6. What is a data type? What are the different data types?\n",
    "\n",
    "A data type specifies the type of value that a variable holds and the different mathematical operations that can be applied on these data types without causing an error.\n",
    "\n",
    "The different datatypes available are:\n",
    "\n",
    "1. Integer - Used to represent only whole numbers.\n",
    "2. Float - Used to represent fractional numbers\n",
    "3. Complex - Complex numbers are numbers that are stored in the format x+iy where x is the real numbers and iy is the imaginary number.\n",
    "3. String - These are sequence of characters.\n",
    "4. Boolean - Boolean data type has two data types associated. Either True or False.\n"
   ]
  },
  {
   "cell_type": "code",
   "execution_count": 4,
   "metadata": {
    "colab": {
     "base_uri": "https://localhost:8080/"
    },
    "executionInfo": {
     "elapsed": 22,
     "status": "ok",
     "timestamp": 1677554826835,
     "user": {
      "displayName": "V. Arun Kumar",
      "userId": "02991517788843717529"
     },
     "user_tz": -330
    },
    "id": "-jx0OcW_YbX_",
    "outputId": "950ebeda-e9a7-4b1d-e9be-40f19a65a763"
   },
   "outputs": [
    {
     "data": {
      "text/plain": [
       "int"
      ]
     },
     "execution_count": 4,
     "metadata": {},
     "output_type": "execute_result"
    }
   ],
   "source": [
    "## Example of integer data type\n",
    "a=7\n",
    "type(a)"
   ]
  },
  {
   "cell_type": "code",
   "execution_count": 5,
   "metadata": {
    "colab": {
     "base_uri": "https://localhost:8080/"
    },
    "executionInfo": {
     "elapsed": 21,
     "status": "ok",
     "timestamp": 1677554826835,
     "user": {
      "displayName": "V. Arun Kumar",
      "userId": "02991517788843717529"
     },
     "user_tz": -330
    },
    "id": "E9nPxPkUYbSz",
    "outputId": "f153da58-b768-42e0-8269-85e88f8b615f"
   },
   "outputs": [
    {
     "name": "stdout",
     "output_type": "stream",
     "text": [
      "4.714285714285714\n",
      "<class 'int'>\n",
      "<class 'int'>\n",
      "<class 'float'>\n"
     ]
    }
   ],
   "source": [
    "## Example of float data type\n",
    "a=33\n",
    "b=7\n",
    "c=a/b\n",
    "print(c)\n",
    "print(type(a))\n",
    "print(type(b))\n",
    "print(type(c))"
   ]
  },
  {
   "cell_type": "code",
   "execution_count": 6,
   "metadata": {
    "colab": {
     "base_uri": "https://localhost:8080/"
    },
    "executionInfo": {
     "elapsed": 21,
     "status": "ok",
     "timestamp": 1677554826836,
     "user": {
      "displayName": "V. Arun Kumar",
      "userId": "02991517788843717529"
     },
     "user_tz": -330
    },
    "id": "LLSUkLxiYbVa",
    "outputId": "b7e1e093-bcb9-4a83-ad67-ac771d1f9202"
   },
   "outputs": [
    {
     "name": "stdout",
     "output_type": "stream",
     "text": [
      "4\n",
      "<class 'int'>\n",
      "<class 'int'>\n",
      "<class 'int'>\n"
     ]
    }
   ],
   "source": [
    "## Example of floor division\n",
    "a=33\n",
    "b=7\n",
    "c=a//b\n",
    "print(c)\n",
    "print(type(a))\n",
    "print(type(b))\n",
    "print(type(c))"
   ]
  },
  {
   "cell_type": "code",
   "execution_count": 7,
   "metadata": {
    "colab": {
     "base_uri": "https://localhost:8080/"
    },
    "executionInfo": {
     "elapsed": 20,
     "status": "ok",
     "timestamp": 1677554826836,
     "user": {
      "displayName": "V. Arun Kumar",
      "userId": "02991517788843717529"
     },
     "user_tz": -330
    },
    "id": "WwS0s8t2YbQO",
    "outputId": "21bf517a-7c51-4b5b-93ac-709d7594aefd"
   },
   "outputs": [
    {
     "name": "stdout",
     "output_type": "stream",
     "text": [
      "(5+7j)\n"
     ]
    }
   ],
   "source": [
    "## Example of complex number\n",
    "\n",
    "a=5\n",
    "b=7\n",
    "c=complex(a,b)\n",
    "print(c)"
   ]
  },
  {
   "cell_type": "code",
   "execution_count": 8,
   "metadata": {
    "colab": {
     "base_uri": "https://localhost:8080/"
    },
    "executionInfo": {
     "elapsed": 20,
     "status": "ok",
     "timestamp": 1677554826836,
     "user": {
      "displayName": "V. Arun Kumar",
      "userId": "02991517788843717529"
     },
     "user_tz": -330
    },
    "id": "Npb1L2fzgij_",
    "outputId": "e88d1db2-bc67-4f53-9b65-befa0723fbf7"
   },
   "outputs": [
    {
     "name": "stdout",
     "output_type": "stream",
     "text": [
      "5.0\n",
      "7.0\n"
     ]
    }
   ],
   "source": [
    "## Extract the real and imaginary part of the complex number\n",
    "\n",
    "print(c.real)\n",
    "print(c.imag)"
   ]
  },
  {
   "cell_type": "code",
   "execution_count": 9,
   "metadata": {
    "colab": {
     "base_uri": "https://localhost:8080/"
    },
    "executionInfo": {
     "elapsed": 19,
     "status": "ok",
     "timestamp": 1677554826836,
     "user": {
      "displayName": "V. Arun Kumar",
      "userId": "02991517788843717529"
     },
     "user_tz": -330
    },
    "id": "Dc47xqGJjWtg",
    "outputId": "4980cfb3-518d-4a7a-ab44-04cfda048353"
   },
   "outputs": [
    {
     "data": {
      "text/plain": [
       "str"
      ]
     },
     "execution_count": 9,
     "metadata": {},
     "output_type": "execute_result"
    }
   ],
   "source": [
    "## String\n",
    "\n",
    "x = \"Happy New Year 2023\"\n",
    "type(x)\n"
   ]
  },
  {
   "cell_type": "code",
   "execution_count": 10,
   "metadata": {
    "colab": {
     "base_uri": "https://localhost:8080/"
    },
    "executionInfo": {
     "elapsed": 20,
     "status": "ok",
     "timestamp": 1677554826837,
     "user": {
      "displayName": "V. Arun Kumar",
      "userId": "02991517788843717529"
     },
     "user_tz": -330
    },
    "id": "Yf87fdE47sVP",
    "outputId": "5ce470a2-6133-4378-ca20-2c87c1370ebd"
   },
   "outputs": [
    {
     "name": "stdout",
     "output_type": "stream",
     "text": [
      "True\n",
      "1\n"
     ]
    },
    {
     "data": {
      "text/plain": [
       "bool"
      ]
     },
     "execution_count": 10,
     "metadata": {},
     "output_type": "execute_result"
    }
   ],
   "source": [
    "## Boolean\n",
    "x = 5\n",
    "y=x>1\n",
    "print(y)\n",
    "print(int(y))\n",
    "type(y)"
   ]
  },
  {
   "cell_type": "code",
   "execution_count": 11,
   "metadata": {
    "colab": {
     "base_uri": "https://localhost:8080/"
    },
    "executionInfo": {
     "elapsed": 19,
     "status": "ok",
     "timestamp": 1677554826837,
     "user": {
      "displayName": "V. Arun Kumar",
      "userId": "02991517788843717529"
     },
     "user_tz": -330
    },
    "id": "9Mi6rWFgFWEf",
    "outputId": "17f43860-6a30-4787-b499-f2b049c093ea"
   },
   "outputs": [
    {
     "name": "stdout",
     "output_type": "stream",
     "text": [
      "Hi How are you\n"
     ]
    },
    {
     "data": {
      "text/plain": [
       "str"
      ]
     },
     "execution_count": 11,
     "metadata": {},
     "output_type": "execute_result"
    }
   ],
   "source": [
    "## String Data Type\n",
    "\n",
    "A= \"Hi How are you\"\n",
    "print(A)\n",
    "type(A)"
   ]
  },
  {
   "cell_type": "code",
   "execution_count": 12,
   "metadata": {
    "colab": {
     "base_uri": "https://localhost:8080/"
    },
    "executionInfo": {
     "elapsed": 19,
     "status": "ok",
     "timestamp": 1677554826837,
     "user": {
      "displayName": "V. Arun Kumar",
      "userId": "02991517788843717529"
     },
     "user_tz": -330
    },
    "id": "oi591D74mcIu",
    "outputId": "37f9aaef-976f-45b2-cb3e-bbd930d6b025"
   },
   "outputs": [
    {
     "name": "stdout",
     "output_type": "stream",
     "text": [
      "The length of the given string is:  14\n"
     ]
    }
   ],
   "source": [
    "## find the length of the string\n",
    "\n",
    "print(\"The length of the given string is: \",len(A))"
   ]
  },
  {
   "cell_type": "code",
   "execution_count": 13,
   "metadata": {
    "colab": {
     "base_uri": "https://localhost:8080/"
    },
    "executionInfo": {
     "elapsed": 18,
     "status": "ok",
     "timestamp": 1677554826837,
     "user": {
      "displayName": "V. Arun Kumar",
      "userId": "02991517788843717529"
     },
     "user_tz": -330
    },
    "id": "K9_UEpBBm6Ea",
    "outputId": "38d3b31d-9a2b-4c3d-85b4-ace754b6794a"
   },
   "outputs": [
    {
     "name": "stdout",
     "output_type": "stream",
     "text": [
      "False\n",
      "False\n"
     ]
    }
   ],
   "source": [
    "## to check whether the string has all upper or all lower case\n",
    "\n",
    "print(A.islower())\n",
    "print(A.isupper())"
   ]
  },
  {
   "cell_type": "code",
   "execution_count": 14,
   "metadata": {
    "colab": {
     "base_uri": "https://localhost:8080/"
    },
    "executionInfo": {
     "elapsed": 19,
     "status": "ok",
     "timestamp": 1677554826838,
     "user": {
      "displayName": "V. Arun Kumar",
      "userId": "02991517788843717529"
     },
     "user_tz": -330
    },
    "id": "suuFswNCnOsB",
    "outputId": "9477e3f7-96e0-4b02-be31-c8cd42a552fd"
   },
   "outputs": [
    {
     "name": "stdout",
     "output_type": "stream",
     "text": [
      "The string after converting to lower case is:  hi how are you\n",
      "The string after converting to upper case is:  HI HOW ARE YOU\n"
     ]
    }
   ],
   "source": [
    "# lower case and upper case conversion\n",
    "print(\"The string after converting to lower case is: \", A.lower())\n",
    "print(\"The string after converting to upper case is: \", A.upper())"
   ]
  },
  {
   "cell_type": "code",
   "execution_count": 15,
   "metadata": {
    "executionInfo": {
     "elapsed": 18,
     "status": "ok",
     "timestamp": 1677554826838,
     "user": {
      "displayName": "V. Arun Kumar",
      "userId": "02991517788843717529"
     },
     "user_tz": -330
    },
    "id": "kcchyjSqntWg"
   },
   "outputs": [],
   "source": [
    "## Data Type Conversion"
   ]
  },
  {
   "cell_type": "code",
   "execution_count": 16,
   "metadata": {
    "colab": {
     "base_uri": "https://localhost:8080/"
    },
    "executionInfo": {
     "elapsed": 18,
     "status": "ok",
     "timestamp": 1677554826838,
     "user": {
      "displayName": "V. Arun Kumar",
      "userId": "02991517788843717529"
     },
     "user_tz": -330
    },
    "id": "N8tBlEWEn_Ph",
    "outputId": "cbfb2505-49e6-43cc-9745-18cfb350b61a"
   },
   "outputs": [
    {
     "name": "stdout",
     "output_type": "stream",
     "text": [
      "The sum is:  18\n"
     ]
    }
   ],
   "source": [
    "a = 3\n",
    "b=4\n",
    "c=5\n",
    "d=\"6\"\n",
    "e= a+b+c+int(d)\n",
    "print(\"The sum is: \", e)"
   ]
  },
  {
   "cell_type": "markdown",
   "metadata": {
    "id": "D7Xw6f-if3Np"
   },
   "source": [
    "#### <font color='green'> **Python Vocabulary** </font>\n",
    "\n",
    "1. Keywords\n",
    "\n",
    "  Keywords are the reserved words that have specific purpose in Python.\n",
    "\n",
    "  We can cannot use them as part of variable name, function name, class name etc.\n",
    "\n",
    "2. Identifiers\n",
    "\n",
    "  Identifier is a name which is used to identify the variable, class, function module etc.\n",
    "\n",
    "  It can be a combination of characters, underscore and digits.\n",
    "\n",
    "  It can only start either with an underscore or an alphabet.\n",
    "\n",
    "3. Literals\n",
    "\n",
    "  Literals represent a fixed value.\n",
    "  \n",
    "  They are used to define a value to a variable or used to represent a raw value.\n",
    "\n",
    "   Literals or Values :\n",
    "  \n",
    "  String Literals : ‘Hello’, ‘’’This is Programming Course’’’\n",
    " \n",
    "  Character Literals : ‘G’, “w”\n",
    " \n",
    "  Numeric Literals : 5, 10.3, -9\n",
    "\n",
    "  Boolean Literals : True, False\n",
    "  \n",
    "  Special Literals : None\n",
    "  \n",
    "  Literals Collection : Set, List, Tuple, Dictionary\n",
    "4. Statements\n",
    "\n",
    "  Statements are the set of instructions used to implements an application logic in\n",
    "the form of source code.\n",
    "  \n",
    "  Different types of statements are : Assignment Statements, Conditional\n",
    "Statements, Looping Statements, etc.\n",
    "\n",
    "5. Expression\n",
    "\n",
    "  Expression is a combination of operators and operands which results to produce\n",
    "some other value.\n",
    "\n",
    "  Example:\n",
    "\n",
    "  x = 10\n",
    "  y = 20\n",
    "  c = x + y (x and y are operands and + is operator)\n",
    "  d = x * y\n",
    "  print(c)\n",
    "  print(d)\n",
    "6. Indentation\n",
    "\n",
    "  Indentation refers to adding white spaces before any statement in Python.\n",
    "  \n",
    "  We use indentation in Python to represent a code block.\n",
    "  \n",
    "  It raises the readability of the source code.\n",
    "7. Comments\n",
    "\n",
    "  If we have to add a comment in a code , we use # to start a comment.\n",
    "\n",
    "  It can either be at the start for a new line or at the end of a line."
   ]
  },
  {
   "cell_type": "code",
   "execution_count": 17,
   "metadata": {
    "colab": {
     "base_uri": "https://localhost:8080/"
    },
    "executionInfo": {
     "elapsed": 16,
     "status": "ok",
     "timestamp": 1677554826838,
     "user": {
      "displayName": "V. Arun Kumar",
      "userId": "02991517788843717529"
     },
     "user_tz": -330
    },
    "id": "cAcBgkeUgKgM",
    "outputId": "5df31912-2c1d-4153-e5c7-33da1640291c"
   },
   "outputs": [
    {
     "name": "stdout",
     "output_type": "stream",
     "text": [
      "['False', 'None', 'True', 'and', 'as', 'assert', 'async', 'await', 'break', 'class', 'continue', 'def', 'del', 'elif', 'else', 'except', 'finally', 'for', 'from', 'global', 'if', 'import', 'in', 'is', 'lambda', 'nonlocal', 'not', 'or', 'pass', 'raise', 'return', 'try', 'while', 'with', 'yield']\n",
      "Number of keywords are 35\n"
     ]
    }
   ],
   "source": [
    "import keyword\n",
    "print(keyword.kwlist)\n",
    "print(\"Number of keywords are\", len(keyword.kwlist))"
   ]
  },
  {
   "cell_type": "markdown",
   "metadata": {
    "id": "53CKEu9bgVkz"
   },
   "source": [
    "['False', 'None', 'True', 'and', 'as', 'assert', 'async', 'await', 'break', 'class', 'continue', 'def', 'del', 'elif', 'else', 'except', 'finally', 'for', 'from', 'global', 'if', 'import', 'in', 'is', 'lambda', 'nonlocal', 'not', 'or', 'pass', 'raise', 'return', 'try', 'while', 'with', 'yield']"
   ]
  },
  {
   "cell_type": "markdown",
   "metadata": {
    "id": "sx602NdeumKu"
   },
   "source": [
    "#### <font color='green'> **Data Types in python:** </font>\n",
    "\n",
    "Data type classifies data.\n",
    "\n",
    "  It defines various operations that can be performed on data of a particular data\n",
    "type.\n",
    "\n",
    "  In python, there are various data types. Each one is defined as a class.\n",
    "\n",
    "  When a variable is declared, an object of a class is created.\n",
    "Example, x = 10, here ‘x’ is an object of class integer"
   ]
  },
  {
   "cell_type": "markdown",
   "metadata": {
    "id": "YqQzlDiHvC4r"
   },
   "source": [
    "Various Datatypes in Python are as follows:\n",
    "\n",
    "1. Numeric\n",
    "  \n",
    "  a. Integer - Holds whole numbers\n",
    "  b. Complex - Holds complex numbers in the format x+yj\n",
    "  c. Float - Real numbers with floating point representation\n",
    "\n",
    "2. Boolean - True or False\n",
    "\n",
    "3. Dictionary\n",
    "  a. Declared using {key: value} with a key and value pair\n",
    "  b. Key must be of immutable typ\n",
    "  c. Key must be unique in a dictionary\n",
    "  d. Value can be of any data type\n",
    "  e. Access a value using a key\n",
    "\n",
    "4. Set\n",
    "  a. Declared using {}. Unordered collection of unique items\n",
    "  b. Mutable. It can only have immutable items. Indexed access is not\n",
    "possible\n",
    "\n",
    "5. Sequence Types\n",
    "\n",
    "  a. String - Array of bytes represented in Unicode characters.\n",
    "  \n",
    "  b. List - Declared using []. Can contain nested lists as well.\n",
    "\n",
    "  c. Tuple - Declared using (). Can contain nested tuples as well."
   ]
  },
  {
   "cell_type": "markdown",
   "metadata": {
    "id": "et6o4_HW7FWW"
   },
   "source": [
    "#### <font color='green'> **Operators in Python** </font>\n",
    "\n",
    "1. Arithmetic -- +,-,*,/\n",
    "2. Comparison -- >,<,>=,<=,!=,==\n",
    "3. Logical -- and, or, not \n",
    "4. Bitwise -- &,|,^,>>,<<\n",
    "5. Assignment -- =, +=,...\n",
    "6. Identity -- is, is not\n",
    "7. Membership -- in, not in"
   ]
  },
  {
   "cell_type": "code",
   "execution_count": 18,
   "metadata": {
    "colab": {
     "base_uri": "https://localhost:8080/"
    },
    "executionInfo": {
     "elapsed": 17,
     "status": "ok",
     "timestamp": 1677554826839,
     "user": {
      "displayName": "V. Arun Kumar",
      "userId": "02991517788843717529"
     },
     "user_tz": -330
    },
    "id": "_hy8QFLA8-uz",
    "outputId": "5187a85a-8515-4fd9-ee3c-c6a29313cd00"
   },
   "outputs": [
    {
     "name": "stdout",
     "output_type": "stream",
     "text": [
      "a >> 1 = 2\n",
      "b << 1 = -10\n"
     ]
    }
   ],
   "source": [
    "a = 5\n",
    "b = -5\n",
    "c=1 \n",
    "# print bitwise right shift operator\n",
    "a>>=c\n",
    "b<<=c\n",
    "print(\"a >> 1 =\", a)\n",
    "print(\"b << 1 =\", b)"
   ]
  },
  {
   "cell_type": "markdown",
   "metadata": {
    "id": "OEx-WnTrY9GQ"
   },
   "source": [
    "#### 1. Evaluate 254 minus 1345 divided by 45 plus (462 into 23) divided by 3.\n",
    "\n",
    "\n"
   ]
  },
  {
   "cell_type": "code",
   "execution_count": 19,
   "metadata": {
    "colab": {
     "base_uri": "https://localhost:8080/"
    },
    "executionInfo": {
     "elapsed": 16,
     "status": "ok",
     "timestamp": 1677554826839,
     "user": {
      "displayName": "V. Arun Kumar",
      "userId": "02991517788843717529"
     },
     "user_tz": -330
    },
    "id": "qaIGa-6KobIH",
    "outputId": "77100fcc-3211-4719-ee80-c47928fa3571"
   },
   "outputs": [
    {
     "name": "stdout",
     "output_type": "stream",
     "text": [
      "3766.1111111111113\n"
     ]
    }
   ],
   "source": [
    "## PEMDAS\n",
    "# P - Parentheses\n",
    "# E - Exponential\n",
    "# M - Multiplication\n",
    "# D - Division\n",
    "# A - Addition\n",
    "# S - Subtraction\n",
    "\n",
    "x=254-1345/45+(462*23)/3\n",
    "print(x)"
   ]
  },
  {
   "cell_type": "code",
   "execution_count": 20,
   "metadata": {
    "colab": {
     "base_uri": "https://localhost:8080/"
    },
    "executionInfo": {
     "elapsed": 15,
     "status": "ok",
     "timestamp": 1677554826839,
     "user": {
      "displayName": "V. Arun Kumar",
      "userId": "02991517788843717529"
     },
     "user_tz": -330
    },
    "id": "40EwtfLIr1FL",
    "outputId": "4c22b984-0fb2-4120-bf4d-906a41137d2b"
   },
   "outputs": [
    {
     "data": {
      "text/plain": [
       "3766.1111111111113"
      ]
     },
     "execution_count": 20,
     "metadata": {},
     "output_type": "execute_result"
    }
   ],
   "source": [
    "a=254 # Parentheses evaluation\n",
    "b=1345/45 # multiplication\n",
    "c=(462*23)/3 # division\n",
    "d=a-b+c\n",
    "\n",
    "\n",
    "\n",
    "d"
   ]
  },
  {
   "cell_type": "markdown",
   "metadata": {
    "id": "rj8JgX8_cmxA"
   },
   "source": [
    "#### 2. Check whether the expression (54-3)/ 3 is equal to the expression (0.9*17)/0.9 "
   ]
  },
  {
   "cell_type": "code",
   "execution_count": 21,
   "metadata": {
    "colab": {
     "base_uri": "https://localhost:8080/"
    },
    "executionInfo": {
     "elapsed": 16,
     "status": "ok",
     "timestamp": 1677554826840,
     "user": {
      "displayName": "V. Arun Kumar",
      "userId": "02991517788843717529"
     },
     "user_tz": -330
    },
    "id": "IZkm98HbcKFJ",
    "outputId": "1a02e0a0-8704-411b-d913-7f1d97f1db89"
   },
   "outputs": [
    {
     "data": {
      "text/plain": [
       "True"
      ]
     },
     "execution_count": 21,
     "metadata": {},
     "output_type": "execute_result"
    }
   ],
   "source": [
    "x=(54-3)/3\n",
    "y=(0.9*17)/0.9\n",
    "x==y"
   ]
  },
  {
   "cell_type": "markdown",
   "metadata": {
    "id": "Up63LRZu3poG"
   },
   "source": [
    "#### 3. Print each value in the below list individually.\n",
    "\n",
    "fruits = [\"apple\", \"banana\", \"cherry\"]\n"
   ]
  },
  {
   "cell_type": "code",
   "execution_count": 22,
   "metadata": {
    "colab": {
     "base_uri": "https://localhost:8080/"
    },
    "executionInfo": {
     "elapsed": 15,
     "status": "ok",
     "timestamp": 1677554826840,
     "user": {
      "displayName": "V. Arun Kumar",
      "userId": "02991517788843717529"
     },
     "user_tz": -330
    },
    "id": "M4Pwh4oB3291",
    "outputId": "2819c7ec-4ebc-40b6-90e5-1849c5a9e076"
   },
   "outputs": [
    {
     "name": "stdout",
     "output_type": "stream",
     "text": [
      "apple\n",
      "banana\n",
      "cherry\n"
     ]
    }
   ],
   "source": [
    "fruits = [\"apple\", \"banana\", \"cherry\"]\n",
    "for x in fruits:\n",
    "  print(x)"
   ]
  },
  {
   "cell_type": "markdown",
   "metadata": {
    "id": "XxMXHJR74SKU"
   },
   "source": [
    "#### 4. Write a program to print the values whose length is > 5 from the below list.\n",
    "\n",
    "fruits = [\"apple\", \"banana\", \"cherry\"]"
   ]
  },
  {
   "cell_type": "code",
   "execution_count": 23,
   "metadata": {
    "colab": {
     "base_uri": "https://localhost:8080/"
    },
    "executionInfo": {
     "elapsed": 15,
     "status": "ok",
     "timestamp": 1677554826840,
     "user": {
      "displayName": "V. Arun Kumar",
      "userId": "02991517788843717529"
     },
     "user_tz": -330
    },
    "id": "UgdzeygM4R3B",
    "outputId": "aed95d48-f29e-4644-a4ee-5b4970f63624"
   },
   "outputs": [
    {
     "name": "stdout",
     "output_type": "stream",
     "text": [
      "banana\n",
      "cherry\n"
     ]
    }
   ],
   "source": [
    "fruits = [\"apple\", \"banana\", \"cherry\"]\n",
    "for x in fruits:\n",
    "  if len(x)>5:\n",
    "    print(x)"
   ]
  },
  {
   "cell_type": "code",
   "execution_count": 24,
   "metadata": {
    "colab": {
     "base_uri": "https://localhost:8080/"
    },
    "executionInfo": {
     "elapsed": 15,
     "status": "ok",
     "timestamp": 1677554826840,
     "user": {
      "displayName": "V. Arun Kumar",
      "userId": "02991517788843717529"
     },
     "user_tz": -330
    },
    "id": "bqXQFF9q8BTO",
    "outputId": "3b545b60-f4e6-46f3-ea28-7c887bf5c9a2"
   },
   "outputs": [
    {
     "name": "stdout",
     "output_type": "stream",
     "text": [
      "banana\n",
      "cherry\n"
     ]
    }
   ],
   "source": [
    "fruits = [\"apple\", \"banana\", \"cherry\"]\n",
    "for x in fruits:\n",
    "  while len(x)>5:\n",
    "    print(x)\n",
    "    break"
   ]
  },
  {
   "cell_type": "markdown",
   "metadata": {
    "id": "ASHD6G_w5Cn8"
   },
   "source": [
    "#### 5. Write a program to find the if the user input value is a positive or negative number."
   ]
  },
  {
   "cell_type": "code",
   "execution_count": 25,
   "metadata": {
    "colab": {
     "base_uri": "https://localhost:8080/"
    },
    "executionInfo": {
     "elapsed": 31597,
     "status": "ok",
     "timestamp": 1677554858423,
     "user": {
      "displayName": "V. Arun Kumar",
      "userId": "02991517788843717529"
     },
     "user_tz": -330
    },
    "id": "E9d3txoB5cBM",
    "outputId": "14da0288-8e6f-4b5a-a6a2-835e8095bec8"
   },
   "outputs": [
    {
     "name": "stdout",
     "output_type": "stream",
     "text": [
      "Enter the number7\n",
      "7  is positive number\n"
     ]
    }
   ],
   "source": [
    "x=int(input(\"Enter the number\"))\n",
    "if x>0:\n",
    "  print(x,\" is positive number\")\n",
    "else:\n",
    "  print(x, ' is a negative number')"
   ]
  },
  {
   "cell_type": "markdown",
   "metadata": {
    "id": "d11zs_hS-cH4"
   },
   "source": []
  },
  {
   "cell_type": "markdown",
   "metadata": {
    "id": "4NCpOKYjb7Qv"
   },
   "source": [
    "### 6. Write a code to find the factorial of a number using nested if-elif-else statement.\n",
    "\n",
    "\n",
    "step 1: Enter a number and store it num\n",
    "\n",
    "step 2: initialize factorial as 1\n",
    "\n",
    "step 3: if num < 0: as k the user to enter positive value\n",
    "\n",
    "step 4: elif num=0 print that factorial of 0 as 1\n",
    "\n",
    "step 5: else: \n",
    "\n",
    "            for i in range (1,num+1)\n",
    "\n",
    "                factorial =factorial*i\n",
    "\n",
    "            print the factorial"
   ]
  },
  {
   "cell_type": "code",
   "execution_count": 26,
   "metadata": {
    "colab": {
     "base_uri": "https://localhost:8080/"
    },
    "executionInfo": {
     "elapsed": 22195,
     "status": "ok",
     "timestamp": 1677554880597,
     "user": {
      "displayName": "V. Arun Kumar",
      "userId": "02991517788843717529"
     },
     "user_tz": -330
    },
    "id": "4PAjJPUVdL1t",
    "outputId": "1debe04b-f735-48e9-da02-42b8d5b4fa6b"
   },
   "outputs": [
    {
     "name": "stdout",
     "output_type": "stream",
     "text": [
      "Enter the number: 7\n",
      "The factorial of 7 is 5040\n"
     ]
    }
   ],
   "source": [
    "num=int(input('Enter the number: '))\n",
    "factorial = 1\n",
    "\n",
    "# check if the number is negative, positive or zero\n",
    "if num < 0:\n",
    "   print(\"Enter a positive value\")\n",
    "elif num == 0:\n",
    "   print(\"The factorial of 0 is 1\")\n",
    "else:\n",
    "   for i in range(1,num + 1):\n",
    "       factorial = factorial*i\n",
    "   print(\"The factorial of\",num,\"is\",factorial)"
   ]
  },
  {
   "cell_type": "markdown",
   "metadata": {
    "id": "Cg4gcwDcBu3A"
   },
   "source": [
    "## Operations on different data types in Python"
   ]
  },
  {
   "cell_type": "markdown",
   "metadata": {
    "id": "vLJ8f_YVA832"
   },
   "source": [
    "#### 7. Given the string 'Today is a sunny day.'\n",
    "\n",
    "1. Write a code to get 'Today'  and 'sunny'.\n",
    "2. Obtain the last two letters.\n",
    "3. Write the statement backwards."
   ]
  },
  {
   "cell_type": "code",
   "execution_count": 3,
   "metadata": {
    "executionInfo": {
     "elapsed": 27,
     "status": "ok",
     "timestamp": 1677554880598,
     "user": {
      "displayName": "V. Arun Kumar",
      "userId": "02991517788843717529"
     },
     "user_tz": -330
    },
    "id": "jW3l9dSMkYn9"
   },
   "outputs": [
    {
     "name": "stdout",
     "output_type": "stream",
     "text": [
      "Today\n",
      "sunny\n",
      "ay.\n",
      ".yad ynnus a si yadoT\n"
     ]
    }
   ],
   "source": [
    "s1=\"Today is a sunny day.\"\n",
    "print(s1[0:5])\n",
    "print(s1[11:16])\n",
    "print(s1[18:])\n",
    "print(s1[::-1])"
   ]
  },
  {
   "cell_type": "markdown",
   "metadata": {
    "id": "Kil3kRQwBYaR"
   },
   "source": [
    "#### 8. Write a program to perform following list operations on the list given below:\n",
    "\n",
    "*   Check the length of mix_list_1\n",
    "*   Check the membership of '24' in mix_list_1\n",
    "*   Concatenate the mix_list_1 and mix_list_2\n",
    "*   Repeat the mix_list_2 three times \n",
    "\n",
    "**Lists to perform operations:**\n",
    "\n",
    "mix_list_1 = ['Learn', 24, 'Blue', False, -8]\n",
    "\n",
    "mix_list_2 = [4, 7, 'Summer']"
   ]
  },
  {
   "cell_type": "markdown",
   "metadata": {
    "id": "O7zwtpc1ByBH"
   },
   "source": [
    "##### a. Check the length of mix_list_1"
   ]
  },
  {
   "cell_type": "code",
   "execution_count": 4,
   "metadata": {
    "executionInfo": {
     "elapsed": 26,
     "status": "ok",
     "timestamp": 1677554880598,
     "user": {
      "displayName": "V. Arun Kumar",
      "userId": "02991517788843717529"
     },
     "user_tz": -330
    },
    "id": "Tj9pANnMBOag"
   },
   "outputs": [
    {
     "name": "stdout",
     "output_type": "stream",
     "text": [
      "5\n"
     ]
    }
   ],
   "source": [
    "mix_list_1 = ['Learn', 24, 'Blue', False, -8]\n",
    "mix_list_2 = [4, 7, 'Summer']\n",
    "print(len(mix_list_1))"
   ]
  },
  {
   "cell_type": "markdown",
   "metadata": {
    "id": "38vJudaBCe08"
   },
   "source": [
    "##### b. Check the membership of '24' in mix_list_1"
   ]
  },
  {
   "cell_type": "code",
   "execution_count": 6,
   "metadata": {
    "executionInfo": {
     "elapsed": 26,
     "status": "ok",
     "timestamp": 1677554880599,
     "user": {
      "displayName": "V. Arun Kumar",
      "userId": "02991517788843717529"
     },
     "user_tz": -330
    },
    "id": "f4RpmyX7BtEh"
   },
   "outputs": [
    {
     "ename": "SyntaxError",
     "evalue": "cannot assign to literal (2431336176.py, line 4)",
     "output_type": "error",
     "traceback": [
      "\u001b[1;36m  Cell \u001b[1;32mIn[6], line 4\u001b[1;36m\u001b[0m\n\u001b[1;33m    for 24 in mix_list_1:\u001b[0m\n\u001b[1;37m        ^\u001b[0m\n\u001b[1;31mSyntaxError\u001b[0m\u001b[1;31m:\u001b[0m cannot assign to literal\n"
     ]
    }
   ],
   "source": [
    "mix_list_1 = ['Learn', 24, 'Blue', False, -8]\n",
    "\n",
    "mix_list_2 = [4, 7, 'Summer']\n"
   ]
  },
  {
   "cell_type": "code",
   "execution_count": 8,
   "metadata": {
    "executionInfo": {
     "elapsed": 26,
     "status": "ok",
     "timestamp": 1677554880599,
     "user": {
      "displayName": "V. Arun Kumar",
      "userId": "02991517788843717529"
     },
     "user_tz": -330
    },
    "id": "WcMZPdYqDArj"
   },
   "outputs": [
    {
     "data": {
      "text/plain": [
       "True"
      ]
     },
     "execution_count": 8,
     "metadata": {},
     "output_type": "execute_result"
    }
   ],
   "source": [
    " 24 in mix_list_1\n",
    "    "
   ]
  },
  {
   "cell_type": "markdown",
   "metadata": {
    "id": "4aoRAhTEDHPC"
   },
   "source": [
    "##### c. Concatenate the mix_list_1 and mix_list_2"
   ]
  },
  {
   "cell_type": "code",
   "execution_count": 11,
   "metadata": {
    "executionInfo": {
     "elapsed": 26,
     "status": "ok",
     "timestamp": 1677554880599,
     "user": {
      "displayName": "V. Arun Kumar",
      "userId": "02991517788843717529"
     },
     "user_tz": -330
    },
    "id": "wDQlfUOPDGe-"
   },
   "outputs": [
    {
     "name": "stdout",
     "output_type": "stream",
     "text": [
      "['Learn', 24, 'Blue', False, -8, 4, 7, 'Summer']\n"
     ]
    }
   ],
   "source": [
    "mix_list_1 = ['Learn', 24, 'Blue', False, -8]\n",
    "\n",
    "mix_list_2 = [4, 7, 'Summer']\n",
    "mix_list_1.extend(mix_list_2)\n",
    "print(mix_list_1)"
   ]
  },
  {
   "cell_type": "markdown",
   "metadata": {
    "id": "9Iv6jj9kDOZk"
   },
   "source": [
    "##### d. Repeat the mix_list_2 three times"
   ]
  },
  {
   "cell_type": "code",
   "execution_count": 28,
   "metadata": {
    "executionInfo": {
     "elapsed": 26,
     "status": "ok",
     "timestamp": 1677554880600,
     "user": {
      "displayName": "V. Arun Kumar",
      "userId": "02991517788843717529"
     },
     "user_tz": -330
    },
    "id": "AFIuMF-LDLX4"
   },
   "outputs": [
    {
     "name": "stdout",
     "output_type": "stream",
     "text": [
      "[4, 7, 'Summer', 4, 7, 'Summer', 4, 7, 'Summer']\n"
     ]
    }
   ],
   "source": [
    "mix_list_2 = [4, 7, 'Summer']\n",
    "print(mix_list_2*3)"
   ]
  },
  {
   "cell_type": "markdown",
   "metadata": {
    "id": "Wpb7mMItE0BJ"
   },
   "source": [
    "#### 9. Write the program to multiply the two lists\n",
    "\n",
    "**Lists to perform multiplication:**\n",
    "\n",
    "num_list_1 = [1, 2, 3, 4]\n",
    "\n",
    "num_list_2 = [0, 5, 2, 1]"
   ]
  },
  {
   "cell_type": "code",
   "execution_count": 30,
   "metadata": {
    "executionInfo": {
     "elapsed": 26,
     "status": "ok",
     "timestamp": 1677554880600,
     "user": {
      "displayName": "V. Arun Kumar",
      "userId": "02991517788843717529"
     },
     "user_tz": -330
    },
    "id": "OKZZQX1HDQkW"
   },
   "outputs": [
    {
     "name": "stdout",
     "output_type": "stream",
     "text": [
      "0\n",
      "10\n",
      "6\n",
      "4\n"
     ]
    }
   ],
   "source": [
    "num_list_1 = [1, 2, 3, 4]\n",
    "\n",
    "num_list_2 = [0, 5, 2, 1]\n",
    "for i in range(0,len(num_list_1)):\n",
    "    print(num_list_1[i]*num_list_2[i])"
   ]
  },
  {
   "cell_type": "markdown",
   "metadata": {
    "id": "jexb4TOwE8LE"
   },
   "source": [
    "The zip() function returns a zip object, which is an iterator of tuples where the first item in each passed iterator is paired together, and then the second item in each passed iterator are paired together etc."
   ]
  },
  {
   "cell_type": "code",
   "execution_count": 32,
   "metadata": {
    "executionInfo": {
     "elapsed": 24,
     "status": "ok",
     "timestamp": 1677554880600,
     "user": {
      "displayName": "V. Arun Kumar",
      "userId": "02991517788843717529"
     },
     "user_tz": -330
    },
    "id": "R6bDmjYHE7RV"
   },
   "outputs": [
    {
     "name": "stdout",
     "output_type": "stream",
     "text": [
      "[0, 10, 6, 4]\n"
     ]
    }
   ],
   "source": [
    "num=[i*j for i,j in zip(num_list_1,num_list_2)]\n",
    "print(num)"
   ]
  },
  {
   "cell_type": "markdown",
   "metadata": {
    "id": "CySGP5QLNO1C"
   },
   "source": [
    "#### 10. Write a code to retrieve elements from a list\n",
    "\n",
    "\n",
    "\n",
    "*   First element\n",
    "*   Second last element\n",
    "*   First three elements\n",
    "*   Slice the list from 1st index till the last index with an increment of an index by 2\n",
    "\n",
    "**Use the below list**\n",
    "\n",
    "mix_list = ['Python', 1, 2, 3, 'Data', True] \n",
    "\n",
    "\n",
    "\n",
    "\n",
    "\n",
    "\n"
   ]
  },
  {
   "cell_type": "code",
   "execution_count": 24,
   "metadata": {
    "executionInfo": {
     "elapsed": 24,
     "status": "ok",
     "timestamp": 1677554880601,
     "user": {
      "displayName": "V. Arun Kumar",
      "userId": "02991517788843717529"
     },
     "user_tz": -330
    },
    "id": "xVcUSZKBFKnC"
   },
   "outputs": [
    {
     "name": "stdout",
     "output_type": "stream",
     "text": [
      "Python\n"
     ]
    }
   ],
   "source": [
    "mix_list = ['Python', 1, 2, 3, 'Data', True]\n",
    "print(mix_list[0])\n"
   ]
  },
  {
   "cell_type": "code",
   "execution_count": 25,
   "metadata": {
    "executionInfo": {
     "elapsed": 24,
     "status": "ok",
     "timestamp": 1677554880601,
     "user": {
      "displayName": "V. Arun Kumar",
      "userId": "02991517788843717529"
     },
     "user_tz": -330
    },
    "id": "Jo6hKcRCNwbN"
   },
   "outputs": [
    {
     "name": "stdout",
     "output_type": "stream",
     "text": [
      "Data\n"
     ]
    }
   ],
   "source": [
    "mix_list = ['Python', 1, 2, 3, 'Data', True]\n",
    "print(mix_list[-2])"
   ]
  },
  {
   "cell_type": "code",
   "execution_count": 27,
   "metadata": {
    "executionInfo": {
     "elapsed": 25,
     "status": "ok",
     "timestamp": 1677554880602,
     "user": {
      "displayName": "V. Arun Kumar",
      "userId": "02991517788843717529"
     },
     "user_tz": -330
    },
    "id": "U7GvWAb6N1IC"
   },
   "outputs": [
    {
     "name": "stdout",
     "output_type": "stream",
     "text": [
      "['Python', 1, 2]\n"
     ]
    }
   ],
   "source": [
    "mix_list = ['Python', 1, 2, 3, 'Data', True]\n",
    "print(mix_list[0:3])"
   ]
  },
  {
   "cell_type": "code",
   "execution_count": 26,
   "metadata": {
    "executionInfo": {
     "elapsed": 25,
     "status": "ok",
     "timestamp": 1677554880602,
     "user": {
      "displayName": "V. Arun Kumar",
      "userId": "02991517788843717529"
     },
     "user_tz": -330
    },
    "id": "5cdQbYnCOCxU"
   },
   "outputs": [],
   "source": [
    "PRINT(mix_li)"
   ]
  },
  {
   "cell_type": "markdown",
   "metadata": {
    "id": "6ojHIWDGfVci"
   },
   "source": [
    "#### 11. Write a program to perform following built-in list operations:\n",
    "\n",
    "1. Min(list)\n",
    "2. Max(list)\n",
    "3. Sort the elements (use sort() and sorted() function)\n",
    "4. Create a copy of a list\n",
    "5. Remove element '5' from the list\n",
    "\n",
    "**Use the below list**\n",
    "\n",
    "num_list = [4, 5, 7, -2, 0, 1] \n",
    "\n"
   ]
  },
  {
   "cell_type": "code",
   "execution_count": 34,
   "metadata": {
    "executionInfo": {
     "elapsed": 24,
     "status": "ok",
     "timestamp": 1677554880602,
     "user": {
      "displayName": "V. Arun Kumar",
      "userId": "02991517788843717529"
     },
     "user_tz": -330
    },
    "id": "pGnXH5P7OHvv"
   },
   "outputs": [
    {
     "name": "stdout",
     "output_type": "stream",
     "text": [
      "-2\n"
     ]
    }
   ],
   "source": [
    "num_list = [4, 5, 7, -2, 0, 1]\n",
    "print(min(num_list ))"
   ]
  },
  {
   "cell_type": "code",
   "execution_count": 35,
   "metadata": {
    "executionInfo": {
     "elapsed": 25,
     "status": "ok",
     "timestamp": 1677554880603,
     "user": {
      "displayName": "V. Arun Kumar",
      "userId": "02991517788843717529"
     },
     "user_tz": -330
    },
    "id": "JQf2r-YbftVe"
   },
   "outputs": [
    {
     "name": "stdout",
     "output_type": "stream",
     "text": [
      "7\n"
     ]
    }
   ],
   "source": [
    "num_list = [4, 5, 7, -2, 0, 1]\n",
    "print(max(num_list))"
   ]
  },
  {
   "cell_type": "code",
   "execution_count": 37,
   "metadata": {
    "executionInfo": {
     "elapsed": 25,
     "status": "ok",
     "timestamp": 1677554880603,
     "user": {
      "displayName": "V. Arun Kumar",
      "userId": "02991517788843717529"
     },
     "user_tz": -330
    },
    "id": "Y1CQ7VaEfupJ"
   },
   "outputs": [
    {
     "name": "stdout",
     "output_type": "stream",
     "text": [
      "[-2, 0, 1, 4, 5, 7]\n"
     ]
    }
   ],
   "source": [
    "num_list = [4, 5, 7, -2, 0, 1]\n",
    "num_list.sort()\n",
    "print(num_list)"
   ]
  },
  {
   "cell_type": "code",
   "execution_count": 2,
   "metadata": {
    "executionInfo": {
     "elapsed": 25,
     "status": "ok",
     "timestamp": 1677554880603,
     "user": {
      "displayName": "V. Arun Kumar",
      "userId": "02991517788843717529"
     },
     "user_tz": -330
    },
    "id": "SJexnSUKfxec"
   },
   "outputs": [
    {
     "ename": "AttributeError",
     "evalue": "'list' object has no attribute 'sorted'",
     "output_type": "error",
     "traceback": [
      "\u001b[1;31m---------------------------------------------------------------------------\u001b[0m",
      "\u001b[1;31mAttributeError\u001b[0m                            Traceback (most recent call last)",
      "Cell \u001b[1;32mIn[2], line 2\u001b[0m\n\u001b[0;32m      1\u001b[0m num_list \u001b[38;5;241m=\u001b[39m [\u001b[38;5;241m4\u001b[39m, \u001b[38;5;241m5\u001b[39m, \u001b[38;5;241m7\u001b[39m, \u001b[38;5;241m-\u001b[39m\u001b[38;5;241m2\u001b[39m, \u001b[38;5;241m0\u001b[39m, \u001b[38;5;241m1\u001b[39m]\n\u001b[1;32m----> 2\u001b[0m num_list\u001b[38;5;241m.\u001b[39msorted()\n\u001b[0;32m      3\u001b[0m \u001b[38;5;28mprint\u001b[39m(num_sorted, num_list)\n",
      "\u001b[1;31mAttributeError\u001b[0m: 'list' object has no attribute 'sorted'"
     ]
    }
   ],
   "source": [
    "num_list = [4, 5, 7, -2, 0, 1]\n",
    "num_list.sorted()\n",
    "print(num_sorted, num_list)"
   ]
  },
  {
   "cell_type": "code",
   "execution_count": 39,
   "metadata": {
    "executionInfo": {
     "elapsed": 25,
     "status": "ok",
     "timestamp": 1677554880604,
     "user": {
      "displayName": "V. Arun Kumar",
      "userId": "02991517788843717529"
     },
     "user_tz": -330
    },
    "id": "f5Rl-JaFfze_"
   },
   "outputs": [
    {
     "name": "stdout",
     "output_type": "stream",
     "text": [
      "[4, 5, 7, -2, 0, 1]\n"
     ]
    }
   ],
   "source": [
    "num_list = [4, 5, 7, -2, 0, 1]\n",
    "my_list=num_list.copy()\n",
    "print(my_list)"
   ]
  },
  {
   "cell_type": "code",
   "execution_count": 40,
   "metadata": {
    "executionInfo": {
     "elapsed": 24,
     "status": "ok",
     "timestamp": 1677554880604,
     "user": {
      "displayName": "V. Arun Kumar",
      "userId": "02991517788843717529"
     },
     "user_tz": -330
    },
    "id": "uoN01aXghk6p"
   },
   "outputs": [
    {
     "name": "stdout",
     "output_type": "stream",
     "text": [
      "[4, 7, -2, 0, 1]\n"
     ]
    }
   ],
   "source": [
    "num_list = [4, 5, 7, -2, 0, 1]\n",
    "num_list.remove(5)\n",
    "print(num_list)"
   ]
  },
  {
   "cell_type": "markdown",
   "metadata": {
    "id": "xFiMXerqh98B"
   },
   "source": [
    "#### 12. Use the below list and perform the mentioned operations.\n",
    "languages_list = ['R', 'Python', 'C', 'Java']\n",
    "\n",
    "1. Add a new element 'Data' in the given list\n",
    "2. Add a new element 'Science' at index 1 in the given list.\n",
    "3. Add elements 'Excel' and 'Data' in the given list\n",
    "4. Replace an element 'C' with 'C++' in the given list"
   ]
  },
  {
   "cell_type": "code",
   "execution_count": 41,
   "metadata": {
    "executionInfo": {
     "elapsed": 24,
     "status": "ok",
     "timestamp": 1677554880605,
     "user": {
      "displayName": "V. Arun Kumar",
      "userId": "02991517788843717529"
     },
     "user_tz": -330
    },
    "id": "O4sgSQEZ3ARy"
   },
   "outputs": [
    {
     "name": "stdout",
     "output_type": "stream",
     "text": [
      "['R', 'Python', 'C', 'Java', 'Data']\n"
     ]
    }
   ],
   "source": [
    "languages_list = ['R', 'Python', 'C', 'Java']\n",
    "languages_list.append(\"Data\")\n",
    "print(languages_list)"
   ]
  },
  {
   "cell_type": "code",
   "execution_count": 44,
   "metadata": {
    "executionInfo": {
     "elapsed": 24,
     "status": "ok",
     "timestamp": 1677554880605,
     "user": {
      "displayName": "V. Arun Kumar",
      "userId": "02991517788843717529"
     },
     "user_tz": -330
    },
    "id": "ZrxkCP2c2WXF"
   },
   "outputs": [
    {
     "name": "stdout",
     "output_type": "stream",
     "text": [
      "['R', 'Science', 'Python', 'C', 'Java']\n"
     ]
    }
   ],
   "source": [
    "languages_list = ['R', 'Python', 'C', 'Java']\n",
    "languages_list.insert(1,\"Science\")\n",
    "print(languages_list)"
   ]
  },
  {
   "cell_type": "code",
   "execution_count": 3,
   "metadata": {
    "executionInfo": {
     "elapsed": 25,
     "status": "ok",
     "timestamp": 1677554880606,
     "user": {
      "displayName": "V. Arun Kumar",
      "userId": "02991517788843717529"
     },
     "user_tz": -330
    },
    "id": "u4YTjPoN2o72"
   },
   "outputs": [
    {
     "ename": "NameError",
     "evalue": "name 'languages_list' is not defined",
     "output_type": "error",
     "traceback": [
      "\u001b[1;31m---------------------------------------------------------------------------\u001b[0m",
      "\u001b[1;31mNameError\u001b[0m                                 Traceback (most recent call last)",
      "Cell \u001b[1;32mIn[3], line 1\u001b[0m\n\u001b[1;32m----> 1\u001b[0m languages_list\u001b[38;5;241m.\u001b[39mextend(\u001b[38;5;124m\"\u001b[39m\u001b[38;5;124mExcel\u001b[39m\u001b[38;5;124m\"\u001b[39m,\u001b[38;5;124m\"\u001b[39m\u001b[38;5;124mData\u001b[39m\u001b[38;5;124m\"\u001b[39m)\n\u001b[0;32m      2\u001b[0m \u001b[38;5;28mprint\u001b[39m(languages_list)\n",
      "\u001b[1;31mNameError\u001b[0m: name 'languages_list' is not defined"
     ]
    }
   ],
   "source": [
    "languages_list.extend(\"Excel\",\"Data\")\n",
    "print(languages_list)\n"
   ]
  },
  {
   "cell_type": "code",
   "execution_count": 47,
   "metadata": {
    "executionInfo": {
     "elapsed": 24,
     "status": "ok",
     "timestamp": 1677554880606,
     "user": {
      "displayName": "V. Arun Kumar",
      "userId": "02991517788843717529"
     },
     "user_tz": -330
    },
    "id": "CpLvIZdA2xms"
   },
   "outputs": [
    {
     "ename": "AttributeError",
     "evalue": "'list' object has no attribute 'replace'",
     "output_type": "error",
     "traceback": [
      "\u001b[1;31m---------------------------------------------------------------------------\u001b[0m",
      "\u001b[1;31mAttributeError\u001b[0m                            Traceback (most recent call last)",
      "Cell \u001b[1;32mIn[47], line 2\u001b[0m\n\u001b[0;32m      1\u001b[0m languages_list \u001b[38;5;241m=\u001b[39m [\u001b[38;5;124m'\u001b[39m\u001b[38;5;124mR\u001b[39m\u001b[38;5;124m'\u001b[39m, \u001b[38;5;124m'\u001b[39m\u001b[38;5;124mPython\u001b[39m\u001b[38;5;124m'\u001b[39m, \u001b[38;5;124m'\u001b[39m\u001b[38;5;124mC\u001b[39m\u001b[38;5;124m'\u001b[39m, \u001b[38;5;124m'\u001b[39m\u001b[38;5;124mJava\u001b[39m\u001b[38;5;124m'\u001b[39m]\n\u001b[1;32m----> 2\u001b[0m languages_list\u001b[38;5;241m.\u001b[39mreplace(\u001b[38;5;124m'\u001b[39m\u001b[38;5;124mC\u001b[39m\u001b[38;5;124m'\u001b[39m,\u001b[38;5;124m\"\u001b[39m\u001b[38;5;124mC++\u001b[39m\u001b[38;5;124m\"\u001b[39m)\n\u001b[0;32m      3\u001b[0m \u001b[38;5;28mprint\u001b[39m(languages_list)\n",
      "\u001b[1;31mAttributeError\u001b[0m: 'list' object has no attribute 'replace'"
     ]
    }
   ],
   "source": [
    "languages_list = ['R', 'Python', 'C', 'Java']\n",
    "languages_list.replace('C',\"C++\")\n",
    "print(languages_list)"
   ]
  },
  {
   "cell_type": "code",
   "execution_count": 26,
   "metadata": {
    "executionInfo": {
     "elapsed": 24,
     "status": "ok",
     "timestamp": 1677554880606,
     "user": {
      "displayName": "V. Arun Kumar",
      "userId": "02991517788843717529"
     },
     "user_tz": -330
    },
    "id": "Thdp58Cj3AR0"
   },
   "outputs": [],
   "source": []
  },
  {
   "cell_type": "code",
   "execution_count": 26,
   "metadata": {
    "executionInfo": {
     "elapsed": 24,
     "status": "ok",
     "timestamp": 1677554880607,
     "user": {
      "displayName": "V. Arun Kumar",
      "userId": "02991517788843717529"
     },
     "user_tz": -330
    },
    "id": "_9U40ZyG3AR1"
   },
   "outputs": [],
   "source": []
  },
  {
   "cell_type": "markdown",
   "metadata": {
    "id": "DkyGBYX5ilBB"
   },
   "source": [
    "can't use replace function in list to make it ['R', 'Python', 'C++', 'Java', 'Excel', 'Data']\n",
    "\n",
    "we can replace particular character in a string with another one using for loops\n"
   ]
  },
  {
   "cell_type": "code",
   "execution_count": 26,
   "metadata": {
    "executionInfo": {
     "elapsed": 24,
     "status": "ok",
     "timestamp": 1677554880607,
     "user": {
      "displayName": "V. Arun Kumar",
      "userId": "02991517788843717529"
     },
     "user_tz": -330
    },
    "id": "SSoGYoBph38u"
   },
   "outputs": [],
   "source": []
  },
  {
   "cell_type": "code",
   "execution_count": 26,
   "metadata": {
    "executionInfo": {
     "elapsed": 23,
     "status": "ok",
     "timestamp": 1677554880607,
     "user": {
      "displayName": "V. Arun Kumar",
      "userId": "02991517788843717529"
     },
     "user_tz": -330
    },
    "id": "G55zDfPsh36G"
   },
   "outputs": [],
   "source": []
  },
  {
   "cell_type": "markdown",
   "metadata": {
    "id": "5X0aZ-kGg7yw"
   },
   "source": [
    "#### 13. How many times 'Summer' is occuring in a given list?\n",
    "\n",
    "Use the below list\n",
    "\n",
    "seasons_list = ['Summer', 'Winter', 'Spring', 'Winter', 'Spring' ,'Summer', 'Spring', 'Summer', 'Winter', 'Summer', 'Spring']"
   ]
  },
  {
   "cell_type": "code",
   "execution_count": 26,
   "metadata": {
    "executionInfo": {
     "elapsed": 24,
     "status": "ok",
     "timestamp": 1677554880608,
     "user": {
      "displayName": "V. Arun Kumar",
      "userId": "02991517788843717529"
     },
     "user_tz": -330
    },
    "id": "JBWaLvlxi9ns"
   },
   "outputs": [],
   "source": []
  },
  {
   "cell_type": "markdown",
   "metadata": {
    "id": "uZY8JPaKqBkH"
   },
   "source": [
    "#### 14. Perform the below operations on the tuple given:\n",
    "\n",
    "**Tuples to perform operations:**\n",
    "\n",
    "num_tuple = (4, 4, 8)\n",
    "\n",
    "mix_tuple = ('John', 5, -2)\n",
    "\n",
    "1. Check the length of num_tuple\n",
    "2. Concatenate the num_tuple and mix_tuple\n",
    "3. Repeat the mix_tuple two times\n"
   ]
  },
  {
   "cell_type": "markdown",
   "metadata": {
    "id": "BVfkuy7sqTvf"
   },
   "source": [
    "Tuples can be sliced and indexed"
   ]
  },
  {
   "cell_type": "code",
   "execution_count": 26,
   "metadata": {
    "executionInfo": {
     "elapsed": 22,
     "status": "ok",
     "timestamp": 1677554880608,
     "user": {
      "displayName": "V. Arun Kumar",
      "userId": "02991517788843717529"
     },
     "user_tz": -330
    },
    "id": "fUAQb-oOjB41"
   },
   "outputs": [],
   "source": []
  },
  {
   "cell_type": "code",
   "execution_count": 26,
   "metadata": {
    "executionInfo": {
     "elapsed": 16,
     "status": "ok",
     "timestamp": 1677554881451,
     "user": {
      "displayName": "V. Arun Kumar",
      "userId": "02991517788843717529"
     },
     "user_tz": -330
    },
    "id": "gB8uPcZZqW2K"
   },
   "outputs": [],
   "source": []
  },
  {
   "cell_type": "code",
   "execution_count": 26,
   "metadata": {
    "executionInfo": {
     "elapsed": 17,
     "status": "ok",
     "timestamp": 1677554881452,
     "user": {
      "displayName": "V. Arun Kumar",
      "userId": "02991517788843717529"
     },
     "user_tz": -330
    },
    "id": "dvc-0B29qYxA"
   },
   "outputs": [],
   "source": []
  },
  {
   "cell_type": "markdown",
   "metadata": {
    "id": "uAyLOveJqj0J"
   },
   "source": [
    "#### 15. Add a new element '4' to the given tuple without converting it to a list\n",
    "\n",
    "**Use the tuple below:**\n",
    "\n",
    "mix_tuple = (['a', 1, True], 2, 'Science', -5)\n",
    "\n"
   ]
  },
  {
   "cell_type": "code",
   "execution_count": 26,
   "metadata": {
    "executionInfo": {
     "elapsed": 16,
     "status": "ok",
     "timestamp": 1677554881452,
     "user": {
      "displayName": "V. Arun Kumar",
      "userId": "02991517788843717529"
     },
     "user_tz": -330
    },
    "id": "ZfukFBKnqcy0"
   },
   "outputs": [],
   "source": []
  },
  {
   "cell_type": "code",
   "execution_count": 26,
   "metadata": {
    "executionInfo": {
     "elapsed": 16,
     "status": "ok",
     "timestamp": 1677554881452,
     "user": {
      "displayName": "V. Arun Kumar",
      "userId": "02991517788843717529"
     },
     "user_tz": -330
    },
    "id": "a09HUSo3qygp"
   },
   "outputs": [],
   "source": []
  },
  {
   "cell_type": "markdown",
   "metadata": {
    "id": "talfA_fKsJhh"
   },
   "source": [
    "#### 16. Replace the elements in the given tuple:\n",
    "\n",
    "**Use the tuple below:**\n",
    "\n",
    "mix_tuple = (['a', 1, True], 2, 'Science', -5)\n",
    "\n",
    "<br>\n",
    "                        a. Replace '2' with '3'<br>\n",
    "                        b. Replace 'True' in first element with 'False'"
   ]
  },
  {
   "cell_type": "code",
   "execution_count": 26,
   "metadata": {
    "executionInfo": {
     "elapsed": 17,
     "status": "ok",
     "timestamp": 1677554881453,
     "user": {
      "displayName": "V. Arun Kumar",
      "userId": "02991517788843717529"
     },
     "user_tz": -330
    },
    "id": "qct4WEtJq5sT"
   },
   "outputs": [],
   "source": []
  },
  {
   "cell_type": "code",
   "execution_count": 26,
   "metadata": {
    "executionInfo": {
     "elapsed": 17,
     "status": "ok",
     "timestamp": 1677554881453,
     "user": {
      "displayName": "V. Arun Kumar",
      "userId": "02991517788843717529"
     },
     "user_tz": -330
    },
    "id": "X7onIzXAsZaL"
   },
   "outputs": [],
   "source": []
  },
  {
   "cell_type": "code",
   "execution_count": 26,
   "metadata": {
    "executionInfo": {
     "elapsed": 16,
     "status": "ok",
     "timestamp": 1677554881453,
     "user": {
      "displayName": "V. Arun Kumar",
      "userId": "02991517788843717529"
     },
     "user_tz": -330
    },
    "id": "fVbGp4Ptsbto"
   },
   "outputs": [],
   "source": []
  },
  {
   "cell_type": "code",
   "execution_count": 26,
   "metadata": {
    "executionInfo": {
     "elapsed": 16,
     "status": "ok",
     "timestamp": 1677554881453,
     "user": {
      "displayName": "V. Arun Kumar",
      "userId": "02991517788843717529"
     },
     "user_tz": -330
    },
    "id": "g0SAXhBbsqjb"
   },
   "outputs": [],
   "source": []
  },
  {
   "cell_type": "markdown",
   "metadata": {
    "id": "SRLJx5f3tvhi"
   },
   "source": [
    "#### 17. Write the program to perform following manipulations:\n",
    "\n",
    "a. Add '7' to the given set<br>\n",
    "b. Remove '3' from a given set<br>\n",
    "c. Clear the set\n",
    "\n",
    "**Use the below set for manipulation**\n",
    "\n",
    "num_set = {1, 2, 3, 4, 5, 6}"
   ]
  },
  {
   "cell_type": "markdown",
   "metadata": {
    "id": "uCVRKU6duGG-"
   },
   "source": [
    "no repetitions\n",
    "\n",
    "ordered set of inputs with homogeneous data"
   ]
  },
  {
   "cell_type": "code",
   "execution_count": 26,
   "metadata": {
    "executionInfo": {
     "elapsed": 18,
     "status": "ok",
     "timestamp": 1677554881455,
     "user": {
      "displayName": "V. Arun Kumar",
      "userId": "02991517788843717529"
     },
     "user_tz": -330
    },
    "id": "uQCFRcmWtzww"
   },
   "outputs": [],
   "source": []
  },
  {
   "cell_type": "code",
   "execution_count": 26,
   "metadata": {
    "executionInfo": {
     "elapsed": 18,
     "status": "ok",
     "timestamp": 1677554881455,
     "user": {
      "displayName": "V. Arun Kumar",
      "userId": "02991517788843717529"
     },
     "user_tz": -330
    },
    "id": "byWYvL2nuMP4"
   },
   "outputs": [],
   "source": []
  },
  {
   "cell_type": "code",
   "execution_count": 26,
   "metadata": {
    "executionInfo": {
     "elapsed": 18,
     "status": "ok",
     "timestamp": 1677554881455,
     "user": {
      "displayName": "V. Arun Kumar",
      "userId": "02991517788843717529"
     },
     "user_tz": -330
    },
    "id": "QEIO3GCyuOvz"
   },
   "outputs": [],
   "source": []
  },
  {
   "cell_type": "markdown",
   "metadata": {
    "id": "L7EY2rEEvGkZ"
   },
   "source": [
    "#### 18. Create two sets of words from the given sentences and perform the following operations:\n",
    "\n",
    " a. Find the count of unique words in each of the sentence<br> \n",
    "                        b. Find the common words in both the sentences<br>\n",
    "                        c. Find the unique words in both the sentences\n",
    "                       </b>\n",
    "\n",
    "**Use the sentences given below:**\n",
    "    \n",
    "sentence_1 = 'We we shall analyse the data using python' \n",
    "\n",
    "sentence_2 = 'Python for data science'"
   ]
  },
  {
   "cell_type": "code",
   "execution_count": 26,
   "metadata": {
    "executionInfo": {
     "elapsed": 18,
     "status": "ok",
     "timestamp": 1677554881456,
     "user": {
      "displayName": "V. Arun Kumar",
      "userId": "02991517788843717529"
     },
     "user_tz": -330
    },
    "id": "rozFfko1uQwj"
   },
   "outputs": [],
   "source": []
  },
  {
   "cell_type": "code",
   "execution_count": 26,
   "metadata": {
    "executionInfo": {
     "elapsed": 18,
     "status": "ok",
     "timestamp": 1677554881456,
     "user": {
      "displayName": "V. Arun Kumar",
      "userId": "02991517788843717529"
     },
     "user_tz": -330
    },
    "id": "X6AnxKarvU-U"
   },
   "outputs": [],
   "source": []
  },
  {
   "cell_type": "code",
   "execution_count": 26,
   "metadata": {
    "executionInfo": {
     "elapsed": 18,
     "status": "ok",
     "timestamp": 1677554881456,
     "user": {
      "displayName": "V. Arun Kumar",
      "userId": "02991517788843717529"
     },
     "user_tz": -330
    },
    "id": "G-Kp0S3e2m4u"
   },
   "outputs": [],
   "source": []
  },
  {
   "cell_type": "code",
   "execution_count": 26,
   "metadata": {
    "executionInfo": {
     "elapsed": 18,
     "status": "ok",
     "timestamp": 1677554881457,
     "user": {
      "displayName": "V. Arun Kumar",
      "userId": "02991517788843717529"
     },
     "user_tz": -330
    },
    "id": "N5nHMCPw2r-2"
   },
   "outputs": [],
   "source": []
  },
  {
   "cell_type": "markdown",
   "metadata": {
    "id": "dWie7hy32253"
   },
   "source": [
    "#### 19. Write a program to perform following set operations:\n",
    "\n",
    "<br>\n",
    "                        a. Set of all the elements of set A that are not in set B<br>\n",
    "                        b. Set of all the elements of set B that are not in set A<br>\n",
    "                        c. Symmetric difference\n",
    "\n",
    "\n",
    "A = {1, 4, 5, 2, 6, 3, 40, 7, 87, 4, 71}\n",
    "\n",
    "B = {3, 42, 51, 6, 7, 8, 54, 5}"
   ]
  },
  {
   "cell_type": "code",
   "execution_count": 26,
   "metadata": {
    "executionInfo": {
     "elapsed": 18,
     "status": "ok",
     "timestamp": 1677554881457,
     "user": {
      "displayName": "V. Arun Kumar",
      "userId": "02991517788843717529"
     },
     "user_tz": -330
    },
    "id": "haSIqJ3_2xqA"
   },
   "outputs": [],
   "source": []
  },
  {
   "cell_type": "code",
   "execution_count": 26,
   "metadata": {
    "executionInfo": {
     "elapsed": 18,
     "status": "ok",
     "timestamp": 1677554881457,
     "user": {
      "displayName": "V. Arun Kumar",
      "userId": "02991517788843717529"
     },
     "user_tz": -330
    },
    "id": "UIBMv2Us3MyY"
   },
   "outputs": [],
   "source": []
  },
  {
   "cell_type": "code",
   "execution_count": 26,
   "metadata": {
    "executionInfo": {
     "elapsed": 18,
     "status": "ok",
     "timestamp": 1677554881457,
     "user": {
      "displayName": "V. Arun Kumar",
      "userId": "02991517788843717529"
     },
     "user_tz": -330
    },
    "id": "TLp4SO3r3PmI"
   },
   "outputs": [],
   "source": []
  },
  {
   "cell_type": "code",
   "execution_count": 26,
   "metadata": {
    "executionInfo": {
     "elapsed": 19,
     "status": "ok",
     "timestamp": 1677554881458,
     "user": {
      "displayName": "V. Arun Kumar",
      "userId": "02991517788843717529"
     },
     "user_tz": -330
    },
    "id": "JnNV2p883YDD"
   },
   "outputs": [],
   "source": []
  },
  {
   "cell_type": "markdown",
   "metadata": {
    "id": "78uyIYT54TRX"
   },
   "source": [
    "#### 20. Write a code to perform below operations on the given dictionary\n",
    "\n",
    "Use the given dictionary and add a key (4:16)\n",
    "\n",
    "square_dictionary = {1:1, 2:4, 3:9}\n",
    "\n",
    "a. add a key to a dictionary\n",
    "\n",
    "b. retrieve the value given a key\n"
   ]
  },
  {
   "cell_type": "code",
   "execution_count": 26,
   "metadata": {
    "executionInfo": {
     "elapsed": 18,
     "status": "ok",
     "timestamp": 1677554881458,
     "user": {
      "displayName": "V. Arun Kumar",
      "userId": "02991517788843717529"
     },
     "user_tz": -330
    },
    "id": "rJPQHsJo3ejz"
   },
   "outputs": [],
   "source": []
  },
  {
   "cell_type": "code",
   "execution_count": 26,
   "metadata": {
    "executionInfo": {
     "elapsed": 18,
     "status": "ok",
     "timestamp": 1677554881458,
     "user": {
      "displayName": "V. Arun Kumar",
      "userId": "02991517788843717529"
     },
     "user_tz": -330
    },
    "id": "Z1a7r5jy4aXH"
   },
   "outputs": [],
   "source": []
  },
  {
   "cell_type": "markdown",
   "metadata": {
    "id": "eRN6Bd7j5dSd"
   },
   "source": [
    "#### 21. Use the keys and values to create a dictionary\n",
    "\n",
    "key = ['a','b','c','d']\n",
    "\n",
    "value = [1, 2, 3, 4]"
   ]
  },
  {
   "cell_type": "code",
   "execution_count": 26,
   "metadata": {
    "executionInfo": {
     "elapsed": 17,
     "status": "ok",
     "timestamp": 1677554881458,
     "user": {
      "displayName": "V. Arun Kumar",
      "userId": "02991517788843717529"
     },
     "user_tz": -330
    },
    "id": "JOPxfWpy40HK"
   },
   "outputs": [],
   "source": []
  },
  {
   "cell_type": "markdown",
   "metadata": {
    "id": "BMlMGP3M5oMf"
   },
   "source": [
    "#### 22. Set the country of an employee as 'India' in the given employee record\n",
    "\n",
    "Use the dictionary\n",
    "\n",
    "emp_record = {'Emp_ID': 'ES001', 'Weight': 67, 'BMI': 25, 'Age': 27, 'Profession': 'CA'}"
   ]
  },
  {
   "cell_type": "code",
   "execution_count": 26,
   "metadata": {
    "executionInfo": {
     "elapsed": 18,
     "status": "ok",
     "timestamp": 1677554881459,
     "user": {
      "displayName": "V. Arun Kumar",
      "userId": "02991517788843717529"
     },
     "user_tz": -330
    },
    "id": "8UbcAGdC5g5O"
   },
   "outputs": [],
   "source": []
  },
  {
   "cell_type": "markdown",
   "metadata": {
    "id": "MfYPRSHJ61IG"
   },
   "source": [
    "#### 23. Use list comprehension to obtain the squre root of first 10 natural numbers."
   ]
  },
  {
   "cell_type": "code",
   "execution_count": 5,
   "metadata": {
    "executionInfo": {
     "elapsed": 17,
     "status": "ok",
     "timestamp": 1677554881459,
     "user": {
      "displayName": "V. Arun Kumar",
      "userId": "02991517788843717529"
     },
     "user_tz": -330
    },
    "id": "NwDM7XL-5wYG"
   },
   "outputs": [
    {
     "name": "stdout",
     "output_type": "stream",
     "text": [
      "[0.5, 1.0, 1.5, 2.0, 2.5, 3.0, 3.5, 4.0, 4.5, 5.0]\n"
     ]
    }
   ],
   "source": [
    "list=[i**1/2 for i in range(1,11)]\n",
    "print(list)"
   ]
  },
  {
   "cell_type": "markdown",
   "metadata": {
    "id": "cS6-waZ-7Cnd"
   },
   "source": [
    "#### 24. Use list comprehension to find the used vowels in a given sentence and/or word (take the input from user)."
   ]
  },
  {
   "cell_type": "code",
   "execution_count": 6,
   "metadata": {
    "executionInfo": {
     "elapsed": 17,
     "status": "ok",
     "timestamp": 1677554881459,
     "user": {
      "displayName": "V. Arun Kumar",
      "userId": "02991517788843717529"
     },
     "user_tz": -330
    },
    "id": "umRWOzfI64b2"
   },
   "outputs": [
    {
     "ename": "SyntaxError",
     "evalue": "invalid syntax (4147744922.py, line 3)",
     "output_type": "error",
     "traceback": [
      "\u001b[1;36m  Cell \u001b[1;32mIn[6], line 3\u001b[1;36m\u001b[0m\n\u001b[1;33m    list1=[ if i==\"a\" or i==\"e\" or i==\"o\" or i==\"u\" or i==\"i\" else i for i in string ]\u001b[0m\n\u001b[1;37m            ^\u001b[0m\n\u001b[1;31mSyntaxError\u001b[0m\u001b[1;31m:\u001b[0m invalid syntax\n"
     ]
    }
   ],
   "source": [
    "n=int(input(\"Enter the string\"))\n"
   ]
  },
  {
   "cell_type": "markdown",
   "metadata": {
    "id": "zyQzKvnJ7aqV"
   },
   "source": [
    "#### 25. Create a dictionary and access it values using a condition on its key. The data is given below. Let the condidtion on the key is that it should be a even number.\n",
    "\n",
    "<table>\n",
    "<tr>\n",
    "    <th>Key</th>\n",
    "    <td>1</td>\n",
    "    <td>2</td>\n",
    "    <td>3</td>\n",
    "    <td>4</td> \n",
    "    <td>5</td> \n",
    "</tr>\n",
    "<tr>\n",
    "    <th>Name</th>\n",
    "    <td>Aman</td>\n",
    "    <td>Mohit</td>\n",
    "    <td>Guari</td>\n",
    "    <td>Imran</td>\n",
    "    <td>Roma</td\n",
    "     </tr>\n",
    "<tr>\n",
    "    <th>Marks</th>\n",
    "    <td>24</td>\n",
    "    <td>25</td>\n",
    "    <td>26</td>\n",
    "    <td>24</td>\n",
    "    <td>27</td>\n",
    "   </tr>\n",
    "</table>"
   ]
  },
  {
   "cell_type": "code",
   "execution_count": 26,
   "metadata": {
    "executionInfo": {
     "elapsed": 18,
     "status": "ok",
     "timestamp": 1677554881460,
     "user": {
      "displayName": "V. Arun Kumar",
      "userId": "02991517788843717529"
     },
     "user_tz": -330
    },
    "id": "_SdC81RU7GM6"
   },
   "outputs": [],
   "source": []
  },
  {
   "cell_type": "markdown",
   "metadata": {
    "id": "crBVgost7oAO"
   },
   "source": [
    "#### 26. Use list comprehension to find even and odd numbers from first 20 whole numbers."
   ]
  },
  {
   "cell_type": "code",
   "execution_count": 7,
   "metadata": {
    "executionInfo": {
     "elapsed": 18,
     "status": "ok",
     "timestamp": 1677554881460,
     "user": {
      "displayName": "V. Arun Kumar",
      "userId": "02991517788843717529"
     },
     "user_tz": -330
    },
    "id": "AZidK99s7gWh"
   },
   "outputs": [
    {
     "name": "stdout",
     "output_type": "stream",
     "text": [
      "[0, 2, 4, 6, 8, 10, 12, 14, 16, 18, 20]\n",
      "[1, 3, 5, 7, 9, 11, 13, 15, 17, 19]\n"
     ]
    }
   ],
   "source": [
    "li_even=[i for i in range(0,21) if i%2==0]\n",
    "li_odd=[i for i in range(0,21) if i%2!=0]\n",
    "print(li_even)\n",
    "print(li_odd)"
   ]
  },
  {
   "cell_type": "markdown",
   "metadata": {
    "id": "GfFxftzJ70Bo"
   },
   "source": [
    "#### 27. Use list comprehension to create a dictionary such that its keys are numbers from 1 to 10 and values are the corresponding to that key are its cube."
   ]
  },
  {
   "cell_type": "code",
   "execution_count": 10,
   "metadata": {
    "executionInfo": {
     "elapsed": 19,
     "status": "ok",
     "timestamp": 1677554881461,
     "user": {
      "displayName": "V. Arun Kumar",
      "userId": "02991517788843717529"
     },
     "user_tz": -330
    },
    "id": "CzbCOTIm7qrl"
   },
   "outputs": [
    {
     "name": "stdout",
     "output_type": "stream",
     "text": [
      "{1: 1, 2: 8, 3: 27, 4: 64, 5: 125, 6: 216, 7: 343, 8: 512, 9: 729, 10: 1000}\n"
     ]
    }
   ],
   "source": [
    "dic={i:i**3 for i in range(1,11)}\n",
    "print(dic)"
   ]
  },
  {
   "cell_type": "markdown",
   "metadata": {
    "id": "ISXMiWwS7-6Q"
   },
   "source": [
    " 28. Use list comprehension to print table of 11 to 20 as shown below.\n",
    "\n"
   ]
  },
  {
   "cell_type": "code",
   "execution_count": 26,
   "metadata": {
    "executionInfo": {
     "elapsed": 19,
     "status": "ok",
     "timestamp": 1677554881461,
     "user": {
      "displayName": "V. Arun Kumar",
      "userId": "02991517788843717529"
     },
     "user_tz": -330
    },
    "id": "J-x6AGr37283"
   },
   "outputs": [],
   "source": []
  },
  {
   "cell_type": "markdown",
   "metadata": {
    "id": "8QZQQeA98PsH"
   },
   "source": [
    "#### 29. Use list comprehension to find transpose of the matrix given below.\n",
    "\n",
    "<table>\n",
    "    <tr>\n",
    "        <td>1</td>\n",
    "        <td>2</td>\n",
    "    </tr>\n",
    "    <tr>\n",
    "        <td>3</td>\n",
    "        <td>4</td>\n",
    "    </tr>\n",
    "    <tr>\n",
    "        <td>5</td>\n",
    "        <td>6</td>\n",
    "    </tr>\n",
    "    <tr>\n",
    "        <td>7</td>\n",
    "        <td>8</td>\n",
    "    </tr>\n",
    "    </table>"
   ]
  },
  {
   "cell_type": "code",
   "execution_count": 26,
   "metadata": {
    "executionInfo": {
     "elapsed": 19,
     "status": "ok",
     "timestamp": 1677554881461,
     "user": {
      "displayName": "V. Arun Kumar",
      "userId": "02991517788843717529"
     },
     "user_tz": -330
    },
    "id": "siVjZ0Oq8HVV"
   },
   "outputs": [],
   "source": []
  },
  {
   "cell_type": "markdown",
   "metadata": {
    "id": "51d9pXZg_Umj"
   },
   "source": [
    "## Happy Learning :)"
   ]
  }
 ],
 "metadata": {
  "colab": {
   "provenance": []
  },
  "kernelspec": {
   "display_name": "Python 3 (ipykernel)",
   "language": "python",
   "name": "python3"
  },
  "language_info": {
   "codemirror_mode": {
    "name": "ipython",
    "version": 3
   },
   "file_extension": ".py",
   "mimetype": "text/x-python",
   "name": "python",
   "nbconvert_exporter": "python",
   "pygments_lexer": "ipython3",
   "version": "3.11.5"
  }
 },
 "nbformat": 4,
 "nbformat_minor": 1
}
