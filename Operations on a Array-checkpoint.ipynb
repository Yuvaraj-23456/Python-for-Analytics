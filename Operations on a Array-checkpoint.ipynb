{
 "cells": [
  {
   "cell_type": "markdown",
   "metadata": {
    "colab_type": "text",
    "id": "fuVrsAUzWhBn"
   },
   "source": [
    "#### 1. Write a program to find BMI of the patients whose height and weight is provided in the list given below"
   ]
  },
  {
   "cell_type": "markdown",
   "metadata": {
    "colab_type": "text",
    "id": "ZVMmbrQGWqwC"
   },
   "source": [
    "Use the lists given below:\n",
    "\n",
    "list of weights (in kg) weights = [57, 69, 54, 65 ,71, 62, 56]\n",
    "\n",
    "list of heights (in m)\n",
    "heights = [1.59, 1.75, 1.66, 1.74, 1.64, 1.72, 1.53]"
   ]
  },
  {
   "cell_type": "code",
   "execution_count": 5,
   "metadata": {},
   "outputs": [],
   "source": [
    "weights = [57, 69, 54, 65 ,71, 62, 56]\n",
    "heights = [1.59, 1.75, 1.66, 1.74, 1.64, 1.72, 1.53]\n",
    "\n",
    "# convert the list to array\n",
    "\n",
    "\n",
    "# formula to calculate BMI\n"
   ]
  },
  {
   "cell_type": "code",
   "execution_count": 11,
   "metadata": {
    "colab": {},
    "colab_type": "code",
    "id": "qdn4-UzBZR-T"
   },
   "outputs": [
    {
     "name": "stdout",
     "output_type": "stream",
     "text": [
      "[57 69 54 65 71 62 56]\n",
      "[1.59 1.75 1.66 1.74 1.64 1.72 1.53]\n",
      "[2.5281 3.0625 2.7556 3.0276 2.6896 2.9584 2.3409]\n",
      "[22.54657648 22.53061224 19.59645812 21.46915048 26.39797739 20.9572742\n",
      " 23.922423  ]\n"
     ]
    }
   ],
   "source": [
    "import numpy as np\n",
    "arr1=np.array(weights)\n",
    "arr2=np.array(heights)\n",
    "print(arr1)\n",
    "print(arr2)\n",
    "arr3=arr2**2\n",
    "print(arr3)\n",
    "arr4=arr1/arr3\n",
    "print(arr4)"
   ]
  }
 ],
 "metadata": {
  "colab": {
   "collapsed_sections": [],
   "name": "Numpy.ipynb",
   "provenance": []
  },
  "kernelspec": {
   "display_name": "Python 3 (ipykernel)",
   "language": "python",
   "name": "python3"
  },
  "language_info": {
   "codemirror_mode": {
    "name": "ipython",
    "version": 3
   },
   "file_extension": ".py",
   "mimetype": "text/x-python",
   "name": "python",
   "nbconvert_exporter": "python",
   "pygments_lexer": "ipython3",
   "version": "3.11.5"
  }
 },
 "nbformat": 4,
 "nbformat_minor": 1
}
